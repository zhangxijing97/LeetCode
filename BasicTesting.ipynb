{
 "cells": [
  {
   "cell_type": "code",
   "execution_count": 5,
   "id": "0334d66e",
   "metadata": {},
   "outputs": [
    {
     "data": {
      "text/plain": [
       "8"
      ]
     },
     "execution_count": 5,
     "metadata": {},
     "output_type": "execute_result"
    }
   ],
   "source": [
    "l = [5, 3, 8, 6, 2, 8, 9, 1]\n",
    "len(l)"
   ]
  },
  {
   "cell_type": "code",
   "execution_count": 8,
   "id": "0fd1e842",
   "metadata": {},
   "outputs": [
    {
     "data": {
      "text/plain": [
       "2"
      ]
     },
     "execution_count": 8,
     "metadata": {},
     "output_type": "execute_result"
    }
   ],
   "source": [
    "l.index(8)"
   ]
  },
  {
   "cell_type": "code",
   "execution_count": 7,
   "id": "d8806ff7",
   "metadata": {},
   "outputs": [
    {
     "data": {
      "text/plain": [
       "1"
      ]
     },
     "execution_count": 7,
     "metadata": {},
     "output_type": "execute_result"
    }
   ],
   "source": [
    "min(l)"
   ]
  },
  {
   "cell_type": "code",
   "execution_count": 9,
   "id": "6af78aab",
   "metadata": {},
   "outputs": [
    {
     "data": {
      "text/plain": [
       "9"
      ]
     },
     "execution_count": 9,
     "metadata": {},
     "output_type": "execute_result"
    }
   ],
   "source": [
    "max(l)"
   ]
  },
  {
   "cell_type": "code",
   "execution_count": 11,
   "id": "657b00ab",
   "metadata": {},
   "outputs": [
    {
     "data": {
      "text/plain": [
       "[5, 3, 8, 6, 2, 8, 9, 1, 9, 9]"
      ]
     },
     "execution_count": 11,
     "metadata": {},
     "output_type": "execute_result"
    }
   ],
   "source": [
    "l.append(9)\n",
    "l"
   ]
  },
  {
   "cell_type": "code",
   "execution_count": 17,
   "id": "4e9d8205",
   "metadata": {},
   "outputs": [
    {
     "data": {
      "text/plain": [
       "[5, 3, 8, 6, 2, 8, 9, 1, 9, 9, 2, 100, 2, 100, 2, 100]"
      ]
     },
     "execution_count": 17,
     "metadata": {},
     "output_type": "execute_result"
    }
   ],
   "source": [
    "l.extend([2, 100])\n",
    "l"
   ]
  },
  {
   "cell_type": "code",
   "execution_count": 19,
   "id": "553720dd",
   "metadata": {},
   "outputs": [
    {
     "data": {
      "text/plain": [
       "[5, 3, 16, 16, 8, 6, 2, 8, 9, 1, 9, 9, 2, 100, 2, 100, 2, 100]"
      ]
     },
     "execution_count": 19,
     "metadata": {},
     "output_type": "execute_result"
    }
   ],
   "source": [
    "l.insert(2, 16)\n",
    "l"
   ]
  },
  {
   "cell_type": "code",
   "execution_count": 21,
   "id": "9162eb0b",
   "metadata": {},
   "outputs": [
    {
     "data": {
      "text/plain": [
       "2"
      ]
     },
     "execution_count": 21,
     "metadata": {},
     "output_type": "execute_result"
    }
   ],
   "source": [
    "l.count(16)"
   ]
  },
  {
   "cell_type": "code",
   "execution_count": 22,
   "id": "7e9354f0",
   "metadata": {},
   "outputs": [
    {
     "data": {
      "text/plain": [
       "16"
      ]
     },
     "execution_count": 22,
     "metadata": {},
     "output_type": "execute_result"
    }
   ],
   "source": [
    "l.pop(3)"
   ]
  },
  {
   "cell_type": "code",
   "execution_count": 24,
   "id": "c1d9f022",
   "metadata": {},
   "outputs": [
    {
     "data": {
      "text/plain": [
       "[5, 8, 6, 2, 8, 9, 1, 9, 9, 2, 100, 2, 100, 2, 100]"
      ]
     },
     "execution_count": 24,
     "metadata": {},
     "output_type": "execute_result"
    }
   ],
   "source": [
    "del l[1:2]\n",
    "l"
   ]
  },
  {
   "cell_type": "code",
   "execution_count": 26,
   "id": "f63eaea0",
   "metadata": {},
   "outputs": [
    {
     "data": {
      "text/plain": [
       "[1, 2, 2, 2, 2, 5, 6, 8, 8, 9, 9, 9, 100, 100, 100]"
      ]
     },
     "execution_count": 26,
     "metadata": {},
     "output_type": "execute_result"
    }
   ],
   "source": [
    "l.sort()\n",
    "l"
   ]
  },
  {
   "cell_type": "code",
   "execution_count": 34,
   "id": "edf0bd10",
   "metadata": {},
   "outputs": [
    {
     "data": {
      "text/plain": [
       "[100, 100, 100, 9, 9, 9, 8, 8, 6, 5, 2, 2, 2, 2, 1, 0]"
      ]
     },
     "execution_count": 34,
     "metadata": {},
     "output_type": "execute_result"
    }
   ],
   "source": [
    "l.reverse()\n",
    "l"
   ]
  },
  {
   "cell_type": "code",
   "execution_count": 35,
   "id": "efbf776c",
   "metadata": {},
   "outputs": [
    {
     "data": {
      "text/plain": [
       "False"
      ]
     },
     "execution_count": 35,
     "metadata": {},
     "output_type": "execute_result"
    }
   ],
   "source": [
    "all(l)"
   ]
  },
  {
   "cell_type": "code",
   "execution_count": 53,
   "id": "d1519446",
   "metadata": {},
   "outputs": [
    {
     "data": {
      "text/plain": [
       "{1, 2, 3, 4, 5}"
      ]
     },
     "execution_count": 53,
     "metadata": {},
     "output_type": "execute_result"
    }
   ],
   "source": [
    "s = {1, 2, 3, 4, 5}\n",
    "s"
   ]
  },
  {
   "cell_type": "code",
   "execution_count": 54,
   "id": "09edc614",
   "metadata": {},
   "outputs": [
    {
     "data": {
      "text/plain": [
       "5"
      ]
     },
     "execution_count": 54,
     "metadata": {},
     "output_type": "execute_result"
    }
   ],
   "source": [
    "len(s)"
   ]
  },
  {
   "cell_type": "code",
   "execution_count": 55,
   "id": "4d72ebd7",
   "metadata": {},
   "outputs": [
    {
     "data": {
      "text/plain": [
       "{1, 2, 3, 4, 5, 6}"
      ]
     },
     "execution_count": 55,
     "metadata": {},
     "output_type": "execute_result"
    }
   ],
   "source": [
    "s.add(2)\n",
    "s.add(6)\n",
    "s"
   ]
  },
  {
   "cell_type": "code",
   "execution_count": 56,
   "id": "187257ed",
   "metadata": {},
   "outputs": [
    {
     "data": {
      "text/plain": [
       "{1, 2, 3, 4, 5, 6, 9}"
      ]
     },
     "execution_count": 56,
     "metadata": {},
     "output_type": "execute_result"
    }
   ],
   "source": [
    "s.update([2, 3, 9])\n",
    "s"
   ]
  },
  {
   "cell_type": "code",
   "execution_count": 57,
   "id": "63bbeec5",
   "metadata": {},
   "outputs": [
    {
     "data": {
      "text/plain": [
       "{1, 2, 3, 5, 6, 9}"
      ]
     },
     "execution_count": 57,
     "metadata": {},
     "output_type": "execute_result"
    }
   ],
   "source": [
    "s.remove(4)\n",
    "s"
   ]
  },
  {
   "cell_type": "code",
   "execution_count": 58,
   "id": "79285101",
   "metadata": {},
   "outputs": [
    {
     "data": {
      "text/plain": [
       "{1, 2, 3, 5, 6, 9}"
      ]
     },
     "execution_count": 58,
     "metadata": {},
     "output_type": "execute_result"
    }
   ],
   "source": [
    "s.discard(10)\n",
    "s"
   ]
  },
  {
   "cell_type": "code",
   "execution_count": 59,
   "id": "9eaed380",
   "metadata": {},
   "outputs": [
    {
     "data": {
      "text/plain": [
       "1"
      ]
     },
     "execution_count": 59,
     "metadata": {},
     "output_type": "execute_result"
    }
   ],
   "source": [
    "s.pop()"
   ]
  },
  {
   "cell_type": "code",
   "execution_count": 63,
   "id": "862880bb",
   "metadata": {},
   "outputs": [
    {
     "data": {
      "text/plain": [
       "{2, 3, 5, 6, 9}"
      ]
     },
     "execution_count": 63,
     "metadata": {},
     "output_type": "execute_result"
    }
   ],
   "source": [
    "ss = s.copy()\n",
    "ss"
   ]
  },
  {
   "cell_type": "code",
   "execution_count": null,
   "id": "c3aca04f",
   "metadata": {},
   "outputs": [],
   "source": []
  }
 ],
 "metadata": {
  "kernelspec": {
   "display_name": "Python 3 (ipykernel)",
   "language": "python",
   "name": "python3"
  },
  "language_info": {
   "codemirror_mode": {
    "name": "ipython",
    "version": 3
   },
   "file_extension": ".py",
   "mimetype": "text/x-python",
   "name": "python",
   "nbconvert_exporter": "python",
   "pygments_lexer": "ipython3",
   "version": "3.11.4"
  }
 },
 "nbformat": 4,
 "nbformat_minor": 5
}
