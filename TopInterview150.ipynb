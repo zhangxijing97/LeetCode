{
 "cells": [
  {
   "cell_type": "markdown",
   "id": "028604f0",
   "metadata": {},
   "source": [
    "Array / String"
   ]
  },
  {
   "cell_type": "code",
   "execution_count": 13,
   "id": "28b2ddd4",
   "metadata": {},
   "outputs": [
    {
     "name": "stdout",
     "output_type": "stream",
     "text": [
      "[1, 2, 2, 3, 5, 6]\n"
     ]
    }
   ],
   "source": [
    "# 88. Merge Sorted Array\n",
    "class Solution(object):\n",
    "    def merge(self, nums1, m, nums2, n):\n",
    "        \"\"\"\n",
    "        :type nums1: List[int]\n",
    "        :type m: int\n",
    "        :type nums2: List[int]\n",
    "        :type n: int\n",
    "        :rtype: None Do not return anything, modify nums1 in-place instead.\n",
    "        \"\"\"\n",
    "        # Initialize pointers for nums1, nums2, and the merged array\n",
    "        p1, p2, p = m - 1, n - 1, m + n - 1\n",
    "        \n",
    "        # Merge nums1 and nums2 into nums1\n",
    "        while p1 >= 0 and p2 >= 0:\n",
    "            if nums1[p1] > nums2[p2]:\n",
    "                nums1[p] = nums1[p1]\n",
    "                p1 -= 1\n",
    "            else:\n",
    "                nums1[p] = nums2[p2]\n",
    "                p2 -= 1\n",
    "            p -= 1\n",
    "\n",
    "        # If there are remaining elements in nums2, copy them to nums1\n",
    "        while p2 >= 0:\n",
    "            nums1[p] = nums2[p2]\n",
    "            p2 -= 1\n",
    "            p -= 1\n",
    "\n",
    "# Create an instance of the Solution class\n",
    "solution = Solution()\n",
    "\n",
    "# Input: nums1 = [1,2,3,0,0,0], m = 3, nums2 = [2,5,6], n = 3\n",
    "# Output: [1,2,2,3,5,6]\n",
    "nums1 = [1, 2, 3, 0, 0, 0]\n",
    "m = 3\n",
    "nums2 = [2, 5, 6]\n",
    "n = 3\n",
    "\n",
    "# Input: nums1 = [1], m = 1, nums2 = [], n = 0\n",
    "# Output: [1]\n",
    "# nums1 = [1]\n",
    "# m = 1\n",
    "# nums2 = []\n",
    "# n = 0\n",
    "\n",
    "# Input: nums1 = [0], m = 0, nums2 = [1], n = 1\n",
    "# Output: [1]\n",
    "# nums1 = [0]\n",
    "# m = 0\n",
    "# nums2 = [1]\n",
    "# n = 1\n",
    "\n",
    "solution.merge(nums1, m, nums2, n)\n",
    "print(nums1)  # Output: [1, 2, 2, 3, 5, 6]"
   ]
  },
  {
   "cell_type": "code",
   "execution_count": 18,
   "id": "ce8217ad",
   "metadata": {},
   "outputs": [
    {
     "name": "stdout",
     "output_type": "stream",
     "text": [
      "New Array: [2, 2]\n",
      "Number of elements not equal to 'val': 2\n"
     ]
    }
   ],
   "source": [
    "# 27. Remove Element\n",
    "class Solution:\n",
    "    def removeElement(self, nums, val):\n",
    "        \"\"\"\n",
    "        :type nums: List[int]\n",
    "        :type val: int\n",
    "        :rtype: int\n",
    "        \"\"\"\n",
    "        k = 0  # Initialize k to keep track of the number of elements not equal to val\n",
    "\n",
    "        for i in range(len(nums)):\n",
    "            if nums[i] != val:\n",
    "                nums[k] = nums[i]\n",
    "                k += 1\n",
    "\n",
    "        return k\n",
    "            \n",
    "# Create an instance of the Solution class\n",
    "solution = Solution()\n",
    "\n",
    "# Input: nums = [3,2,2,3], val = 3\n",
    "# Output: 2, nums = [2,2,_,_]\n",
    "nums = [3, 2, 2, 3]\n",
    "val = 3\n",
    "\n",
    "# Input: nums = [0,1,2,2,3,0,4,2], val = 2\n",
    "# Output: 5, nums = [0,1,4,0,3,_,_,_]\n",
    "# nums = [0, 1, 2, 2, 3, 0, 4, 2]\n",
    "# val = 2\n",
    "\n",
    "# Call the removeElement method to remove 'val' from the list 'nums'\n",
    "k = solution.removeElement(nums, val)\n",
    "\n",
    "# Print the updated list containing elements not equal to 'val'\n",
    "print(\"New Array:\", nums[:k])  # Elements not equal to 'val'\n",
    "\n",
    "# Print the number of elements not equal to 'val'\n",
    "print(\"Number of elements not equal to 'val':\", k)"
   ]
  },
  {
   "cell_type": "code",
   "execution_count": 4,
   "id": "4b812e32",
   "metadata": {},
   "outputs": [
    {
     "name": "stdout",
     "output_type": "stream",
     "text": [
      "New Array: [0, 1, 2, 3, 4]\n",
      "Number of elements not equal to 'val': 5\n"
     ]
    }
   ],
   "source": [
    "# 26. Remove Duplicates from Sorted Array\n",
    "class Solution(object):\n",
    "    def removeDuplicates(self, nums):\n",
    "        \"\"\"\n",
    "        :type nums: List[int]\n",
    "        :rtype: int\n",
    "        \"\"\"\n",
    "        k = 0\n",
    "        \n",
    "        for i in range(1, len(nums)):\n",
    "            if nums[i] != nums[k]:\n",
    "                k += 1\n",
    "                nums[k] = nums[i] # Only when nums[i] != nums[k], nums[k] will update the list\n",
    "                    \n",
    "        k = k + 1\n",
    "        return k\n",
    "\n",
    "# Create an instance of the Solution class\n",
    "solution = Solution()\n",
    "\n",
    "# Input: nums = [1,1,2]\n",
    "# Output: 2, nums = [1,2,_]\n",
    "# nums = [1, 1, 2]\n",
    "\n",
    "# Input: nums = [0,0,1,1,1,2,2,3,3,4]\n",
    "# Output: 5, nums = [0,1,2,3,4,_,_,_,_,_]\n",
    "nums = [0, 0, 1, 1, 1, 2, 2, 3, 3, 4]\n",
    "\n",
    "# Print the updated list containing elements not equal to 'val'\n",
    "k = solution.removeDuplicates(nums)\n",
    "print(\"New Array:\", nums[:k])\n",
    "\n",
    "# Print the number of elements not equal to 'val'\n",
    "print(\"Number of elements not equal to 'val':\", k)"
   ]
  },
  {
   "cell_type": "code",
   "execution_count": 45,
   "id": "313d5e97",
   "metadata": {},
   "outputs": [
    {
     "name": "stdout",
     "output_type": "stream",
     "text": [
      "New Array: [0, 0, 1, 1, 2, 3, 3]\n",
      "New Array: [0, 0, 1, 1, 2, 3, 3, 3, 3]\n",
      "Number of elements not equal to 'val': 7\n"
     ]
    }
   ],
   "source": [
    "# 80. Remove Duplicates from Sorted Array II\n",
    "class Solution(object):\n",
    "    def removeDuplicates(self, nums):\n",
    "        \"\"\"\n",
    "        :type nums: List[int]\n",
    "        :rtype: int\n",
    "        \"\"\"\n",
    "        k = 0\n",
    "        \n",
    "        for i in range(len(nums)):\n",
    "            # If the index does not match elements, count that element and update it...\n",
    "            if k < 2 or nums[i] != nums[k - 2]:\n",
    "                nums[k] = nums[i]\n",
    "                k += 1\n",
    "        return k\n",
    "\n",
    "# Create an instance of the Solution class\n",
    "solution = Solution()\n",
    "\n",
    "# Input: nums = [1,1,1,2,2,3]\n",
    "# Output: 5, nums = [1,1,2,2,3,_]\n",
    "# nums = [1,1,1,2,2,3]\n",
    "\n",
    "# Input: nums = [0,0,1,1,1,1,2,3,3]\n",
    "# Output: 7, nums = [0,0,1,1,2,3,3,_,_]\n",
    "nums = [0, 0, 1, 1, 1, 1, 2, 3, 3]\n",
    "\n",
    "k = solution.removeDuplicates(nums)\n",
    "print(\"New Array:\", nums[:k])\n",
    "print(\"New Array:\", nums)\n",
    "\n",
    "# Print the number of elements not equal to 'val'\n",
    "print(\"Number of elements not equal to 'val':\", k)"
   ]
  },
  {
   "cell_type": "code",
   "execution_count": 84,
   "id": "b54db2c4",
   "metadata": {},
   "outputs": [
    {
     "name": "stdout",
     "output_type": "stream",
     "text": [
      "Number of elements not equal to 'val': 2\n"
     ]
    }
   ],
   "source": [
    "# 169. Majority Element\n",
    "class Solution(object):\n",
    "    def majorityElement(self, nums):\n",
    "        \"\"\"\n",
    "        :type nums: List[int]\n",
    "        :rtype: int\n",
    "        \"\"\"\n",
    "        \n",
    "        # Initialize variables for the majority element and its count\n",
    "        majority = nums[0]\n",
    "        count = 1\n",
    "\n",
    "        # Loop through the array starting from the second element\n",
    "        for i in range(1, len(nums)):\n",
    "            if count == 0:\n",
    "                majority = nums[i]\n",
    "                count = 1\n",
    "            elif nums[i] == majority:\n",
    "                count += 1\n",
    "            else:\n",
    "                count -= 1\n",
    "\n",
    "        return majority\n",
    "    \n",
    "# Create an instance of the Solution class\n",
    "solution = Solution()\n",
    "\n",
    "# # Input: nums = [3,2,3]\n",
    "# Output: 3\n",
    "# nums = [3,2,3]\n",
    "\n",
    "# Input: nums = [2,2,1,1,1,2,2]\n",
    "# Output: 2\n",
    "nums = [2,2,1,1,1,2,2]\n",
    "\n",
    "k = solution.majorityElement(nums)\n",
    "# print(\"New Array:\", nums[:k])\n",
    "# print(\"New Array:\", nums)\n",
    "\n",
    "# Print the number of elements not equal to 'val'\n",
    "print(\"Number of elements not equal to 'val':\", k)"
   ]
  },
  {
   "cell_type": "code",
   "execution_count": 219,
   "id": "d2ec2ac7",
   "metadata": {},
   "outputs": [
    {
     "name": "stdout",
     "output_type": "stream",
     "text": [
      "5\n"
     ]
    }
   ],
   "source": [
    "# 121. Best Time to Buy and Sell Stock\n",
    "# Solution 1\n",
    "class Solution(object):\n",
    "    def maxProfit(self, prices):\n",
    "        \"\"\"\n",
    "        :type prices: List[int]\n",
    "        :rtype: int\n",
    "        \"\"\"\n",
    "        maximum_profit = 0\n",
    "        \n",
    "        for i in range(len(prices)):\n",
    "            for j in range(i, len(prices)):\n",
    "                profit = prices[j] - prices[i]\n",
    "                if profit > maximum_profit:\n",
    "                    maximum_profit = profit\n",
    "\n",
    "        return maximum_profit\n",
    "\n",
    "# Create an instance of the Solution class\n",
    "solution = Solution()\n",
    "\n",
    "# Input: prices = [7,1,5,3,6,4]\n",
    "# Output: 5\n",
    "prices = [7,1,5,3,6,4]\n",
    "    \n",
    "# Input: prices = [7,6,4,3,1]\n",
    "# Output: 0\n",
    "# prices = [7,6,4,3,1]\n",
    "\n",
    "k = solution.maxProfit(prices)\n",
    "print(k)"
   ]
  },
  {
   "cell_type": "code",
   "execution_count": 220,
   "id": "4c3f599d",
   "metadata": {},
   "outputs": [
    {
     "name": "stdout",
     "output_type": "stream",
     "text": [
      "5\n"
     ]
    }
   ],
   "source": [
    "# 121. Best Time to Buy and Sell Stock\n",
    "# Solution 2\n",
    "class Solution(object):\n",
    "    def maxProfit(self, prices):\n",
    "        \"\"\"\n",
    "        :type prices: List[int]\n",
    "        :rtype: int\n",
    "        \"\"\"\n",
    "        minimum_price = prices[0]\n",
    "        maximum_profit = 0\n",
    "\n",
    "        for price in prices:\n",
    "            if price < minimum_price:\n",
    "                minimum_price = price\n",
    "            elif price - minimum_price > maximum_profit:\n",
    "                maximum_profit = price - minimum_price\n",
    "        return maximum_profit\n",
    "\n",
    "# Create an instance of the Solution class\n",
    "solution = Solution()\n",
    "\n",
    "# Input: prices = [7,1,5,3,6,4]\n",
    "# Output: 5\n",
    "prices = [7,1,5,3,6,4]\n",
    "    \n",
    "# Input: prices = [7,6,4,3,1]\n",
    "# Output: 0\n",
    "# prices = [7,6,4,3,1]\n",
    "\n",
    "k = solution.maxProfit(prices)\n",
    "print(k)"
   ]
  },
  {
   "cell_type": "code",
   "execution_count": 233,
   "id": "1b8931cd",
   "metadata": {},
   "outputs": [
    {
     "name": "stdout",
     "output_type": "stream",
     "text": [
      "58\n"
     ]
    }
   ],
   "source": [
    "# 3. Roman to Integer\n",
    "class Solution(object):\n",
    "    def romanToInt(self, s):\n",
    "        \"\"\"\n",
    "        :type s: str\n",
    "        :rtype: int\n",
    "        I             1\n",
    "        V             5\n",
    "        X             10\n",
    "        L             50\n",
    "        C             100\n",
    "        D             500\n",
    "        M             1000\n",
    "        \"\"\"\n",
    "        \n",
    "        roman = {\n",
    "            \"I\": 1,\n",
    "            \"V\": 5,\n",
    "            \"X\": 10,\n",
    "            \"L\": 50,\n",
    "            \"C\": 100,\n",
    "            \"D\": 500,\n",
    "            \"M\": 1000\n",
    "        }\n",
    "        total = 0\n",
    "        \n",
    "        s = s.replace(\"IV\", \"IIII\").replace(\"IX\", \"VIIII\")\n",
    "        s = s.replace(\"XL\", \"XXXX\").replace(\"XC\", \"LXXXX\")\n",
    "        s = s.replace(\"CD\", \"CCCC\").replace(\"CM\", \"DCCCC\")\n",
    "        \n",
    "        for symbol in s:\n",
    "            total += roman[symbol]\n",
    "        return total\n",
    "\n",
    "# Create an instance of the Solution class\n",
    "solution = Solution()\n",
    "\n",
    "# Input: s = \"III\"\n",
    "# Output: 3\n",
    "# s = \"III\"\n",
    "\n",
    "# Input: s = \"LVIII\"\n",
    "# Output: 58\n",
    "s = \"LVIII\"\n",
    "\n",
    "k = solution.romanToInt(s)\n",
    "print(k)"
   ]
  },
  {
   "cell_type": "code",
   "execution_count": 238,
   "id": "ec2d3df6",
   "metadata": {},
   "outputs": [
    {
     "name": "stdout",
     "output_type": "stream",
     "text": [
      "4\n"
     ]
    }
   ],
   "source": [
    "# 58. Length of Last Word\n",
    "class Solution(object):\n",
    "    def lengthOfLastWord(self, s):\n",
    "        \"\"\"\n",
    "        :type s: str\n",
    "        :rtype: int\n",
    "        \"\"\"\n",
    "        words = s.split()\n",
    "        k = len(words[-1])\n",
    "        return k\n",
    "\n",
    "# Create an instance of the Solution class\n",
    "solution = Solution()\n",
    "\n",
    "# Input: s = \"Hello World\"\n",
    "# Output: 5\n",
    "s = \"Hello World\"\n",
    "\n",
    "# Input: s = \"   fly me   to   the moon  \"\n",
    "# Output: 4\n",
    "s = \"   fly me   to   the moon  \"\n",
    "\n",
    "k = solution.lengthOfLastWord(s)\n",
    "print(k)"
   ]
  }
 ],
 "metadata": {
  "kernelspec": {
   "display_name": "Python 3 (ipykernel)",
   "language": "python",
   "name": "python3"
  },
  "language_info": {
   "codemirror_mode": {
    "name": "ipython",
    "version": 3
   },
   "file_extension": ".py",
   "mimetype": "text/x-python",
   "name": "python",
   "nbconvert_exporter": "python",
   "pygments_lexer": "ipython3",
   "version": "3.11.4"
  }
 },
 "nbformat": 4,
 "nbformat_minor": 5
}
