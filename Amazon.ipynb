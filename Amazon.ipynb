{
 "cells": [
  {
   "cell_type": "markdown",
   "id": "e62d4c2f",
   "metadata": {},
   "source": [
    "Arrays and Strings"
   ]
  },
  {
   "cell_type": "code",
   "execution_count": 212,
   "id": "9f563311",
   "metadata": {},
   "outputs": [
    {
     "name": "stdout",
     "output_type": "stream",
     "text": [
      "[0, 1]\n"
     ]
    }
   ],
   "source": [
    "# Two Sum\n",
    "\"\"\"\n",
    "Input: nums = [2,7,11,15], target = 9\n",
    "Output: [0,1]\n",
    "Explanation: Because nums[0] + nums[1] == 9, we return [0, 1]\n",
    "\n",
    "Input: nums = [3,2,4], target = 6\n",
    "Output: [1,2]\n",
    "\n",
    "Input: nums = [3,3], target = 6\n",
    "Output: [0,1]\n",
    "\"\"\"\n",
    "\n",
    "class Solution(object):\n",
    "    def twoSum(self, nums, target):\n",
    "        \"\"\"\n",
    "        :type nums: List[int]\n",
    "        :type target: int\n",
    "        :rtype: List[int]\n",
    "        \"\"\"\n",
    "        \n",
    "        for i in range(len(nums)):\n",
    "            for j in range(i + 1, len(nums)):\n",
    "                if nums[i] + nums[j] == target: \n",
    "                    return [i, j]\n",
    "\n",
    "# Create an instance of the Solution class\n",
    "solution = Solution()\n",
    "\n",
    "nums = [2,7,11,15]\n",
    "target = 9\n",
    "output = solution.twoSum(nums, target)\n",
    "print(output)"
   ]
  },
  {
   "cell_type": "code",
   "execution_count": 2,
   "id": "75f52e80",
   "metadata": {},
   "outputs": [
    {
     "name": "stdout",
     "output_type": "stream",
     "text": [
      "3\n"
     ]
    }
   ],
   "source": [
    "# Longest Substring Without Repeating Characters\n",
    "\"\"\"\n",
    "Input: s = \"abcabcbb\"\n",
    "Output: 3\n",
    "Explanation: The answer is \"abc\", with the length of 3.\n",
    "    \n",
    "Input: s = \"bbbbb\"\n",
    "Output: 1\n",
    "Explanation: The answer is \"b\", with the length of 1.\n",
    "\n",
    "Input: s = \"pwwkew\"\n",
    "Output: 3\n",
    "Explanation: The answer is \"wke\", with the length of 3.\n",
    "Notice that the answer must be a substring, \"pwke\" is a subsequence and not a substring.\n",
    "\"\"\"\n",
    "\n",
    "class Solution(object):\n",
    "    def lengthOfLongestSubstring(self, s):\n",
    "        \"\"\"\n",
    "        :type s: str\n",
    "        :rtype: int\n",
    "        \"\"\"\n",
    "        lenOfArray = len(s)\n",
    "        maxLength = 0\n",
    "        charSet = set() # Set is an unordered collection of unique items\n",
    "        left = 0\n",
    "        \n",
    "        for right in range(lenOfArray):\n",
    "            if s[right] not in charSet:\n",
    "                charSet.add(s[right])\n",
    "                maxLength = max(maxLength, right - left + 1)\n",
    "            else:\n",
    "                while s[right] in charSet:\n",
    "                    charSet.remove(s[left]) \n",
    "                    left += 1\n",
    "                charSet.add(s[right])\n",
    "        \n",
    "        return maxLength\n",
    "        \n",
    "        \n",
    "# Create an instance of the Solution class\n",
    "solution = Solution()\n",
    "\n",
    "s = \"pwwkew\"\n",
    "output = solution.lengthOfLongestSubstring(s)\n",
    "print(output)"
   ]
  },
  {
   "cell_type": "code",
   "execution_count": 3,
   "id": "407bcad5",
   "metadata": {},
   "outputs": [
    {
     "name": "stdout",
     "output_type": "stream",
     "text": [
      "42\n"
     ]
    }
   ],
   "source": [
    "# String to Integer (atoi)\n",
    "\"\"\"\n",
    "Input: s = \"42\"\n",
    "Output: 42\n",
    "Explanation: The underlined characters are what is read in, the caret is the current reader position.\n",
    "Step 1: \"42\" (no characters read because there is no leading whitespace)\n",
    "         ^\n",
    "Step 2: \"42\" (no characters read because there is neither a '-' nor '+')\n",
    "         ^\n",
    "Step 3: \"42\" (\"42\" is read in)\n",
    "           ^\n",
    "The parsed integer is 42.\n",
    "Since 42 is in the range [-231, 231 - 1], the final result is 42.\n",
    "\"\"\"\n",
    "\n",
    "# DFA: Deterministic Finite Automaton\n",
    "class Solution(object):\n",
    "    def myAtoi(self, s):\n",
    "        \"\"\"\n",
    "        :type s: str\n",
    "        :rtype: int\n",
    "        \"\"\"\n",
    "\n",
    "        \"\"\"\n",
    "        \" \" -> state = 0\n",
    "        \"+\"or\"-\" -> state = 1\n",
    "        \"0\"-\"9\" -> state = 2\n",
    "        \"\"\"\n",
    "\n",
    "        value, state, pos, sign = 0, 0, 0, 1\n",
    "\n",
    "        if len(s) == 0:\n",
    "            return 0\n",
    "\n",
    "        while pos < len(s):\n",
    "            current_char = s[pos]\n",
    "            if state == 0:\n",
    "                if current_char == \" \":\n",
    "                    state = 0\n",
    "                elif current_char == \"+\" or current_char == \"-\":\n",
    "                    state = 1\n",
    "                    sign = 1 if current_char == \"+\" else -1\n",
    "                elif current_char.isdigit():\n",
    "                    state = 2\n",
    "                    value = value * 10 + int(current_char)\n",
    "                else:\n",
    "                    return 0\n",
    "            elif state == 1:\n",
    "                if current_char.isdigit():\n",
    "                    state = 2\n",
    "                    value = value * 10 + int(current_char)\n",
    "                else:\n",
    "                    return 0\n",
    "            elif state == 2:\n",
    "                if current_char.isdigit():\n",
    "                    state = 2\n",
    "                    value = value * 10 + int(current_char)\n",
    "                else:\n",
    "                    break\n",
    "            else:\n",
    "                return 0\n",
    "            pos += 1\n",
    "\n",
    "        value = sign * value\n",
    "        value = min(value, 2 ** 31 - 1)\n",
    "        value = max(-(2 ** 31), value)\n",
    "\n",
    "        return value\n",
    "        \n",
    "# Create an instance of the Solution class\n",
    "solution = Solution()\n",
    "\n",
    "s = \"0042\"\n",
    "output = solution.myAtoi(s)\n",
    "print(output)"
   ]
  },
  {
   "cell_type": "code",
   "execution_count": 4,
   "id": "8ee2c6b8",
   "metadata": {},
   "outputs": [
    {
     "name": "stdout",
     "output_type": "stream",
     "text": [
      "49\n"
     ]
    }
   ],
   "source": [
    "# Container With Most Water\n",
    "\"\"\"\n",
    "Input: height = [1,8,6,2,5,4,8,3,7]\n",
    "Output: 49\n",
    "\"\"\"\n",
    "class Solution(object):\n",
    "    def maxArea(self, height):\n",
    "        \"\"\"\n",
    "        :type height: List[int]\n",
    "        :rtype: int\n",
    "        \"\"\"\n",
    "        maxarea = 0\n",
    "        left = 0\n",
    "        right = len(height) - 1\n",
    "        \n",
    "        while left < right:\n",
    "            width = right - left\n",
    "            maxarea = max(maxarea, min(height[left], height[right]) * width)\n",
    "            if height[left] < height[right]:\n",
    "                left += 1\n",
    "            else:\n",
    "                right -= 1\n",
    "                \n",
    "        return maxarea\n",
    "        \n",
    "# Create an instance of the Solution class\n",
    "solution = Solution()\n",
    "\n",
    "height = [1,8,6,2,5,4,8,3,7]\n",
    "output = solution.maxArea(height)\n",
    "print(output)"
   ]
  },
  {
   "cell_type": "code",
   "execution_count": 188,
   "id": "edff6c62",
   "metadata": {},
   "outputs": [
    {
     "name": "stdout",
     "output_type": "stream",
     "text": [
      "MCMXCIV\n"
     ]
    }
   ],
   "source": [
    "# Integer to Roman\n",
    "class Solution(object):\n",
    "    def intToRoman(self, num):\n",
    "        \"\"\"\n",
    "        :type num: int\n",
    "        :rtype: str    \n",
    "        \"\"\"\n",
    "        # Define mappings from integer values to Roman numeral symbols\n",
    "        # List[Tuple[int, str]]\n",
    "        value_to_symbol = [\n",
    "            (1000, \"M\"), (900, \"CM\"), (500, \"D\"), (400, \"CD\"),\n",
    "            (100, \"C\"), (90, \"XC\"), (50, \"L\"), (40, \"XL\"),\n",
    "            (10, \"X\"), (9, \"IX\"), (5, \"V\"), (4, \"IV\"), (1, \"I\")\n",
    "        ]\n",
    "        \n",
    "        output = \"\"\n",
    "        for value, symbol in value_to_symbol:\n",
    "            while num >= value:\n",
    "                num -= value\n",
    "                output += symbol\n",
    "                \n",
    "        return output\n",
    "\n",
    "\n",
    "# Create an instance of the Solution class\n",
    "solution = Solution()\n",
    "\n",
    "num = 1994\n",
    "output = solution.intToRoman(num)\n",
    "print(output)"
   ]
  },
  {
   "cell_type": "code",
   "execution_count": 189,
   "id": "c3f9648f",
   "metadata": {},
   "outputs": [
    {
     "name": "stdout",
     "output_type": "stream",
     "text": [
      "58\n"
     ]
    }
   ],
   "source": [
    "# Roman to Integer\n",
    "class Solution(object):\n",
    "    def romanToInt(self, s):\n",
    "        roman = {\n",
    "            \"I\": 1,\n",
    "            \"V\": 5,\n",
    "            \"X\": 10,\n",
    "            \"L\": 50,\n",
    "            \"C\": 100,\n",
    "            \"D\": 500,\n",
    "            \"M\": 1000\n",
    "        }\n",
    "        total = 0\n",
    "        s = s.replace(\"IV\", \"IIII\").replace(\"IX\", \"VIIII\")\n",
    "        s = s.replace(\"XL\", \"XXXX\").replace(\"XC\", \"LXXXX\")\n",
    "        s = s.replace(\"CD\", \"CCCC\").replace(\"CM\", \"DCCCC\")\n",
    "        for symbol in s:\n",
    "            total += roman[symbol]\n",
    "        return total\n",
    "    \n",
    "# Create an instance of the Solution class\n",
    "solution = Solution()\n",
    "\n",
    "s = \"LVIII\"\n",
    "output = solution.romanToInt(s)\n",
    "print(output)"
   ]
  },
  {
   "cell_type": "code",
   "execution_count": 201,
   "id": "4a51f435",
   "metadata": {},
   "outputs": [
    {
     "name": "stdout",
     "output_type": "stream",
     "text": [
      "{(-1, 0, 1), (-1, -1, 2)}\n"
     ]
    }
   ],
   "source": [
    "# 3Sum\n",
    "class Solution(object):\n",
    "    def threeSum(self, nums):\n",
    "        \"\"\"\n",
    "        :type nums: List[int]\n",
    "        :rtype: List[List[int]]\n",
    "        \"\"\"\n",
    "        ans=set()\n",
    "        nums.sort()\n",
    "        n=len(nums)\n",
    "        \n",
    "        for i in range(n-2):\n",
    "            j=i+1\n",
    "            k=n-1\n",
    "            while j<k:\n",
    "                temp=nums[i]+nums[j]+nums[k]\n",
    "                if temp==0:\n",
    "                    ans.add((nums[i],nums[j],nums[k]))\n",
    "                    j+=1\n",
    "                elif temp>0:\n",
    "                    k-=1\n",
    "                else:\n",
    "                    j+=1\n",
    "        return ans\n",
    "    \n",
    "# Create an instance of the Solution class\n",
    "solution = Solution()\n",
    "\n",
    "nums = [-1,0,1,2,-1,-4]\n",
    "output = solution.threeSum(nums)\n",
    "print(output)"
   ]
  },
  {
   "cell_type": "code",
   "execution_count": 219,
   "id": "da8d605c",
   "metadata": {},
   "outputs": [
    {
     "name": "stdout",
     "output_type": "stream",
     "text": [
      "2\n"
     ]
    }
   ],
   "source": [
    "# 3Sum Closest\n",
    "class Solution(object):\n",
    "    def threeSumClosest(self, nums, target):\n",
    "        \"\"\"\n",
    "        :type nums: List[int]\n",
    "        :type target: int\n",
    "        :rtype: int\n",
    "        \"\"\"\n",
    "        nums.sort()\n",
    "        result = nums[0] + nums[1] + nums[2]\n",
    "        for i in range(len(nums) - 2):\n",
    "            j, k = i+1, len(nums) - 1\n",
    "            while j < k:\n",
    "                sum = nums[i] + nums[j] + nums[k]\n",
    "                if sum == target:\n",
    "                    return sum\n",
    "                \n",
    "                if abs(sum - target) < abs(result - target):\n",
    "                    result = sum\n",
    "                \n",
    "                if sum < target:\n",
    "                    j += 1\n",
    "                elif sum > target:\n",
    "                    k -= 1\n",
    "                else:\n",
    "                    return result\n",
    "            \n",
    "        return result\n",
    "\n",
    "# Create an instance of the Solution class\n",
    "solution = Solution()\n",
    "\n",
    "nums = [-1,2,1,-4]\n",
    "target = 1\n",
    "output = solution.threeSumClosest(nums, target)\n",
    "print(output)"
   ]
  },
  {
   "cell_type": "code",
   "execution_count": 230,
   "id": "2341c4cc",
   "metadata": {},
   "outputs": [
    {
     "name": "stdout",
     "output_type": "stream",
     "text": [
      "2\n"
     ]
    }
   ],
   "source": [
    "# 3Sum Closest way 2\n",
    "class Solution(object):\n",
    "    def threeSumClosest(self, nums, target):\n",
    "        \"\"\"\n",
    "        :type nums: List[int]\n",
    "        :type target: int\n",
    "        :rtype: int\n",
    "        \"\"\"\n",
    "        nums.sort()\n",
    "        n=len(nums)\n",
    "        result = nums[0] + nums[1] + nums[2]\n",
    "        \n",
    "        for i in range(n-2):\n",
    "            j=i+1\n",
    "            k=n-1\n",
    "            while j<k:\n",
    "                sum = nums[i] + nums[j] + nums[k]\n",
    "                if sum == target:\n",
    "                    return sum\n",
    "                \n",
    "                if abs(sum - target) < abs(result - target):\n",
    "                    result = sum\n",
    "                    \n",
    "                if sum < target:\n",
    "                    j+=1\n",
    "                elif sum > target:\n",
    "                    k -= 1\n",
    "                else:\n",
    "                    return result\n",
    "        return result\n",
    "\n",
    "# Create an instance of the Solution class\n",
    "solution = Solution()\n",
    "\n",
    "nums = [-1,2,1,-4]\n",
    "target = 1\n",
    "output = solution.threeSumClosest(nums, target)\n",
    "print(output)"
   ]
  },
  {
   "cell_type": "code",
   "execution_count": 234,
   "id": "a0b82fee",
   "metadata": {},
   "outputs": [
    {
     "name": "stdout",
     "output_type": "stream",
     "text": [
      "0\n"
     ]
    }
   ],
   "source": [
    "# Implement strStr()\n",
    "class Solution(object):\n",
    "    def strStr(self, haystack, needle):\n",
    "        \"\"\"\n",
    "        :type haystack: str\n",
    "        :type needle: str\n",
    "        :rtype: int\n",
    "        \"\"\"\n",
    "        index = haystack.find(needle)\n",
    "        return index\n",
    "\n",
    "# Create an instance of the Solution class\n",
    "solution = Solution()\n",
    "haystack = \"sadbutsad\"\n",
    "needle = \"sad\"\n",
    "output = solution.strStr(haystack, needle)\n",
    "print(output)"
   ]
  },
  {
   "cell_type": "code",
   "execution_count": 242,
   "id": "b476affb",
   "metadata": {},
   "outputs": [
    {
     "name": "stdout",
     "output_type": "stream",
     "text": [
      "[[7, 4, 1], [8, 5, 2], [9, 6, 3]]\n"
     ]
    }
   ],
   "source": [
    "# Rotate Image\n",
    "class Solution(object):\n",
    "    def rotate(self, matrix):\n",
    "        \"\"\"\n",
    "        :type matrix: List[List[int]]\n",
    "        :rtype: None Do not return anything, modify matrix in-place instead.\n",
    "        \"\"\"\n",
    "        l = 0\n",
    "        r = len(matrix) -1\n",
    "        \n",
    "        while l < r:\n",
    "            matrix[l], matrix[r] = matrix[r], matrix[l]\n",
    "            l += 1\n",
    "            r -= 1\n",
    "            \n",
    "        # transpose, rows become columns, columns become rows\n",
    "        for i in range(len(matrix)):\n",
    "            for j in range(i):\n",
    "                matrix[i][j], matrix[j][i] = matrix[j][i], matrix[i][j]\n",
    "                \n",
    "        return matrix\n",
    "        \n",
    "# Create an instance of the Solution class\n",
    "solution = Solution()\n",
    "\n",
    "matrix = [[1,2,3],[4,5,6],[7,8,9]]\n",
    "output = solution.rotate(matrix)\n",
    "print(output)\n",
    "\n",
    "# [1, 2, 3],\n",
    "# [4, 5, 6],\n",
    "# [7, 8, 9]\n",
    "# ->\n",
    "# [7, 8, 9],\n",
    "# [4, 5, 6],\n",
    "# [1, 2, 3]\n",
    "\n",
    "# [7, 8, 9],\n",
    "# [4, 5, 6],\n",
    "# [1, 2, 3]\n",
    "# ->\n",
    "# [7, 4, 1],\n",
    "# [8, 5, 2],\n",
    "# [9, 6, 3]"
   ]
  },
  {
   "cell_type": "code",
   "execution_count": 272,
   "id": "38b22154",
   "metadata": {},
   "outputs": [
    {
     "name": "stdout",
     "output_type": "stream",
     "text": [
      "dict_values([['eat', 'tea', 'ate'], ['tan', 'nat'], ['bat']])\n"
     ]
    }
   ],
   "source": [
    "# Group Anagrams\n",
    "from collections import defaultdict\n",
    "class Solution(object):\n",
    "    def groupAnagrams(self, strs):\n",
    "        \"\"\"\n",
    "        :type strs: List[str]\n",
    "        :rtype: List[List[str]]\n",
    "        \"\"\"\n",
    "        res = defaultdict(list)\n",
    "        for s in strs:\n",
    "            count = [0] * 26\n",
    "\n",
    "            for c in s:\n",
    "                count[ord(c) - ord(\"a\")] += 1\n",
    "            res[tuple(count)].append(s)\n",
    "\n",
    "        return res.values()\n",
    "        \n",
    "# Create an instance of the Solution class\n",
    "solution = Solution()\n",
    "\n",
    "strs = [\"eat\",\"tea\",\"tan\",\"ate\",\"nat\",\"bat\"]\n",
    "output = solution.groupAnagrams(strs)\n",
    "print(output)"
   ]
  },
  {
   "cell_type": "code",
   "execution_count": 304,
   "id": "a90b5922",
   "metadata": {},
   "outputs": [
    {
     "name": "stdout",
     "output_type": "stream",
     "text": [
      "[0, 5]\n",
      "[8, 12]\n",
      "[9, 12]\n",
      "BANC\n"
     ]
    }
   ],
   "source": [
    "# Minimum Window Substring\n",
    "class Solution(object):\n",
    "    def minWindow(self, s, t):\n",
    "        \"\"\"\n",
    "        :type s: str\n",
    "        :type t: str\n",
    "        :rtype: str\n",
    "        \"\"\"\n",
    "        if t == \"\":\n",
    "            return \"\"\n",
    "\n",
    "        countT, window = {}, {}\n",
    "        for c in t:\n",
    "            countT[c] = 1 + countT.get(c, 0) # if doesnot exist, countT.get(c, 0) return 0\n",
    "\n",
    "        have, need = 0, len(countT)\n",
    "        res, resLen = [-1, -1], float(\"infinity\") # value to store the best res\n",
    "        l = 0\n",
    "        for r in range(len(s)):\n",
    "            c = s[r]\n",
    "            window[c] = 1 + window.get(c, 0)\n",
    "\n",
    "            if c in countT and window[c] == countT[c]:\n",
    "                have += 1\n",
    "\n",
    "            while have == need:\n",
    "                # update our result\n",
    "                if (r - l + 1) < resLen:\n",
    "                    res = [l, r]\n",
    "                    resLen = r - l + 1\n",
    "                # pop from the left of our window\n",
    "                window[s[l]] -= 1\n",
    "                if s[l] in countT and window[s[l]] < countT[s[l]]:\n",
    "                    have -= 1\n",
    "                l += 1\n",
    "        l, r = res\n",
    "        return s[l : r + 1] if resLen != float(\"infinity\") else \"\"\n",
    "        \n",
    "# Create an instance of the Solution class\n",
    "solution = Solution()\n",
    "\n",
    "s = \"ADOBECODEBANC\"\n",
    "t = \"ABC\"\n",
    "output = solution.minWindow(s, t)\n",
    "print(output)"
   ]
  },
  {
   "cell_type": "code",
   "execution_count": 317,
   "id": "a3020c4f",
   "metadata": {},
   "outputs": [
    {
     "name": "stdout",
     "output_type": "stream",
     "text": [
      "0\n"
     ]
    }
   ],
   "source": [
    "# Compare Version Numbers\n",
    "class Solution(object):\n",
    "    def compareVersion(self, version1, version2):\n",
    "        \"\"\"\n",
    "        :type version1: str\n",
    "        :type version2: str\n",
    "        :rtype: int\n",
    "        \"\"\"\n",
    "        nums1 = version1.split(\".\")\n",
    "        nums2 = version2.split(\".\")\n",
    "        n1, n2 = len(nums1), len(nums2)\n",
    "\n",
    "        # compare versions\n",
    "        for i in range(max(n1, n2)):\n",
    "            if i < n1:\n",
    "                i1 = int(nums1[i])\n",
    "            else:\n",
    "                i1 = 0\n",
    "                \n",
    "            if i < n2:\n",
    "                i2 = int(nums2[i])\n",
    "            else:\n",
    "                i2 = 0\n",
    "                \n",
    "            if i1 != i2:\n",
    "                return 1 if i1 > i2 else -1\n",
    "\n",
    "        # The versions are equal\n",
    "        return 0\n",
    "\n",
    "# Create an instance of the Solution class\n",
    "solution = Solution()\n",
    "\n",
    "version1 = \"1.01\"\n",
    "version2 = \"1.001\"\n",
    "output = solution.compareVersion(version1, version2)\n",
    "print(output)"
   ]
  },
  {
   "cell_type": "code",
   "execution_count": 337,
   "id": "13caa8bf",
   "metadata": {},
   "outputs": [
    {
     "name": "stdout",
     "output_type": "stream",
     "text": [
      "[24, 12, 8, 6]\n"
     ]
    }
   ],
   "source": [
    "# Product of Array Except Self\n",
    "class Solution(object):\n",
    "    def productExceptSelf(self, nums):\n",
    "        \"\"\"\n",
    "        :type nums: List[int]\n",
    "        :rtype: List[int]\n",
    "        \"\"\"\n",
    "        res = [1] * (len(nums))\n",
    "        \n",
    "        prefix = 1\n",
    "        for i in range(len(nums)) :\n",
    "            res[i] = prefix\n",
    "            prefix *= nums[i]\n",
    "            \n",
    "        postfix = 1    \n",
    "        for i in range(len(nums) - 1, -1, -1):\n",
    "            res[i] *= postfix \n",
    "            postfix *= nums[i]\n",
    "        return res\n",
    "        \n",
    "# Create an instance of the Solution class\n",
    "solution = Solution()\n",
    "\n",
    "nums = [1,2,3,4]\n",
    "output = solution.productExceptSelf(nums)\n",
    "print(output)"
   ]
  },
  {
   "cell_type": "code",
   "execution_count": 338,
   "id": "18c5be36",
   "metadata": {},
   "outputs": [
    {
     "name": "stdout",
     "output_type": "stream",
     "text": [
      "2\n"
     ]
    }
   ],
   "source": [
    "# Missing Number\n",
    "class Solution(object):\n",
    "    def missingNumber(self, nums):\n",
    "        \"\"\"\n",
    "        :type nums: List[int]\n",
    "        :rtype: int\n",
    "        \"\"\"\n",
    "        return 2\n",
    "        \n",
    "# Create an instance of the Solution class\n",
    "solution = Solution()\n",
    "\n",
    "nums = [3,0,1]\n",
    "output = solution.missingNumber(nums)\n",
    "print(output)"
   ]
  },
  {
   "cell_type": "code",
   "execution_count": null,
   "id": "73d4b1ae",
   "metadata": {},
   "outputs": [],
   "source": [
    "# Integer to English Words"
   ]
  },
  {
   "cell_type": "code",
   "execution_count": null,
   "id": "539f2e38",
   "metadata": {},
   "outputs": [],
   "source": [
    "# First Unique Character in a String"
   ]
  },
  {
   "cell_type": "code",
   "execution_count": null,
   "id": "7f8ab0a5",
   "metadata": {},
   "outputs": [],
   "source": [
    "# Valid Parentheses"
   ]
  },
  {
   "cell_type": "code",
   "execution_count": 119,
   "id": "f9e51084",
   "metadata": {},
   "outputs": [
    {
     "name": "stdout",
     "output_type": "stream",
     "text": [
      "ball\n"
     ]
    }
   ],
   "source": [
    "# Most Common Word\n",
    "import re\n",
    "class Solution(object):\n",
    "    def mostCommonWord(self, paragraph, banned):\n",
    "        \"\"\"\n",
    "        :type paragraph: str\n",
    "        :type banned: List[str]\n",
    "        :rtype: str\n",
    "        \"\"\"\n",
    "        \n",
    "        word_count = {}\n",
    "        \n",
    "        words = re.findall(r'\\w+', paragraph.lower())\n",
    "        for i in words:\n",
    "            if i not in banned:\n",
    "                if i not in word_count:\n",
    "                    word_count[i] = 1\n",
    "                else:\n",
    "                    word_count[i] += 1\n",
    "        maxPoint = max(word_count, key=lambda x: word_count[x])\n",
    "                    \n",
    "        return max(word_count, key=lambda x: word_count[x])\n",
    "\n",
    "# Create an instance of the Solution class\n",
    "solution = Solution()\n",
    "\n",
    "paragraph = \"Bob hit a ball, the hit BALL flew far after it was hit.\"\n",
    "banned = [\"hit\"]\n",
    "output = solution.mostCommonWord(paragraph, banned)\n",
    "print(output)"
   ]
  },
  {
   "cell_type": "code",
   "execution_count": 148,
   "id": "340b6533",
   "metadata": {},
   "outputs": [
    {
     "name": "stdout",
     "output_type": "stream",
     "text": [
      "['let1 art can', 'let3 art zero', 'let2 own kit dig', 'dig1 8 1 5 1', 'dig2 3 6']\n"
     ]
    }
   ],
   "source": [
    "# Reorder Log Files\n",
    "# Note: Python uses the first element of each tuple as the primary sorting key. so 0, right_side and left_side\n",
    "class Solution(object):\n",
    "    def reorderLogFiles(self, logs):\n",
    "        \"\"\"\n",
    "        :type logs: List[str]\n",
    "        :rtype: List[str]\n",
    "        \"\"\"\n",
    "        def sorting_algorithm(log):\n",
    "            left_side, right_side = log.split(\" \", 1) # Split the log into two based on the first space and do it only once\n",
    "\n",
    "            if right_side[0].isalpha(): # Check first character of the right side is an alphabet character or not\n",
    "                return (0, right_side, left_side) # If it is, return a tuple with a sorting key of 0, indicating it should be sorted before others\n",
    "            else:\n",
    "                return (1,) # If not an alphabet character, return a tuple with a sorting key of 1, indicating it should be sorted after those with a key of 0\n",
    "        \n",
    "        return sorted(logs, key=sorting_algorithm)\n",
    "\n",
    "# Create an instance of the Solution class\n",
    "solution = Solution()\n",
    "\n",
    "logs = [\"dig1 8 1 5 1\",\"let1 art can\",\"dig2 3 6\",\"let2 own kit dig\",\"let3 art zero\"]\n",
    "output = solution.reorderLogFiles(logs)\n",
    "print(output)"
   ]
  },
  {
   "cell_type": "code",
   "execution_count": 33,
   "id": "232f406f",
   "metadata": {},
   "outputs": [
    {
     "name": "stdout",
     "output_type": "stream",
     "text": [
      "9\n"
     ]
    }
   ],
   "source": [
    "# Trapping Rain Water\n",
    "class Solution(object):\n",
    "    def trap(self, height):\n",
    "        \"\"\"\n",
    "        :type height: List[int]\n",
    "        :rtype: int\n",
    "        \"\"\"\n",
    "        res = 0\n",
    "        l = 0\n",
    "        r = len(height) - 1\n",
    "        lMax = 0 \n",
    "        rMax = 0\n",
    "        \n",
    "        if r < 2:\n",
    "            return res\n",
    "        \n",
    "        while l < r:\n",
    "            if height[l] < height[r]:\n",
    "                lMax = max(lMax, height[l])\n",
    "                res += lMax - height[l]\n",
    "                l += 1    \n",
    "            else:\n",
    "                rMax = max(rMax, height[r])\n",
    "                res += rMax - height[r]\n",
    "                r -= 1\n",
    "        \n",
    "        return res\n",
    "\n",
    "# Create an instance of the Solution class\n",
    "solution = Solution()\n",
    "\n",
    "height = [4,2,0,3,2,5]\n",
    "output = solution.trap(height)\n",
    "print(output)"
   ]
  },
  {
   "cell_type": "markdown",
   "id": "2ce534fe",
   "metadata": {},
   "source": [
    "Linked list"
   ]
  },
  {
   "cell_type": "code",
   "execution_count": 41,
   "id": "9c34c643",
   "metadata": {},
   "outputs": [
    {
     "name": "stdout",
     "output_type": "stream",
     "text": [
      "7\n",
      "0\n",
      "8\n"
     ]
    }
   ],
   "source": [
    "# Add Two Numbers\n",
    "\n",
    "# Input: l1 = [2,4,3], l2 = [5,6,4]\n",
    "# Output: [7,0,8]\n",
    "# Explanation: 342 + 465 = 807.\n",
    "\n",
    "class ListNode(object):\n",
    "    def __init__(self, val=0, next=None):\n",
    "        self.val = val\n",
    "        self.next = next\n",
    "\n",
    "class Solution:\n",
    "    def addTwoNumbers(self, l1, l2):\n",
    "        \n",
    "        carry = 0\n",
    "        root = n = ListNode(0)\n",
    "        while l1 or l2 or carry:\n",
    "            v1 = v2 = 0\n",
    "            if l1:\n",
    "                v1 = l1.val\n",
    "                l1 = l1.next\n",
    "            if l2:\n",
    "                v2 = l2.val\n",
    "                l2 = l2.next\n",
    "            # carry = quotient, val = modulo (remainder) \n",
    "            carry, val = divmod(v1+v2+carry, 10)\n",
    "            n.next = ListNode(val)\n",
    "            n = n.next\n",
    "        return root.next\n",
    "\n",
    "# Create an instance of the Solution class\n",
    "solution = Solution()\n",
    "\n",
    "node1 = ListNode(2)\n",
    "node2 = ListNode(4)\n",
    "node3 = ListNode(3)\n",
    "\n",
    "node1.next = node2\n",
    "node2.next = node3\n",
    "\n",
    "node4 = ListNode(5)\n",
    "node5 = ListNode(6)\n",
    "node6 = ListNode(4)\n",
    "\n",
    "node4.next = node5\n",
    "node5.next = node6\n",
    "\n",
    "num1 = solution.addTwoNumbers(node1, node4)\n",
    "num2 = num1.next\n",
    "num3 = num2.next\n",
    "\n",
    "print(num1.val)\n",
    "print(num2.val)\n",
    "print(num3.val)"
   ]
  },
  {
   "cell_type": "code",
   "execution_count": 7,
   "id": "2ff692ed",
   "metadata": {},
   "outputs": [
    {
     "name": "stdout",
     "output_type": "stream",
     "text": [
      "1 -> 1 -> 2 -> 3 -> 4 -> 4 -> 5 -> None\n"
     ]
    }
   ],
   "source": [
    "# Definition for singly-linked list.\n",
    "class ListNode(object):\n",
    "    def __init__(self, val=0, next=None):\n",
    "        self.val = val\n",
    "        self.next = next\n",
    "\n",
    "class Solution(object):\n",
    "    def mergeTwoLists(self, list1, list2):\n",
    "        \"\"\"\n",
    "        :type list1: Optional[ListNode]\n",
    "        :type list2: Optional[ListNode]\n",
    "        :rtype: Optional[ListNode]\n",
    "        \"\"\"\n",
    "        root = n = ListNode(0)\n",
    "        while list1 and list2:  # Continue until either list runs out\n",
    "            if list1.val <= list2.val:\n",
    "                n.next = list1  # Directly attach list1's node\n",
    "                list1 = list1.next\n",
    "            else:\n",
    "                n.next = list2  # Directly attach list2's node\n",
    "                list2 = list2.next\n",
    "            n = n.next\n",
    "\n",
    "        # Attach the remainder of list1 or list2, if any\n",
    "        n.next = list1 if list1 else list2\n",
    "        \n",
    "        \"\"\"\n",
    "        Same as:\n",
    "        if list1:\n",
    "            n.next = list1\n",
    "        else:\n",
    "            n.next = list2\n",
    "        \"\"\"\n",
    "\n",
    "        return root.next  # Skip the dummy node\n",
    "\n",
    "# Create an instance of the Solution class\n",
    "solution = Solution()\n",
    "\n",
    "node1 = ListNode(1)\n",
    "node2 = ListNode(2)\n",
    "node3 = ListNode(4)\n",
    "node4 = ListNode(5)\n",
    "\n",
    "node1.next = node2\n",
    "node2.next = node3\n",
    "node3.next = node4\n",
    "\n",
    "node5 = ListNode(1)\n",
    "node6 = ListNode(3)\n",
    "node7 = ListNode(4)\n",
    "\n",
    "node5.next = node6\n",
    "node6.next = node7\n",
    "\n",
    "# Merge the lists\n",
    "mergedList = solution.mergeTwoLists(node1, node5)\n",
    "\n",
    "# Function to print the list\n",
    "def printList(node):\n",
    "    while node:\n",
    "        print(node.val, end=\" -> \")\n",
    "        node = node.next\n",
    "    print(\"None\")\n",
    "\n",
    "# Print the merged list\n",
    "printList(mergedList)"
   ]
  },
  {
   "cell_type": "code",
   "execution_count": 6,
   "id": "acce576a",
   "metadata": {},
   "outputs": [
    {
     "name": "stdout",
     "output_type": "stream",
     "text": [
      "7\n"
     ]
    }
   ],
   "source": [
    "# Copy List with Random Pointer\n",
    "class Node:\n",
    "    def __init__(self, x, next=None, random=None):\n",
    "        self.val = int(x)\n",
    "        self.next = next\n",
    "        self.random = random\n",
    "\n",
    "class Solution(object):\n",
    "    \n",
    "    def copyRandomList(self, head):\n",
    "        \"\"\"\n",
    "        :type head: Node\n",
    "        :rtype: Node\n",
    "        \"\"\"\n",
    "        if not head:\n",
    "            return None\n",
    "        \n",
    "        node_map = {}\n",
    "        current = head\n",
    "        \n",
    "        # First pass: Create a copy of each node and store it in the map\n",
    "        while current:\n",
    "            node_map[current] = Node(current.val)\n",
    "            current = current.next\n",
    "        \n",
    "        current = head\n",
    "        \n",
    "        # Second pass: Connect the copied nodes' next and random pointers\n",
    "        while current:\n",
    "            copy_node = node_map[current]\n",
    "            copy_node.next = node_map.get(current.next)\n",
    "            copy_node.random = node_map.get(current.random)\n",
    "            current = current.next\n",
    "        \n",
    "        return node_map[head]\n",
    "    \n",
    "# Create an instance of the Solution class\n",
    "solution = Solution()\n",
    "node1 = Node(7)\n",
    "node2 = Node(13)\n",
    "node3 = Node(11)\n",
    "node4 = Node(10)\n",
    "node5 = Node(1)\n",
    "\n",
    "node1.next = node2\n",
    "node2.next = node3\n",
    "node3.next = node4\n",
    "node4.next = node5\n",
    "\n",
    "# copyRandomList\n",
    "result = solution.copyRandomList(node1)\n",
    "print(result.val)"
   ]
  },
  {
   "cell_type": "markdown",
   "id": "d0f6195a",
   "metadata": {},
   "source": [
    "Trees and Graphs"
   ]
  },
  {
   "cell_type": "code",
   "execution_count": 19,
   "id": "493eaedb",
   "metadata": {},
   "outputs": [
    {
     "name": "stdout",
     "output_type": "stream",
     "text": [
      "True\n"
     ]
    }
   ],
   "source": [
    "# Validate Binary Search Tree\n",
    "# Definition for a binary tree node.\n",
    "class TreeNode(object):\n",
    "    def __init__(self, val=0, left=None, right=None):\n",
    "        self.val = val\n",
    "        self.left = left\n",
    "        self.right = right\n",
    "class Solution(object):\n",
    "    def isValidBST(self, root):\n",
    "        \"\"\"\n",
    "        :type root: TreeNode\n",
    "        :rtype: bool\n",
    "        \"\"\"                  \n",
    "        def valid(node, left, right):\n",
    "            if not node:\n",
    "                return True\n",
    "            if not (node.val < right and node.val > left):\n",
    "                return False\n",
    "\n",
    "            return (valid(node. left, left, node. val) and\n",
    "                    valid(node.right, node.val, right))\n",
    "\n",
    "        return valid(root, float(\"-inf\"), float(\"inf\"))\n",
    "        \n",
    "# Create an instance of the Solution class\n",
    "solution = Solution()\n",
    "\n",
    "root = TreeNode(2)\n",
    "root.left = TreeNode(1)\n",
    "root.right = TreeNode(3)\n",
    "\n",
    "result = solution.isValidBST(root)\n",
    "print(result)"
   ]
  },
  {
   "cell_type": "code",
   "execution_count": 12,
   "id": "dafe9a8a",
   "metadata": {},
   "outputs": [
    {
     "name": "stdout",
     "output_type": "stream",
     "text": [
      "True\n"
     ]
    }
   ],
   "source": [
    "# Symmetric Tree\n",
    "# Definition for a binary tree node.\n",
    "class TreeNode(object):\n",
    "    def __init__(self, val=0, left=None, right=None):\n",
    "        self.val = val\n",
    "        self.left = left\n",
    "        self.right = right\n",
    "class Solution(object):\n",
    "    def isSymmetric(self, root):\n",
    "        \"\"\"\n",
    "        :type root: TreeNode\n",
    "        :rtype: bool\n",
    "        \"\"\"\n",
    "        def dfs(left, right):\n",
    "            if not left and not right:\n",
    "                return True\n",
    "            \n",
    "            if not left or not right:\n",
    "                return False\n",
    "            \n",
    "            return (left.val == right.val and\n",
    "                    dfs(left.left, right.right) and\n",
    "                    dfs(left.right, right.left))\n",
    "            \n",
    "        return dfs(root.left, root.right)\n",
    "        \n",
    "# Create an instance of the Solution class\n",
    "solution = Solution()\n",
    "\n",
    "root = TreeNode(1)\n",
    "root.left = TreeNode(2)\n",
    "root.right = TreeNode(2)\n",
    "\n",
    "result = solution.isSymmetric(root)\n",
    "print(result)"
   ]
  },
  {
   "cell_type": "code",
   "execution_count": 23,
   "id": "86aa1198",
   "metadata": {},
   "outputs": [
    {
     "name": "stdout",
     "output_type": "stream",
     "text": [
      "[[1], [2, 3]]\n"
     ]
    }
   ],
   "source": [
    "# Binary Tree Level Order Traversal\n",
    "# Definition for a binary tree node.\n",
    "class TreeNode(object):\n",
    "    def __init__(self, val=0, left=None, right=None):\n",
    "        self.val = val\n",
    "        self.left = left\n",
    "        self.right = right\n",
    "        \n",
    "import collections\n",
    "        \n",
    "class Solution(object):\n",
    "    def levelOrder(self, root):\n",
    "        \"\"\"\n",
    "        :type root: TreeNode\n",
    "        :rtype: List[List[int]]\n",
    "        \"\"\"\n",
    "        res = []\n",
    "               \n",
    "        q = collections.deque()\n",
    "        q.append(root)\n",
    "        \n",
    "        while q:\n",
    "            qLen = len(q)\n",
    "            level = [ ]\n",
    "            for i in range(qLen):\n",
    "                node = q.popleft()\n",
    "                if node:\n",
    "                    level.append(node.val)\n",
    "                    q.append(node.left)\n",
    "                    q.append(node.right)\n",
    "               \n",
    "            if level:\n",
    "                res.append(level)\n",
    "        return res\n",
    "        \n",
    "# Create an instance of the Solution class\n",
    "solution = Solution()\n",
    "\n",
    "root = TreeNode(1)\n",
    "root.left = TreeNode(2)\n",
    "root.right = TreeNode(3)\n",
    "\n",
    "result = solution.levelOrder(root)\n",
    "print(result)"
   ]
  },
  {
   "cell_type": "code",
   "execution_count": 1,
   "id": "33ba3bfa",
   "metadata": {},
   "outputs": [
    {
     "name": "stdout",
     "output_type": "stream",
     "text": [
      "[[1], [3, 2]]\n"
     ]
    }
   ],
   "source": [
    "# Binary Tree Zigzag Level Order Traversal\n",
    "# Definition for a binary tree node.\n",
    "class TreeNode(object):\n",
    "    def __init__(self, val=0, left=None, right=None):\n",
    "        self.val = val\n",
    "        self.left = left\n",
    "        self.right = right\n",
    "        \n",
    "import collections\n",
    "\n",
    "class Solution(object):\n",
    "    def zigzagLevelOrder(self, root):\n",
    "        \"\"\"\n",
    "        :type root: TreeNode\n",
    "        :rtype: List[List[int]]\n",
    "        \"\"\"\n",
    "        res = []\n",
    "        q = collections.deque()\n",
    "        q.append(root)\n",
    "        \n",
    "        while q:\n",
    "            level = []\n",
    "            for i in range(len(q)):\n",
    "                node = q.popleft()\n",
    "                level.append(node.val)\n",
    "                if node.left:\n",
    "                    q.append(node.left)\n",
    "                if node.right:\n",
    "                    q.append(node.right)\n",
    "            level = level[::-1] if len(res) % 2 else level\n",
    "            res.append(level)\n",
    "        return res\n",
    "        \n",
    "# Create an instance of the Solution class\n",
    "solution = Solution()\n",
    "\n",
    "root = TreeNode(1)\n",
    "root.left = TreeNode(2)\n",
    "root.right = TreeNode(3)\n",
    "\n",
    "result = solution.zigzagLevelOrder(root)\n",
    "print(result)    "
   ]
  },
  {
   "cell_type": "code",
   "execution_count": 37,
   "id": "77937e3b",
   "metadata": {},
   "outputs": [
    {
     "name": "stdout",
     "output_type": "stream",
     "text": [
      "12\n"
     ]
    }
   ],
   "source": [
    "# Binary Tree Maximum Path Sum\n",
    "# Definition for a binary tree node.\n",
    "class TreeNode(object):\n",
    "    def __init__(self, val=0, left=None, right=None):\n",
    "        self.val = val\n",
    "        self.left = left\n",
    "        self.right = right\n",
    "\n",
    "class Solution(object):\n",
    "    def maxPathSum(self, root):\n",
    "        \"\"\"\n",
    "        :type root: TreeNode\n",
    "        :rtype: int\n",
    "        \"\"\"\n",
    "        res = [root.val]\n",
    "        \n",
    "        # Define a recursive function to calculate the maximum path sum\n",
    "        def dfs(root):\n",
    "            if not root:\n",
    "                return 0\n",
    "            \n",
    "            # Recursively calculate the maximum path sum for the left and right subtrees\n",
    "            leftMax = dfs(root.left)\n",
    "            rightMax = dfs(root.right)\n",
    "            leftMax = max(leftMax, 0)\n",
    "            rightMax = max(rightMax, 0)\n",
    "            \n",
    "            # Calculate the maximum path sum including the current node\n",
    "            # Update the overall maximum path sum (res[0]) if necessary\n",
    "            res[0] = max(res[0], root.val + leftMax + rightMax)\n",
    "            \n",
    "            # Return the maximum path sum from the current subtree rooted at 'root'\n",
    "            return root.val + max(leftMax, rightMax)\n",
    "    \n",
    "        dfs(root)\n",
    "        return res[0]\n",
    "\n",
    "# Create an instance of the Solution class\n",
    "solution = Solution()\n",
    "\n",
    "root = TreeNode(1)\n",
    "root.left = TreeNode(2)\n",
    "root.right = TreeNode(3)\n",
    "root.right.right = TreeNode(4)\n",
    "root.right.left = TreeNode(5)\n",
    "\n",
    "result = solution.maxPathSum(root)\n",
    "print(result)\n",
    "\n",
    "#         1\n",
    "#        / \\\n",
    "#       2   3\n",
    "#          / \\\n",
    "#         4   5"
   ]
  },
  {
   "cell_type": "markdown",
   "id": "61aec0e5",
   "metadata": {},
   "source": [
    "Recursion"
   ]
  },
  {
   "cell_type": "code",
   "execution_count": 1,
   "id": "1e86f6c7",
   "metadata": {},
   "outputs": [
    {
     "name": "stdout",
     "output_type": "stream",
     "text": [
      "ad\n",
      "ae\n",
      "af\n",
      "bd\n",
      "be\n",
      "bf\n",
      "cd\n",
      "ce\n",
      "cf\n",
      "['ad', 'ae', 'af', 'bd', 'be', 'bf', 'cd', 'ce', 'cf']\n"
     ]
    }
   ],
   "source": [
    "# Letter Combinations of a Phone Number\n",
    "class Solution(object):\n",
    "    def letterCombinations(self, digits):\n",
    "        \"\"\"\n",
    "        :type digits: str\n",
    "        :rtype: List[str]\n",
    "        \"\"\"\n",
    "        res = []\n",
    "        digitToChar = { \"2\": \"abc\",\n",
    "                        \"3\": \"def\",\n",
    "                        \"4\": \"ghi\",\n",
    "                        \"5\": \"jkI\",\n",
    "                        \"6\": \"mno\",\n",
    "                        \"7\": \"qprs\",\n",
    "                        \"8\": \"tuv\",\n",
    "                        \"9\": \"wxyz\"}\n",
    "        \n",
    "        def backtrack(i, curStr):\n",
    "            if len(curStr) == len(digits):\n",
    "                res.append(curStr)\n",
    "                print(curStr)\n",
    "                return\n",
    "            \n",
    "            for c in digitToChar[digits[i]]:\n",
    "                backtrack(i + 1, curStr + c)\n",
    "                \n",
    "        if digits:\n",
    "            backtrack(0, \"\")\n",
    "        \n",
    "        return res\n",
    "\n",
    "# Create an instance of the Solution class\n",
    "solution = Solution()\n",
    "\n",
    "digits = \"23\"\n",
    "result = solution.letterCombinations(digits)\n",
    "print(result)"
   ]
  },
  {
   "cell_type": "code",
   "execution_count": 14,
   "id": "e9b89284",
   "metadata": {},
   "outputs": [
    {
     "name": "stdout",
     "output_type": "stream",
     "text": [
      "['(())', '()()']\n"
     ]
    }
   ],
   "source": [
    "# Generate Parentheses\n",
    "class Solution(object):\n",
    "    def generateParenthesis(self, n):\n",
    "        \"\"\"\n",
    "        :type n: int\n",
    "        :rtype: List[str]\n",
    "        \"\"\"\n",
    "        \n",
    "        stack = [ ]\n",
    "        res = []\n",
    "        \n",
    "        def backtrack(openN, closedN):\n",
    "            if openN == closedN == n:\n",
    "                res.append(\"\".join(stack))\n",
    "                return\n",
    "            \n",
    "            if openN < n:\n",
    "                stack.append(\"(\")\n",
    "                backtrack(openN + 1, closedN)\n",
    "                stack.pop()\n",
    "\n",
    "            if closedN < openN:\n",
    "                stack.append(\")\")\n",
    "                backtrack(openN, closedN + 1) \n",
    "                stack.pop()\n",
    "            \n",
    "        backtrack(0, 0)\n",
    "        return res\n",
    "\n",
    "# Create an instance of the Solution class\n",
    "solution = Solution()\n",
    "\n",
    "# import time\n",
    "# start_time = time.time()  # Record start time\n",
    "\n",
    "n = 2\n",
    "result = solution.generateParenthesis(n)\n",
    "print(result)\n",
    "\n",
    "# end_time = time.time()  # Record end time\n",
    "# calculation_time = end_time - start_time\n",
    "# print(f\"Total Calculation Time: {calculation_time:.2f} seconds\")"
   ]
  },
  {
   "cell_type": "markdown",
   "id": "bef2f249",
   "metadata": {},
   "source": [
    "Sorting and Searching"
   ]
  },
  {
   "cell_type": "code",
   "execution_count": 25,
   "id": "51cbadb3",
   "metadata": {},
   "outputs": [
    {
     "name": "stdout",
     "output_type": "stream",
     "text": [
      "2.5\n"
     ]
    }
   ],
   "source": [
    "class Solution(object):\n",
    "    def findMedianSortedArrays(self, nums1, nums2):\n",
    "        \"\"\"\n",
    "        :type nums1: List[int]\n",
    "        :type nums2: List[int]\n",
    "        :rtype: float\n",
    "        \"\"\"\n",
    "        \n",
    "        def deletion(nums):\n",
    "            nums.pop(0)\n",
    "            nums.pop(-1)\n",
    "            return nums\n",
    "            \n",
    "        res = 0\n",
    "        nums = nums1\n",
    "        nums.extend(nums2)\n",
    "        nums.sort()\n",
    "        while len(nums) > 2:\n",
    "            deletion(nums)\n",
    "            \n",
    "        if len(nums) == 1:\n",
    "            res = nums[0]\n",
    "        \n",
    "        if len(nums) == 2:\n",
    "            res = (float(nums[0]) + float(nums[1])) / 2\n",
    "\n",
    "        return res\n",
    "    \n",
    "# Create an instance of the Solution class\n",
    "solution = Solution()\n",
    "\n",
    "nums1 = [1,2]\n",
    "nums2 = [3,4]\n",
    "result = solution.findMedianSortedArrays(nums1, nums2)\n",
    "print(result)"
   ]
  },
  {
   "cell_type": "code",
   "execution_count": 8,
   "id": "d823d499",
   "metadata": {},
   "outputs": [
    {
     "name": "stdout",
     "output_type": "stream",
     "text": [
      "4\n"
     ]
    }
   ],
   "source": [
    "# Search in Rotated Sorted Array\n",
    "class Solution(object):\n",
    "    def search(self, nums, target):\n",
    "        \"\"\"\n",
    "        :type nums: List[int]\n",
    "        :type target: int\n",
    "        :rtype: int\n",
    "        \"\"\" \n",
    "        res = -1\n",
    "        \n",
    "        for i in range(len(nums)):\n",
    "            if nums[i] == target:\n",
    "                return i\n",
    "        return res\n",
    "        \n",
    "# Create an instance of the Solution class\n",
    "solution = Solution()\n",
    "\n",
    "nums = [4,5,6,7,0,1,2]\n",
    "target = 0\n",
    "result = solution.search(nums, target)\n",
    "print(result)"
   ]
  },
  {
   "cell_type": "code",
   "execution_count": 79,
   "id": "1b533d52",
   "metadata": {},
   "outputs": [
    {
     "name": "stdout",
     "output_type": "stream",
     "text": [
      "[[1, 6], [8, 10], [15, 18]]\n"
     ]
    }
   ],
   "source": [
    "# Merge Intervals\n",
    "class Solution(object):\n",
    "    def merge(self, intervals):\n",
    "        \"\"\"\n",
    "        :type intervals: List[List[int]]\n",
    "        :rtype: List[List[int]]\n",
    "        \"\"\"\n",
    "        intervals.sort(key = lambda i: i[0])\n",
    "        output = [intervals[0]]\n",
    "                                          \n",
    "        for start, end in intervals[1:]:\n",
    "            lastEnd = output[-1][1] # last element of output\n",
    "            if start <= lastEnd:\n",
    "                output[-1][1] = max(lastEnd, end)\n",
    "            else:\n",
    "                output.append([start, end]) \n",
    "        return output\n",
    "        \n",
    "# Create an instance of the Solution class\n",
    "solution = Solution()\n",
    "\n",
    "intervals = [[1,3],[2,6],[8,10],[15,18]]\n",
    "result = solution.merge(intervals)\n",
    "print(result)"
   ]
  },
  {
   "cell_type": "code",
   "execution_count": 56,
   "id": "7401b8fe",
   "metadata": {},
   "outputs": [
    {
     "name": "stdout",
     "output_type": "stream",
     "text": [
      "[1, 2]\n"
     ]
    }
   ],
   "source": [
    "# Two Sum II - Input array is sorted\n",
    "class Solution(object):\n",
    "    def twoSum(self, numbers, target):\n",
    "        \"\"\"\n",
    "        :type numbers: List[int]\n",
    "        :type target: int\n",
    "        :rtype: List[int]\n",
    "        \"\"\"\n",
    "        l, r = 0, len(numbers) - 1\n",
    "        \n",
    "        while l < r:\n",
    "            curSum = numbers[l] + numbers[r]\n",
    "            if curSum > target:\n",
    "                r = r - 1\n",
    "            elif curSum < target:\n",
    "                l = l + 1\n",
    "            else:\n",
    "                return [l + 1, r + 1]\n",
    "        return []\n",
    "        \n",
    "        \n",
    "# Create an instance of the Solution class\n",
    "solution = Solution()\n",
    "\n",
    "numbers = [2,7,11,15]\n",
    "target = 9\n",
    "result = solution.twoSum(numbers, target)\n",
    "print(result)"
   ]
  },
  {
   "cell_type": "code",
   "execution_count": 64,
   "id": "8cd33ade",
   "metadata": {},
   "outputs": [
    {
     "name": "stdout",
     "output_type": "stream",
     "text": [
      "5\n"
     ]
    }
   ],
   "source": [
    "# Kth Largest Element in an Array\n",
    "class Solution(object):\n",
    "    def findKthLargest(self, nums, k):\n",
    "        \"\"\"\n",
    "        :type nums: List[int]\n",
    "        :type k: int\n",
    "        :rtype: int\n",
    "        \"\"\"\n",
    "        \n",
    "        nums = sorted(nums)\n",
    "        return nums[-k]\n",
    "\n",
    "# Create an instance of the Solution class\n",
    "solution = Solution()\n",
    "\n",
    "nums = [3,2,1,5,6,4]\n",
    "k = 2\n",
    "result = solution.findKthLargest(nums, k)\n",
    "print(result)"
   ]
  },
  {
   "cell_type": "code",
   "execution_count": 121,
   "id": "c651d1a3",
   "metadata": {},
   "outputs": [
    {
     "name": "stdout",
     "output_type": "stream",
     "text": [
      "2\n"
     ]
    }
   ],
   "source": [
    "# Meeting Rooms II\n",
    "class Solution(object):\n",
    "    def minMeetingRooms(self, intervals):\n",
    "        \"\"\"\n",
    "        :type internvals: List[List[int]]\n",
    "        :rtype: int\n",
    "        \"\"\"\n",
    "        pointer = 0 # earliestEndPointer\n",
    "        res = 0\n",
    "        starts = sorted(i[0] for i in intervals)\n",
    "        ends = sorted(i[1] for i in intervals)\n",
    "        \n",
    "        for s in range(len(starts)):\n",
    "            if starts[s] < ends[pointer]:\n",
    "                res += 1\n",
    "            else: \n",
    "                pointer += 1\n",
    "        return res\n",
    "\n",
    "# Create an instance of the Solution class\n",
    "solution = Solution()\n",
    "\n",
    "intervals = [[0,30],[5,10],[15,20]]\n",
    "result = solution.minMeetingRooms(intervals)\n",
    "print(result)"
   ]
  },
  {
   "cell_type": "code",
   "execution_count": 24,
   "id": "fadf1521",
   "metadata": {},
   "outputs": [
    {
     "name": "stdout",
     "output_type": "stream",
     "text": [
      "[1, 2]\n"
     ]
    }
   ],
   "source": [
    "# Top K Frequent Elements\n",
    "class Solution(object):\n",
    "    def topKFrequent(self, nums, k):\n",
    "        \"\"\"\n",
    "        :type nums: List[int]\n",
    "        :type k: int\n",
    "        :rtype: List[int]\n",
    "        \"\"\"\n",
    "        numsDict = {}\n",
    "        res = []\n",
    "        \n",
    "        for i in range(len(nums)):\n",
    "            if nums[i] not in numsDict.keys():\n",
    "                numsDict[nums[i]] = 1\n",
    "            else:\n",
    "                numsDict[nums[i]] += 1\n",
    "                \n",
    "        numsDict = sorted(numsDict, key=numsDict.get, reverse=True)\n",
    "        res = numsDict[:k]\n",
    "        return res\n",
    "        \n",
    "# Create an instance of the Solution class\n",
    "solution = Solution()\n",
    "\n",
    "nums = [1,1,1,2,2,3]\n",
    "k = 2\n",
    "result = solution.topKFrequent(nums, k)\n",
    "print(result)"
   ]
  },
  {
   "cell_type": "code",
   "execution_count": 50,
   "id": "6ebaba74",
   "metadata": {},
   "outputs": [
    {
     "name": "stdout",
     "output_type": "stream",
     "text": [
      "[[-2, 2]]\n"
     ]
    }
   ],
   "source": [
    "# K Closest Points to Origin\n",
    "class Solution(object):\n",
    "    def kClosest(self, points, k):\n",
    "        \"\"\"\n",
    "        :type points: List[List[int]]\n",
    "        :type k: int\n",
    "        :rtype: List[List[int]]\n",
    "        \"\"\"\n",
    "        \n",
    "        distances = {}\n",
    "        res = []\n",
    "        \n",
    "        for i in range(len(points)):\n",
    "            distance = pow(points[i][0],2) + pow(points[i][1],2)\n",
    "            distances[i] = distance\n",
    "            \n",
    "        distances = sorted(distances, key=distances.get)[:k]\n",
    "        \n",
    "        for j in distances:\n",
    "            res.append(points[j])\n",
    "            \n",
    "        return res\n",
    "        \n",
    "# Create an instance of the Solution class\n",
    "solution = Solution()\n",
    "\n",
    "points = [[1,3],[-2,2]]\n",
    "k = 1\n",
    "result = solution.kClosest(points, k)\n",
    "print(result)"
   ]
  },
  {
   "cell_type": "markdown",
   "id": "1cb7ea1e",
   "metadata": {},
   "source": [
    "Dynamic Programming"
   ]
  },
  {
   "cell_type": "code",
   "execution_count": 64,
   "id": "77162102",
   "metadata": {},
   "outputs": [
    {
     "name": "stdout",
     "output_type": "stream",
     "text": [
      "bab\n"
     ]
    }
   ],
   "source": [
    "# Longest Palindromic Substring\n",
    "class Solution(object):\n",
    "    def longestPalindrome(self, s):\n",
    "        \"\"\"\n",
    "        :type s: str\n",
    "        :rtype: str\n",
    "        \"\"\"\n",
    "        res = \"\"\n",
    "        resLen = 0\n",
    "        \n",
    "        for i in range(len (s)):\n",
    "            # odd length\n",
    "            l, r = i, i\n",
    "            while l >= 0 and r < len(s) and s[l] == s[r]:\n",
    "                if (r - l + 1) > resLen:\n",
    "                    res = s[l:r+1]\n",
    "                    resLen = r - l + 1\n",
    "                l -= 1\n",
    "                r += 1\n",
    "                \n",
    "            # even length\n",
    "            l, r = i, i + 1\n",
    "            while l >= 0 and r < len(s) and s[l] == s[r]:\n",
    "                if (r - l + 1) > resLen:\n",
    "                    res = s[l:r+1]\n",
    "                    resLen = r - l + 1\n",
    "                l -= 1\n",
    "                r += 1\n",
    "        return res\n",
    "\n",
    "# Create an instance of the Solution class\n",
    "solution = Solution()\n",
    "\n",
    "s = \"babad\"\n",
    "result = solution.longestPalindrome(s)\n",
    "print(result)"
   ]
  },
  {
   "cell_type": "code",
   "execution_count": 144,
   "id": "718ddeb8",
   "metadata": {},
   "outputs": [
    {
     "name": "stdout",
     "output_type": "stream",
     "text": [
      "6\n"
     ]
    }
   ],
   "source": [
    "# Maximum Subarray\n",
    "class Solution(object):\n",
    "    def maxSubArray(self, nums):\n",
    "        \"\"\"\n",
    "        :type nums: List[int]\n",
    "        :rtype: int\n",
    "        \"\"\"\n",
    "        maxSub = nums [0]\n",
    "        curSum = 0\n",
    "        \n",
    "        for n in nums:\n",
    "            if curSum < 0:\n",
    "                curSum = 0\n",
    "            curSum += n\n",
    "            maxSub = max(maxSub, curSum)\n",
    "        return maxSub\n",
    "        \n",
    "        \n",
    "# Create an instance of the Solution class\n",
    "solution = Solution()\n",
    "\n",
    "nums = [-2,1,-3,4,-1,2,1,-5,4]\n",
    "result = solution.maxSubArray(nums)\n",
    "print(result)"
   ]
  },
  {
   "cell_type": "code",
   "execution_count": 148,
   "id": "640d79dd",
   "metadata": {},
   "outputs": [
    {
     "name": "stdout",
     "output_type": "stream",
     "text": [
      "5\n"
     ]
    }
   ],
   "source": [
    "# Best Time to Buy and Sell Stock\n",
    "class Solution(object):\n",
    "    def maxProfit(self, prices):\n",
    "        \"\"\"\n",
    "        :type prices: List[int]\n",
    "        :rtype: int\n",
    "        \"\"\"\n",
    "\n",
    "        minimum_price = prices[0]\n",
    "        maximum_profit = 0\n",
    "\n",
    "        for price in prices:\n",
    "            if price < minimum_price:\n",
    "                minimum_price = price\n",
    "            elif price - minimum_price > maximum_profit:\n",
    "                maximum_profit = price - minimum_price\n",
    "\n",
    "        return maximum_profit\n",
    "    \n",
    "# Create an instance of the Solution class\n",
    "solution = Solution()\n",
    "\n",
    "prices = [7,1,5,3,6,4]\n",
    "result = solution.maxProfit(prices)\n",
    "print(result)"
   ]
  },
  {
   "cell_type": "code",
   "execution_count": 171,
   "id": "4c4fd174",
   "metadata": {},
   "outputs": [
    {
     "name": "stdout",
     "output_type": "stream",
     "text": [
      "False\n"
     ]
    }
   ],
   "source": [
    "# Word Break\n",
    "class Solution(object):\n",
    "    def wordBreak(self, s, wordDict):\n",
    "        \"\"\"\n",
    "        :type s: str\n",
    "        :type wordDict: List[str]\n",
    "        :rtype: bool\n",
    "        \"\"\" \n",
    "        dp = [False] * (len(s) + 1)\n",
    "        dp [len(s)] = True\n",
    "        \n",
    "        for i in range(len(s) - 1, -1, -1):\n",
    "            for w in wordDict:\n",
    "                if (i + len(w)) <= len(s) and s[i:i + len(w)] == w:\n",
    "                    dp[i] = dp[i + len (w)]\n",
    "                if dp[i]:\n",
    "                    break\n",
    "        return dp[0]\n",
    "    \n",
    "# Create an instance of the Solution class\n",
    "solution = Solution()\n",
    "\n",
    "s = \"catsandog\"\n",
    "wordDict = [\"car\",\"ca\",\"rs\"]\n",
    "result = solution.wordBreak(s, wordDict)\n",
    "print(result)"
   ]
  },
  {
   "cell_type": "code",
   "execution_count": 222,
   "id": "9bc60589",
   "metadata": {},
   "outputs": [
    {
     "name": "stdout",
     "output_type": "stream",
     "text": [
      "3\n"
     ]
    }
   ],
   "source": [
    "# Coin Change\n",
    "class Solution(object):\n",
    "    def coinChange(self, coins, amount):\n",
    "        \"\"\"\n",
    "        :type coins: List[int]\n",
    "        :type amount: int\n",
    "        :rtype: int\n",
    "        \"\"\"\n",
    "        dp = [amount + 1] * (amount + 1)\n",
    "        dp [0] = 0\n",
    "        for a in range(1, amount + 1):\n",
    "            for c in coins:\n",
    "                if a - c >= 0:\n",
    "                    dp[a] = min(dp[a], 1 + dp[a - c])\n",
    "        return dp [amount] if dp [amount] != amount + 1 else -1\n",
    "\n",
    "# Create an instance of the Solution class\n",
    "solution = Solution()\n",
    "\n",
    "coins = [1,2,5]\n",
    "amount = 11\n",
    "result = solution.coinChange(coins, amount)\n",
    "print(result)"
   ]
  },
  {
   "cell_type": "markdown",
   "id": "f32975cc",
   "metadata": {},
   "source": [
    "Design"
   ]
  },
  {
   "cell_type": "code",
   "execution_count": 229,
   "id": "09bffeb6",
   "metadata": {},
   "outputs": [
    {
     "name": "stdout",
     "output_type": "stream",
     "text": [
      "4\n"
     ]
    }
   ],
   "source": [
    "# LRU Cache\n",
    "class ListNode:\n",
    "    def __init__(self, key, val):\n",
    "        self.key = key\n",
    "        self.val = val\n",
    "        self.next = None\n",
    "        self.prev = None\n",
    "        \n",
    "class LRUCache(object):\n",
    "\n",
    "    def __init__(self, capacity):\n",
    "        \"\"\"\n",
    "        :type capacity: int\n",
    "        \"\"\"\n",
    "        self.capacity = capacity\n",
    "        self.dic = {}\n",
    "        self.head = ListNode(-1, -1)\n",
    "        self.tail = ListNode(-1, -1)\n",
    "        self.head.next = self.tail\n",
    "        self.tail.prev = self.head\n",
    "\n",
    "    def get(self, key):\n",
    "        \"\"\"\n",
    "        :type key: int\n",
    "        :rtype: int\n",
    "        \"\"\"\n",
    "        if key not in self.dic:\n",
    "            return -1\n",
    "\n",
    "        node = self.dic[key]\n",
    "        self.remove(node)\n",
    "        self.add(node)\n",
    "        return node.val\n",
    "\n",
    "    def put(self, key, value):\n",
    "        \"\"\"\n",
    "        :type key: int\n",
    "        :type value: int\n",
    "        :rtype: None\n",
    "        \"\"\"\n",
    "        if key in self.dic:\n",
    "            old_node = self.dic[key]\n",
    "            self.remove(old_node)\n",
    "\n",
    "        node = ListNode(key, value)\n",
    "        self.dic[key] = node\n",
    "        self.add(node)\n",
    "\n",
    "        if len(self.dic) > self.capacity:\n",
    "            node_to_delete = self.head.next\n",
    "            self.remove(node_to_delete)\n",
    "            del self.dic[node_to_delete.key]\n",
    "\n",
    "    def add(self, node):\n",
    "        previous_end = self.tail.prev\n",
    "        previous_end.next = node\n",
    "        node.prev = previous_end\n",
    "        node.next = self.tail\n",
    "        self.tail.prev = node\n",
    "\n",
    "    def remove(self, node):\n",
    "        node.prev.next = node.next\n",
    "        node.next.prev = node.prev\n",
    "        \n",
    "# Create an instance of the Solution class\n",
    "solution = Solution()\n",
    "\n",
    "lRUCache = LRUCache(2)\n",
    "lRUCache.put(1, 1)\n",
    "lRUCache.put(1, 1) # cache is {1=1}\n",
    "lRUCache.put(2, 2) # cache is {1=1, 2=2}\n",
    "lRUCache.get(1)    # return 1\n",
    "lRUCache.put(3, 3) # LRU key was 2, evicts key 2, cache is {1=1, 3=3}\n",
    "lRUCache.get(2)    # returns -1 (not found)\n",
    "lRUCache.put(4, 4) # LRU key was 1, evicts key 1, cache is {4=4, 3=3}\n",
    "lRUCache.get(1)    # return -1 (not found)\n",
    "lRUCache.get(3)    # return 3\n",
    "lRUCache.get(4)    # return 4\n",
    "print(lRUCache.get(4))"
   ]
  },
  {
   "cell_type": "code",
   "execution_count": null,
   "id": "4ca6b02d",
   "metadata": {},
   "outputs": [],
   "source": []
  }
 ],
 "metadata": {
  "kernelspec": {
   "display_name": "Python 3 (ipykernel)",
   "language": "python",
   "name": "python3"
  },
  "language_info": {
   "codemirror_mode": {
    "name": "ipython",
    "version": 3
   },
   "file_extension": ".py",
   "mimetype": "text/x-python",
   "name": "python",
   "nbconvert_exporter": "python",
   "pygments_lexer": "ipython3",
   "version": "3.11.4"
  }
 },
 "nbformat": 4,
 "nbformat_minor": 5
}
