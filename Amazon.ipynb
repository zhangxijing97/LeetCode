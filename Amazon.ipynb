{
 "cells": [
  {
   "cell_type": "markdown",
   "id": "e62d4c2f",
   "metadata": {},
   "source": [
    "Arrays and Strings"
   ]
  },
  {
   "cell_type": "code",
   "execution_count": 1,
   "id": "9f563311",
   "metadata": {},
   "outputs": [
    {
     "name": "stdout",
     "output_type": "stream",
     "text": [
      "[0, 1]\n"
     ]
    }
   ],
   "source": [
    "# Two Sum\n",
    "\"\"\"\n",
    "Input: nums = [2,7,11,15], target = 9\n",
    "Output: [0,1]\n",
    "Explanation: Because nums[0] + nums[1] == 9, we return [0, 1]\n",
    "\n",
    "Input: nums = [3,2,4], target = 6\n",
    "Output: [1,2]\n",
    "\n",
    "Input: nums = [3,3], target = 6\n",
    "Output: [0,1]\n",
    "\"\"\"\n",
    "\n",
    "class Solution(object):\n",
    "    def twoSum(self, nums, target):\n",
    "        \"\"\"\n",
    "        :type nums: List[int]\n",
    "        :type target: int\n",
    "        :rtype: List[int]\n",
    "        \"\"\"\n",
    "        \n",
    "        for i in range(len(nums)):\n",
    "            for j in range(i + 1, len(nums)):\n",
    "                if nums[i] + nums[j] == target: \n",
    "                    return [i, j]\n",
    "\n",
    "# Create an instance of the Solution class\n",
    "solution = Solution()\n",
    "\n",
    "nums = [2,7,11,15]\n",
    "target = 9\n",
    "output = solution.twoSum(nums, target)\n",
    "print(output)"
   ]
  },
  {
   "cell_type": "code",
   "execution_count": 2,
   "id": "75f52e80",
   "metadata": {},
   "outputs": [
    {
     "name": "stdout",
     "output_type": "stream",
     "text": [
      "3\n"
     ]
    }
   ],
   "source": [
    "# Longest Substring Without Repeating Characters\n",
    "\"\"\"\n",
    "Input: s = \"abcabcbb\"\n",
    "Output: 3\n",
    "Explanation: The answer is \"abc\", with the length of 3.\n",
    "    \n",
    "Input: s = \"bbbbb\"\n",
    "Output: 1\n",
    "Explanation: The answer is \"b\", with the length of 1.\n",
    "\n",
    "Input: s = \"pwwkew\"\n",
    "Output: 3\n",
    "Explanation: The answer is \"wke\", with the length of 3.\n",
    "Notice that the answer must be a substring, \"pwke\" is a subsequence and not a substring.\n",
    "\"\"\"\n",
    "\n",
    "class Solution(object):\n",
    "    def lengthOfLongestSubstring(self, s):\n",
    "        \"\"\"\n",
    "        :type s: str\n",
    "        :rtype: int\n",
    "        \"\"\"\n",
    "        lenOfArray = len(s)\n",
    "        maxLength = 0\n",
    "        charSet = set() # Set is an unordered collection of unique items\n",
    "        left = 0\n",
    "        \n",
    "        for right in range(lenOfArray):\n",
    "            if s[right] not in charSet:\n",
    "                charSet.add(s[right])\n",
    "                maxLength = max(maxLength, right - left + 1)\n",
    "            else:\n",
    "                while s[right] in charSet:\n",
    "                    charSet.remove(s[left]) \n",
    "                    left += 1\n",
    "                charSet.add(s[right])\n",
    "        \n",
    "        return maxLength\n",
    "        \n",
    "        \n",
    "# Create an instance of the Solution class\n",
    "solution = Solution()\n",
    "\n",
    "s = \"pwwkew\"\n",
    "output = solution.lengthOfLongestSubstring(s)\n",
    "print(output)"
   ]
  },
  {
   "cell_type": "code",
   "execution_count": 3,
   "id": "407bcad5",
   "metadata": {},
   "outputs": [
    {
     "name": "stdout",
     "output_type": "stream",
     "text": [
      "42\n"
     ]
    }
   ],
   "source": [
    "# String to Integer (atoi)\n",
    "\"\"\"\n",
    "Input: s = \"42\"\n",
    "Output: 42\n",
    "Explanation: The underlined characters are what is read in, the caret is the current reader position.\n",
    "Step 1: \"42\" (no characters read because there is no leading whitespace)\n",
    "         ^\n",
    "Step 2: \"42\" (no characters read because there is neither a '-' nor '+')\n",
    "         ^\n",
    "Step 3: \"42\" (\"42\" is read in)\n",
    "           ^\n",
    "The parsed integer is 42.\n",
    "Since 42 is in the range [-231, 231 - 1], the final result is 42.\n",
    "\"\"\"\n",
    "\n",
    "# DFA: Deterministic Finite Automaton\n",
    "class Solution(object):\n",
    "    def myAtoi(self, s):\n",
    "        \"\"\"\n",
    "        :type s: str\n",
    "        :rtype: int\n",
    "        \"\"\"\n",
    "\n",
    "        \"\"\"\n",
    "        \" \" -> state = 0\n",
    "        \"+\"or\"-\" -> state = 1\n",
    "        \"0\"-\"9\" -> state = 2\n",
    "        \"\"\"\n",
    "\n",
    "        value, state, pos, sign = 0, 0, 0, 1\n",
    "\n",
    "        if len(s) == 0:\n",
    "            return 0\n",
    "\n",
    "        while pos < len(s):\n",
    "            current_char = s[pos]\n",
    "            if state == 0:\n",
    "                if current_char == \" \":\n",
    "                    state = 0\n",
    "                elif current_char == \"+\" or current_char == \"-\":\n",
    "                    state = 1\n",
    "                    sign = 1 if current_char == \"+\" else -1\n",
    "                elif current_char.isdigit():\n",
    "                    state = 2\n",
    "                    value = value * 10 + int(current_char)\n",
    "                else:\n",
    "                    return 0\n",
    "            elif state == 1:\n",
    "                if current_char.isdigit():\n",
    "                    state = 2\n",
    "                    value = value * 10 + int(current_char)\n",
    "                else:\n",
    "                    return 0\n",
    "            elif state == 2:\n",
    "                if current_char.isdigit():\n",
    "                    state = 2\n",
    "                    value = value * 10 + int(current_char)\n",
    "                else:\n",
    "                    break\n",
    "            else:\n",
    "                return 0\n",
    "            pos += 1\n",
    "\n",
    "        value = sign * value\n",
    "        value = min(value, 2 ** 31 - 1)\n",
    "        value = max(-(2 ** 31), value)\n",
    "\n",
    "        return value\n",
    "        \n",
    "# Create an instance of the Solution class\n",
    "solution = Solution()\n",
    "\n",
    "s = \"0042\"\n",
    "output = solution.myAtoi(s)\n",
    "print(output)"
   ]
  },
  {
   "cell_type": "code",
   "execution_count": 4,
   "id": "8ee2c6b8",
   "metadata": {},
   "outputs": [
    {
     "name": "stdout",
     "output_type": "stream",
     "text": [
      "49\n"
     ]
    }
   ],
   "source": [
    "# Container With Most Water\n",
    "\"\"\"\n",
    "Input: height = [1,8,6,2,5,4,8,3,7]\n",
    "Output: 49\n",
    "\"\"\"\n",
    "class Solution(object):\n",
    "    def maxArea(self, height):\n",
    "        \"\"\"\n",
    "        :type height: List[int]\n",
    "        :rtype: int\n",
    "        \"\"\"\n",
    "        maxarea = 0\n",
    "        left = 0\n",
    "        right = len(height) - 1\n",
    "        \n",
    "        while left < right:\n",
    "            width = right - left\n",
    "            maxarea = max(maxarea, min(height[left], height[right]) * width)\n",
    "            if height[left] < height[right]:\n",
    "                left += 1\n",
    "            else:\n",
    "                right -= 1\n",
    "                \n",
    "        return maxarea\n",
    "        \n",
    "# Create an instance of the Solution class\n",
    "solution = Solution()\n",
    "\n",
    "height = [1,8,6,2,5,4,8,3,7]\n",
    "output = solution.maxArea(height)\n",
    "print(output)"
   ]
  },
  {
   "cell_type": "code",
   "execution_count": 14,
   "id": "edff6c62",
   "metadata": {},
   "outputs": [
    {
     "name": "stdout",
     "output_type": "stream",
     "text": [
      "MCMXCIV\n"
     ]
    }
   ],
   "source": [
    "# Integer to Roman\n",
    "class Solution(object):\n",
    "    def intToRoman(self, num):\n",
    "        \"\"\"\n",
    "        :type num: int\n",
    "        :rtype: str    \n",
    "        \"\"\"\n",
    "        # Define mappings from integer values to Roman numeral symbols\n",
    "        value_to_symbol = [\n",
    "            (1000, \"M\"), (900, \"CM\"), (500, \"D\"), (400, \"CD\"),\n",
    "            (100, \"C\"), (90, \"XC\"), (50, \"L\"), (40, \"XL\"),\n",
    "            (10, \"X\"), (9, \"IX\"), (5, \"V\"), (4, \"IV\"), (1, \"I\")\n",
    "        ]\n",
    "        \n",
    "        output = \"\"\n",
    "        for value, symbol in value_to_symbol:\n",
    "            while num >= value:\n",
    "                num -= value\n",
    "                output += symbol\n",
    "                \n",
    "        return output\n",
    "\n",
    "\n",
    "# Create an instance of the Solution class\n",
    "solution = Solution()\n",
    "\n",
    "num = 1994\n",
    "output = solution.intToRoman(num)\n",
    "print(output)"
   ]
  },
  {
   "cell_type": "code",
   "execution_count": 119,
   "id": "f9e51084",
   "metadata": {},
   "outputs": [
    {
     "name": "stdout",
     "output_type": "stream",
     "text": [
      "ball\n"
     ]
    }
   ],
   "source": [
    "import re\n",
    "\n",
    "# Most Common Word\n",
    "class Solution(object):\n",
    "    def mostCommonWord(self, paragraph, banned):\n",
    "        \"\"\"\n",
    "        :type paragraph: str\n",
    "        :type banned: List[str]\n",
    "        :rtype: str\n",
    "        \"\"\"\n",
    "        \n",
    "        word_count = {}\n",
    "        \n",
    "        words = re.findall(r'\\w+', paragraph.lower())\n",
    "        for i in words:\n",
    "            if i not in banned:\n",
    "                if i not in word_count:\n",
    "                    word_count[i] = 1\n",
    "                else:\n",
    "                    word_count[i] += 1\n",
    "        maxPoint = max(word_count, key=lambda x: word_count[x])\n",
    "                    \n",
    "        return max(word_count, key=lambda x: word_count[x])\n",
    "\n",
    "# Create an instance of the Solution class\n",
    "solution = Solution()\n",
    "\n",
    "paragraph = \"Bob hit a ball, the hit BALL flew far after it was hit.\"\n",
    "banned = [\"hit\"]\n",
    "output = solution.mostCommonWord(paragraph, banned)\n",
    "print(output)"
   ]
  },
  {
   "cell_type": "code",
   "execution_count": 148,
   "id": "340b6533",
   "metadata": {},
   "outputs": [
    {
     "name": "stdout",
     "output_type": "stream",
     "text": [
      "['let1 art can', 'let3 art zero', 'let2 own kit dig', 'dig1 8 1 5 1', 'dig2 3 6']\n"
     ]
    }
   ],
   "source": [
    "# Reorder Log Files\n",
    "# Note: Python uses the first element of each tuple as the primary sorting key. so 0, right_side and left_side\n",
    "class Solution(object):\n",
    "    def reorderLogFiles(self, logs):\n",
    "        \"\"\"\n",
    "        :type logs: List[str]\n",
    "        :rtype: List[str]\n",
    "        \"\"\"\n",
    "        def sorting_algorithm(log):\n",
    "            left_side, right_side = log.split(\" \", 1) # Split the log into two based on the first space and do it only once\n",
    "\n",
    "            if right_side[0].isalpha(): # Check first character of the right side is an alphabet character or not\n",
    "                return (0, right_side, left_side) # If it is, return a tuple with a sorting key of 0, indicating it should be sorted before others\n",
    "            else:\n",
    "                return (1,) # If not an alphabet character, return a tuple with a sorting key of 1, indicating it should be sorted after those with a key of 0\n",
    "        \n",
    "        return sorted(logs, key=sorting_algorithm)\n",
    "\n",
    "# Create an instance of the Solution class\n",
    "solution = Solution()\n",
    "\n",
    "logs = [\"dig1 8 1 5 1\",\"let1 art can\",\"dig2 3 6\",\"let2 own kit dig\",\"let3 art zero\"]\n",
    "output = solution.reorderLogFiles(logs)\n",
    "print(output)"
   ]
  },
  {
   "cell_type": "code",
   "execution_count": 149,
   "id": "232f406f",
   "metadata": {},
   "outputs": [
    {
     "name": "stdout",
     "output_type": "stream",
     "text": [
      "None\n"
     ]
    }
   ],
   "source": [
    "# Trapping Rain Water\n",
    "class Solution(object):\n",
    "    def trap(self, height):\n",
    "        \"\"\"\n",
    "        :type height: List[int]\n",
    "        :rtype: int\n",
    "        \"\"\"\n",
    "\n",
    "# Create an instance of the Solution class\n",
    "solution = Solution()\n",
    "\n",
    "height = [4,2,0,3,2,5]\n",
    "output = solution.trap(height)\n",
    "print(output)      "
   ]
  },
  {
   "cell_type": "code",
   "execution_count": null,
   "id": "296086fc",
   "metadata": {},
   "outputs": [],
   "source": []
  }
 ],
 "metadata": {
  "kernelspec": {
   "display_name": "Python 3 (ipykernel)",
   "language": "python",
   "name": "python3"
  },
  "language_info": {
   "codemirror_mode": {
    "name": "ipython",
    "version": 3
   },
   "file_extension": ".py",
   "mimetype": "text/x-python",
   "name": "python",
   "nbconvert_exporter": "python",
   "pygments_lexer": "ipython3",
   "version": "3.11.4"
  }
 },
 "nbformat": 4,
 "nbformat_minor": 5
}
