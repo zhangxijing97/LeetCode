{
 "cells": [
  {
   "cell_type": "markdown",
   "id": "5dc6b6f8",
   "metadata": {},
   "source": [
    "Say \"Hello, World!\" With Python"
   ]
  },
  {
   "cell_type": "code",
   "execution_count": 141,
   "id": "17562018",
   "metadata": {},
   "outputs": [
    {
     "name": "stdout",
     "output_type": "stream",
     "text": [
      "Hello, World!\n"
     ]
    }
   ],
   "source": [
    "my_string = \"Hello, World!\"\n",
    "print(my_string)"
   ]
  },
  {
   "cell_type": "markdown",
   "id": "97cd0b90",
   "metadata": {},
   "source": [
    "Python If-Else"
   ]
  },
  {
   "cell_type": "code",
   "execution_count": 142,
   "id": "d257cf20",
   "metadata": {},
   "outputs": [
    {
     "name": "stdout",
     "output_type": "stream",
     "text": [
      "Enter a number (float or integer): 5\n",
      "5 is Weird\n"
     ]
    }
   ],
   "source": [
    "import math\n",
    "import os\n",
    "import random\n",
    "import re\n",
    "import sys\n",
    "\n",
    "# input(): This function reads a line of text from the standard input and returns it as a string.\n",
    "# strip(): leaving just the numeric content.\n",
    "# int(): It takes the stripped string from the input() function and converts it into an integer.\n",
    "# if __name__ == '__main__':, is a common construct used in Python scripts and modules.\n",
    "\n",
    "def classify_number(n):\n",
    "    if n % 2 == 1:\n",
    "        return f\"{n} is Weird\"\n",
    "    elif n % 2 == 0 and 2 <= n <= 5:\n",
    "        return f\"{n} is Not Weird\"\n",
    "    elif n % 2 == 0 and 6 <= n <= 20:\n",
    "        return f\"{n} is Weird\"\n",
    "    elif n % 2 == 0 and n > 20:\n",
    "        return f\"{n} is Not Weird\"\n",
    "    else:\n",
    "        return \"Input is out of range\"\n",
    "\n",
    "if __name__ == '__main__':\n",
    "    try:\n",
    "        user_input = input(\"Enter a number (float or integer): \").strip()\n",
    "        n = int(user_input)\n",
    "        result = classify_number(n)\n",
    "        print(result)\n",
    "        \n",
    "    except ValueError:\n",
    "        try:\n",
    "            n = float(user_input)\n",
    "            confirmation = input(f\"Convert {n} to an integer? (yes/no): \").strip().lower()\n",
    "            if confirmation == \"yes\":\n",
    "                n = int(n)\n",
    "                result = classify_number(n)\n",
    "                print(result)\n",
    "            elif confirmation == \"no\":\n",
    "                print(\"Integer conversion canceled.\")\n",
    "            else:\n",
    "                print(\"Invalid confirmation. Please run the code again and enter 'yes' or 'no'.\")\n",
    "\n",
    "        except ValueError:\n",
    "            # If it's neither an integer nor a float, it's invalid input\n",
    "            print(\"Invalid input. Please enter a valid number.\")"
   ]
  },
  {
   "cell_type": "code",
   "execution_count": 143,
   "id": "40999c50",
   "metadata": {},
   "outputs": [
    {
     "name": "stdout",
     "output_type": "stream",
     "text": [
      "This script is being run as the main program.\n",
      "This is a function inside the module\n"
     ]
    }
   ],
   "source": [
    "# checks whether it's being run as the main program\n",
    "def some_function():\n",
    "    print(\"This is a function inside the module\")\n",
    "\n",
    "if __name__ == '__main__':\n",
    "    print(\"This script is being run as the main program.\")\n",
    "    some_function()\n",
    "else:\n",
    "    print(\"This script is being imported as a module.\")"
   ]
  },
  {
   "cell_type": "code",
   "execution_count": null,
   "id": "514f1bde",
   "metadata": {},
   "outputs": [],
   "source": []
  }
 ],
 "metadata": {
  "kernelspec": {
   "display_name": "Python 3 (ipykernel)",
   "language": "python",
   "name": "python3"
  },
  "language_info": {
   "codemirror_mode": {
    "name": "ipython",
    "version": 3
   },
   "file_extension": ".py",
   "mimetype": "text/x-python",
   "name": "python",
   "nbconvert_exporter": "python",
   "pygments_lexer": "ipython3",
   "version": "3.11.4"
  }
 },
 "nbformat": 4,
 "nbformat_minor": 5
}
