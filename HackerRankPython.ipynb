{
 "cells": [
  {
   "cell_type": "markdown",
   "id": "5dc6b6f8",
   "metadata": {},
   "source": [
    "Python>Introduction>Say \"Hello, World!\" With Python"
   ]
  },
  {
   "cell_type": "code",
   "execution_count": 141,
   "id": "17562018",
   "metadata": {},
   "outputs": [
    {
     "name": "stdout",
     "output_type": "stream",
     "text": [
      "Hello, World!\n"
     ]
    }
   ],
   "source": [
    "my_string = \"Hello, World!\"\n",
    "print(my_string)"
   ]
  },
  {
   "cell_type": "markdown",
   "id": "97cd0b90",
   "metadata": {},
   "source": [
    "Python>Introduction>Python If-Else"
   ]
  },
  {
   "cell_type": "code",
   "execution_count": 2,
   "id": "d257cf20",
   "metadata": {},
   "outputs": [
    {
     "name": "stdout",
     "output_type": "stream",
     "text": [
      "Enter a number (float or integer): u\n",
      "Invalid input. Please enter a valid number.\n"
     ]
    }
   ],
   "source": [
    "import math\n",
    "import os\n",
    "import random\n",
    "import re\n",
    "import sys\n",
    "\n",
    "# input(): This function reads a line of text from the standard input and returns it as a string.\n",
    "# strip(): leaving just the numeric content.\n",
    "# int(): It takes the stripped string from the input() function and converts it into an integer.\n",
    "# if __name__ == '__main__':, is a common construct used in Python scripts and modules.\n",
    "\n",
    "def classify_number(n):\n",
    "    if n % 2 == 1:\n",
    "        return f\"{n} is Weird\"\n",
    "    elif n % 2 == 0 and 2 <= n <= 5:\n",
    "        return f\"{n} is Not Weird\"\n",
    "    elif n % 2 == 0 and 6 <= n <= 20:\n",
    "        return f\"{n} is Weird\"\n",
    "    elif n % 2 == 0 and n > 20:\n",
    "        return f\"{n} is Not Weird\"\n",
    "    else:\n",
    "        return \"Input is out of range\"\n",
    "\n",
    "if __name__ == '__main__':\n",
    "    try:\n",
    "        user_input = input(\"Enter a number (float or integer): \").strip()\n",
    "        n = int(user_input)\n",
    "        result = classify_number(n)\n",
    "        print(result)\n",
    "        \n",
    "    except ValueError:\n",
    "        try:\n",
    "            n = float(user_input)\n",
    "            confirmation = input(f\"Convert {n} to an integer? (yes/no): \").strip().lower()\n",
    "            if confirmation == \"yes\":\n",
    "                n = int(n)\n",
    "                result = classify_number(n)\n",
    "                print(result)\n",
    "            elif confirmation == \"no\":\n",
    "                print(\"Integer conversion canceled.\")\n",
    "            else:\n",
    "                print(\"Invalid confirmation. Please run the code again and enter 'yes' or 'no'.\")\n",
    "\n",
    "        except ValueError:\n",
    "            # If it's neither an integer nor a float, it's invalid input\n",
    "            print(\"Invalid input. Please enter a valid number.\")"
   ]
  },
  {
   "cell_type": "code",
   "execution_count": 143,
   "id": "40999c50",
   "metadata": {},
   "outputs": [
    {
     "name": "stdout",
     "output_type": "stream",
     "text": [
      "This script is being run as the main program.\n",
      "This is a function inside the module\n"
     ]
    }
   ],
   "source": [
    "# checks whether it's being run as the main program\n",
    "def some_function():\n",
    "    print(\"This is a function inside the module\")\n",
    "\n",
    "if __name__ == '__main__':\n",
    "    print(\"This script is being run as the main program.\")\n",
    "    some_function()\n",
    "else:\n",
    "    print(\"This script is being imported as a module.\")"
   ]
  },
  {
   "cell_type": "markdown",
   "id": "f0e0bc8e",
   "metadata": {},
   "source": [
    "Python>Introduction>Arithmetic Operators"
   ]
  },
  {
   "cell_type": "code",
   "execution_count": 144,
   "id": "c6704f71",
   "metadata": {},
   "outputs": [
    {
     "name": "stdout",
     "output_type": "stream",
     "text": [
      "4\n",
      "3\n",
      "7\n",
      "1\n",
      "12\n"
     ]
    }
   ],
   "source": [
    "if __name__ == '__main__':\n",
    "    a = int(input())\n",
    "    b = int(input())\n",
    "    \n",
    "    print(a+b)\n",
    "    print(a-b)\n",
    "    print(a*b)"
   ]
  },
  {
   "cell_type": "markdown",
   "id": "240ada07",
   "metadata": {},
   "source": [
    "Python>Introduction>Python: Division"
   ]
  },
  {
   "cell_type": "code",
   "execution_count": 146,
   "id": "11e5336e",
   "metadata": {},
   "outputs": [
    {
     "name": "stdout",
     "output_type": "stream",
     "text": [
      "10\n",
      "5\n",
      "2\n",
      "2.0\n"
     ]
    }
   ],
   "source": [
    "# //: returns the integer part of the result\n",
    "if __name__ == '__main__':\n",
    "    a = int(input())\n",
    "    b = int(input())\n",
    "    \n",
    "    print(a//b)\n",
    "    print(a/b)"
   ]
  },
  {
   "cell_type": "markdown",
   "id": "37478737",
   "metadata": {},
   "source": [
    "Python>Introduction>Loops"
   ]
  },
  {
   "cell_type": "code",
   "execution_count": 148,
   "id": "62ab9346",
   "metadata": {},
   "outputs": [
    {
     "name": "stdout",
     "output_type": "stream",
     "text": [
      "3\n",
      "0\n",
      "1\n",
      "4\n"
     ]
    }
   ],
   "source": [
    "if __name__ == '__main__':\n",
    "    n = int(input())\n",
    "    \n",
    "    if n >=0 and n <=20:\n",
    "        for i in range(n):\n",
    "            print(i**2)\n",
    "    else:\n",
    "        print(\"Please enter a non-negative integer.\")"
   ]
  },
  {
   "cell_type": "markdown",
   "id": "490a59bc",
   "metadata": {},
   "source": [
    "Python>Introduction>Write a function"
   ]
  },
  {
   "cell_type": "code",
   "execution_count": 153,
   "id": "726b10b6",
   "metadata": {},
   "outputs": [
    {
     "name": "stdout",
     "output_type": "stream",
     "text": [
      "2000\n",
      "True\n"
     ]
    }
   ],
   "source": [
    "def is_leap(year):\n",
    "    leap = False\n",
    "    \n",
    "    # Write your logic here\n",
    "    if year % 4 == 0:\n",
    "        leap = True\n",
    "        if year % 100 == 0:\n",
    "            leap = False\n",
    "            if year % 400 == 0:\n",
    "                leap = True\n",
    "        else:\n",
    "            leap = True\n",
    "    else:\n",
    "        leap = False\n",
    "    \n",
    "    return leap\n",
    "\n",
    "year = int(input())\n",
    "print(is_leap(year))"
   ]
  },
  {
   "cell_type": "markdown",
   "id": "7edab2a1",
   "metadata": {},
   "source": [
    "Python>Introduction>Print Function"
   ]
  },
  {
   "cell_type": "code",
   "execution_count": 163,
   "id": "c9fb3f7e",
   "metadata": {},
   "outputs": [
    {
     "name": "stdout",
     "output_type": "stream",
     "text": [
      "100\n",
      "123456789101112131415161718192021222324252627282930313233343536373839404142434445464748495051525354555657585960616263646566676869707172737475767778798081828384858687888990919293949596979899100\n"
     ]
    }
   ],
   "source": [
    "def print_function(n):\n",
    "    if n >=1 and n <=150:\n",
    "        for i in range(n):\n",
    "            print(i+1, end='')\n",
    "        print()\n",
    "    else:\n",
    "        print(\"Please enter a non-negative integer.\")\n",
    "    \n",
    "if __name__ == '__main__':\n",
    "    n = int(input())\n",
    "    print_function(n)"
   ]
  },
  {
   "cell_type": "markdown",
   "id": "63338c88",
   "metadata": {},
   "source": [
    "Python>Basic Data Types>List Comprehensions"
   ]
  },
  {
   "cell_type": "code",
   "execution_count": 167,
   "id": "b3d639c8",
   "metadata": {},
   "outputs": [
    {
     "name": "stdout",
     "output_type": "stream",
     "text": [
      "1\n",
      "1\n",
      "1\n",
      "2\n",
      "[[0, 0, 0], [0, 0, 1], [0, 1, 0], [1, 0, 0], [1, 1, 1]]\n"
     ]
    }
   ],
   "source": [
    "if __name__ == '__main__':\n",
    "    x = int(input())\n",
    "    y = int(input())\n",
    "    z = int(input())\n",
    "    n = int(input())\n",
    "\n",
    "    # Create a list of coordinate points (i, j, k)\n",
    "    coordinates = [[i, j, k] for i in range(x + 1) for j in range(y + 1) for k in range(z + 1) if i + j + k != n]\n",
    "\n",
    "    print(coordinates)"
   ]
  },
  {
   "cell_type": "markdown",
   "id": "eb456335",
   "metadata": {},
   "source": [
    "Python>Basic Data Types>Find the Runner-Up Score!"
   ]
  },
  {
   "cell_type": "code",
   "execution_count": 182,
   "id": "51521656",
   "metadata": {},
   "outputs": [
    {
     "name": "stdout",
     "output_type": "stream",
     "text": [
      "5\n",
      "23 25 25 27 44\n",
      "27\n"
     ]
    }
   ],
   "source": [
    "# input().split() reads a line of space-separated numbers from the user and splits it into a list of strings.\n",
    "# map(int, ...) converts each of these strings into integers.\n",
    "# list(...) converts the map object into a list.\n",
    "\n",
    "if __name__ == '__main__': \n",
    "    n = int(input())\n",
    "    arr = list(map(int, input().split()))\n",
    "    m = list(set(arr)) # to removing duplicates\n",
    "    m.sort() # from biggest to smallest\n",
    "    m.reverse() # reverse\n",
    "\n",
    "    print(m[1])"
   ]
  },
  {
   "cell_type": "markdown",
   "id": "bf965421",
   "metadata": {},
   "source": [
    "Python>Basic Data Types>Nested Lists"
   ]
  },
  {
   "cell_type": "code",
   "execution_count": 187,
   "id": "29c27613",
   "metadata": {},
   "outputs": [
    {
     "name": "stdout",
     "output_type": "stream",
     "text": [
      "1\n",
      "ad\n",
      "3\n",
      "0\n"
     ]
    }
   ],
   "source": []
  },
  {
   "cell_type": "code",
   "execution_count": null,
   "id": "9480d753",
   "metadata": {},
   "outputs": [],
   "source": []
  },
  {
   "cell_type": "code",
   "execution_count": null,
   "id": "00e7a777",
   "metadata": {},
   "outputs": [],
   "source": []
  }
 ],
 "metadata": {
  "kernelspec": {
   "display_name": "Python 3 (ipykernel)",
   "language": "python",
   "name": "python3"
  },
  "language_info": {
   "codemirror_mode": {
    "name": "ipython",
    "version": 3
   },
   "file_extension": ".py",
   "mimetype": "text/x-python",
   "name": "python",
   "nbconvert_exporter": "python",
   "pygments_lexer": "ipython3",
   "version": "3.11.4"
  }
 },
 "nbformat": 4,
 "nbformat_minor": 5
}
