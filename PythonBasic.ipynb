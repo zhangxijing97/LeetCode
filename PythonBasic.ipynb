{
 "cells": [
  {
   "cell_type": "markdown",
   "id": "8ad9ed60",
   "metadata": {},
   "source": [
    "### Get the data type of variable"
   ]
  },
  {
   "cell_type": "code",
   "execution_count": 1,
   "id": "64f98425",
   "metadata": {},
   "outputs": [
    {
     "name": "stdout",
     "output_type": "stream",
     "text": [
      "<class 'int'>\n"
     ]
    }
   ],
   "source": [
    "int1  = 100\n",
    "print(type(int1))"
   ]
  },
  {
   "cell_type": "code",
   "execution_count": 4,
   "id": "742abbf1",
   "metadata": {},
   "outputs": [
    {
     "name": "stdout",
     "output_type": "stream",
     "text": [
      "int\n"
     ]
    }
   ],
   "source": [
    "print(type(int1).__name__)"
   ]
  },
  {
   "cell_type": "markdown",
   "id": "bab6b481",
   "metadata": {},
   "source": [
    "### Delete a variable"
   ]
  },
  {
   "cell_type": "code",
   "execution_count": 11,
   "id": "96bf54f7",
   "metadata": {},
   "outputs": [
    {
     "name": "stdout",
     "output_type": "stream",
     "text": [
      "1\n"
     ]
    }
   ],
   "source": [
    "int1 = 1\n",
    "print(int1)\n",
    "del int1"
   ]
  },
  {
   "cell_type": "markdown",
   "id": "001cdb73",
   "metadata": {},
   "source": [
    "### Arithmatic operators\n",
    "\n",
    "| Operator | Meaning | Example |\n",
    "| --- | --- | --- |\n",
    "| + | Add two operators or unary plus | x+y |\n",
    "|-\t|Subtract right operand from the left or unary minus|\tx-y|\n",
    "|* |\tMultiply two operands| x*y |\n",
    "|/\t|Divide left operand by the right one (always results into float)|\tx/y|\n",
    "|%|\tModulus - remainder of the division of left operand by the right|\tx % y (remainder of x/y)|\n",
    "|//\t|Floor division - division that results into whole number adjusted to the left in the number line|\tx // y|\n",
    "|**\t|Exponent - left operand raised to the power of right |\tx**y  (x to the power y) |"
   ]
  },
  {
   "cell_type": "code",
   "execution_count": 13,
   "id": "0148b142",
   "metadata": {},
   "outputs": [
    {
     "name": "stdout",
     "output_type": "stream",
     "text": [
      "x ** y = 38416\n"
     ]
    }
   ],
   "source": [
    "x = 14\n",
    "y = 4\n",
    "# Output: x ** y = 38416\n",
    "print('x ** y =',x**y)"
   ]
  },
  {
   "cell_type": "markdown",
   "id": "6983c2a6",
   "metadata": {},
   "source": [
    "### Identity operators\n",
    "`is` and `is not` are the identity operators in Python. They are used to check if two values (or variables) are located on the same part of the memory. Two variables that are equal does not imply that they are identical.\n",
    "\n",
    "|Operator|\tMeaning|\tExample|\n",
    "| --- | --- | --- |\n",
    "|is\t|True if the operands are identical (refer to the same object)|\tx is True|\n",
    "|is not|\tTrue if the operands are not identical (do not refer to the same object)|\tx is not True|"
   ]
  },
  {
   "cell_type": "code",
   "execution_count": 16,
   "id": "18a79b79",
   "metadata": {},
   "outputs": [
    {
     "name": "stdout",
     "output_type": "stream",
     "text": [
      "False\n",
      "True\n",
      "False\n"
     ]
    }
   ],
   "source": [
    "x1 = 5\n",
    "y1 = 5\n",
    "x2 = 'Hello'\n",
    "y2 = 'Hello'\n",
    "x3 = [1,2,3]\n",
    "y3 = [1,2,3]\n",
    "\n",
    "# Output: False\n",
    "print(x1 is not y1)\n",
    "\n",
    "# Output: True\n",
    "# x2 and y2 both reference the same memory location where the string 'Hello' is stored.\n",
    "print(x2 is y2)\n",
    "\n",
    "# Output: False\n",
    "print(x3 is y3)"
   ]
  },
  {
   "cell_type": "markdown",
   "id": "c366a2c1",
   "metadata": {},
   "source": [
    "### Membership operators\n",
    "`in` and `not` in are the membership operators in Python. They are used to test whether a value or variable is found in a sequence (`string`, `list`, `tuple`, `set` and `dictionary`).\n",
    "\n",
    "In a dictionary we can only test for presence of key, not the value.\n",
    "\n",
    "|Operator|\tMeaning|\tExample|\n",
    "| --- | --- | --- |\n",
    "|in|\tTrue if value/variable is found in the sequence|\t5 in x|\n",
    "|not| in\tTrue if value/variable is not found in the sequence\t|5 not in x|"
   ]
  },
  {
   "cell_type": "code",
   "execution_count": 20,
   "id": "0f0bc5c6",
   "metadata": {},
   "outputs": [
    {
     "name": "stdout",
     "output_type": "stream",
     "text": [
      "True\n",
      "True\n",
      "True\n",
      "False\n",
      "<class 'dict'>\n"
     ]
    }
   ],
   "source": [
    "x = 'Hello world'\n",
    "y = {1:'a',2:'b'}\n",
    "\n",
    "# Output: True\n",
    "print('H' in x)\n",
    "\n",
    "# Output: True\n",
    "print('hello' not in x)\n",
    "\n",
    "# Output: True\n",
    "print(1 in y)\n",
    "\n",
    "# Output: False\n",
    "print('a' in y)\n",
    "print(type(y))"
   ]
  },
  {
   "cell_type": "code",
   "execution_count": null,
   "id": "c1bb348e",
   "metadata": {},
   "outputs": [],
   "source": []
  }
 ],
 "metadata": {
  "kernelspec": {
   "display_name": "Python 3 (ipykernel)",
   "language": "python",
   "name": "python3"
  },
  "language_info": {
   "codemirror_mode": {
    "name": "ipython",
    "version": 3
   },
   "file_extension": ".py",
   "mimetype": "text/x-python",
   "name": "python",
   "nbconvert_exporter": "python",
   "pygments_lexer": "ipython3",
   "version": "3.11.4"
  }
 },
 "nbformat": 4,
 "nbformat_minor": 5
}
