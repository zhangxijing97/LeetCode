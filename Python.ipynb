{
 "cells": [
  {
   "cell_type": "code",
   "execution_count": 3,
   "id": "66759d54",
   "metadata": {},
   "outputs": [
    {
     "name": "stdout",
     "output_type": "stream",
     "text": [
      "5\n",
      "John\n"
     ]
    }
   ],
   "source": [
    "# Variables\n",
    "x = 5\n",
    "y = \"John\"\n",
    "print(x)\n",
    "print(y)\n",
    "\n",
    "x = str(3)    # x will be '3'\n",
    "y = int(3)    # y will be 3\n",
    "z = float(3)  # z will be 3.0"
   ]
  },
  {
   "cell_type": "code",
   "execution_count": 7,
   "id": "fa795ae7",
   "metadata": {},
   "outputs": [
    {
     "name": "stdout",
     "output_type": "stream",
     "text": [
      "2.8\n",
      "2.8\n",
      "<class 'float'>\n",
      "5 5\n"
     ]
    }
   ],
   "source": [
    "x = float(2.8)\n",
    "y = 2.8\n",
    "print(x)\n",
    "print(y)\n",
    "print(type(x))\n",
    "\n",
    "x = 5\n",
    "y = 5\n",
    "print (x,y)"
   ]
  },
  {
   "cell_type": "code",
   "execution_count": 1,
   "id": "e05dcb22",
   "metadata": {},
   "outputs": [],
   "source": [
    "# Casting\n",
    "x = int(1)   # x will be 1\n",
    "y = int(2.8) # y will be 2\n",
    "z = int(\"3\") # z will be 3\n",
    "\n",
    "x = float(1)     # x will be 1.0\n",
    "y = float(2.8)   # y will be 2.8\n",
    "z = float(\"3\")   # z will be 3.0\n",
    "w = float(\"4.2\") # w will be 4.2\n",
    "\n",
    "x = str(\"s1\") # x will be 's1'\n",
    "y = str(2)    # y will be '2'\n",
    "z = str(3.0)  # z will be '3.0'"
   ]
  },
  {
   "cell_type": "code",
   "execution_count": 2,
   "id": "3582d470",
   "metadata": {},
   "outputs": [
    {
     "name": "stdout",
     "output_type": "stream",
     "text": [
      "7.5\n",
      "1\n",
      "225\n",
      "7\n"
     ]
    }
   ],
   "source": [
    "# Operators\n",
    "x = 15\n",
    "y = 2\n",
    "print(x / y)\n",
    "print(x % y)\n",
    "print(x ** y)\n",
    "print(x // y)"
   ]
  },
  {
   "cell_type": "markdown",
   "id": "c52aa456",
   "metadata": {},
   "source": [
    "List is a collection which is ordered and changeable. Allows duplicate members.\n",
    "\n",
    "Tuple is a collection which is ordered and unchangeable. Allows duplicate members.\n",
    "\n",
    "Set is a collection which is unordered, unchangeable*, and unindexed. No duplicate members.\n",
    "\n",
    "Dictionary is a collection which is ordered** and changeable. No duplicate members."
   ]
  },
  {
   "cell_type": "markdown",
   "id": "c8a954a1",
   "metadata": {},
   "source": [
    "#### List  Methods and functions\n",
    "\n",
    "| Method |   Action   |\n",
    "|:---|:---|\n",
    "|   len(x) | Returns the number of items in x   |\n",
    "|   x.index(i) | Returns the index of items in x   |\n",
    "|   min(x) | Returns the minimum value in x     |\n",
    "|   max(x) | Returns the maximum of items in x   |\n",
    "|   x.append(x1) | will append x1 to the end of x     |\n",
    "|   x.extend(x1) | will extend the list x by appending all the elements i list x1, x1 has to be a list  |\n",
    "|   x.insert(i,x1) | will insert item x1 at index i    |\n",
    "|   x.count(i) | Returns frequency of occurence of i  |\n",
    "|   x.remove(i)| Will remove the first i from x  will raise ValueError ifnthere is no i      |\n",
    "|   x.pop([i]) | will remove and return the item at index i.  |\n",
    "|   del x[a:b] | This method deletes all the elements in range starting from index ‘a’ till ‘b’ mentioned in arguments.    |\n",
    "|   x.sort() | Will sort the items in A in-place   |\n",
    "|   x.reverse() | Reverse the order of the list in place   |\n",
    "|   all(list1) | True if all items in the list have a True value  |\n",
    "|   any(list1) | True if one item in the list have a True value  |\n",
    "\n",
    "\n",
    "*Note: Make sure to understand the difference between append and extend methods.*\n",
    "\n",
    "**Note:** make sure to understand the difference between pop, del and remove \n",
    "\n",
    "Let us consider some examples to illustrate these methods and functions"
   ]
  },
  {
   "cell_type": "code",
   "execution_count": 1,
   "id": "c13c7ff9",
   "metadata": {},
   "outputs": [
    {
     "name": "stdout",
     "output_type": "stream",
     "text": [
      "['apple', 'banana', 'cherry', 'apple', 'cherry']\n",
      "5\n",
      "34\n",
      "male\n",
      "[True, 40, 'male']\n",
      "['abc', 34, True, 40]\n",
      "[34, True, 40]\n",
      "Yes, 'abc' is in the fruits list\n",
      "['apple', 'blackcurrant', 'watermelon', 'cherry', 'apple', 'cherry']\n",
      "['apple', 'watermelon', 'cherry', 'apple', 'cherry']\n",
      "['apple', 'watermelon', 'watermelon', 'cherry', 'apple', 'cherry']\n",
      "['apple', 'orange', 'watermelon', 'watermelon', 'cherry', 'apple', 'cherry', 'orange']\n",
      "['apple', 'watermelon', 'watermelon', 'cherry', 'apple', 'cherry', 'orange']\n",
      "[]\n",
      "apple\n",
      "banana\n",
      "cherry\n",
      "apple\n",
      "banana\n",
      "cherry\n",
      "['apple', 'banana', 'mango']\n",
      "['apple', 'banana', 'mango']\n",
      "['apple', 'banana', 'cherry', 'kiwi', 'mango']\n",
      "[23, 50, 65, 82, 100]\n",
      "['pineapple', 'orange', 'mango', 'kiwi', 'banana']\n",
      "[50, 65, 23, 82, 100]\n",
      "['a', 'b', 'c', 1, 2, 3]\n"
     ]
    }
   ],
   "source": [
    "# Lists\n",
    "# List is a collection which is ordered and changeable. Allows duplicate members.\n",
    "thislist = [\"apple\", \"banana\", \"cherry\", \"apple\", \"cherry\"]\n",
    "print(thislist)\n",
    "print(len(thislist))\n",
    "\n",
    "# Access List Items\n",
    "list1 = [\"abc\", 34, True, 40, \"male\"]\n",
    "print(list1[1])\n",
    "print(list1[-1])\n",
    "print(list1[2:5])\n",
    "print(list1[:4])\n",
    "print(list1[-4:-1])\n",
    "if \"abc\" in list1:\n",
    "    print(\"Yes, 'abc' is in the fruits list\")\n",
    "\n",
    "# Change List Items\n",
    "thislist[1] = \"blackcurrant\"\n",
    "thislist[1:2] = [\"blackcurrant\", \"watermelon\"]\n",
    "print(thislist)\n",
    "thislist[1:3] = [\"watermelon\"]\n",
    "print(thislist)\n",
    "thislist.insert(2, \"watermelon\")\n",
    "print(thislist)\n",
    "\n",
    "# Add List Items\n",
    "thislist.append(\"orange\")\n",
    "thislist.insert(1, \"orange\")\n",
    "print(thislist)\n",
    "\n",
    "# Remove List Items\n",
    "thislist.pop(1)\n",
    "print(thislist)\n",
    "thislist.pop()\n",
    "thislist.clear()\n",
    "print(thislist)\n",
    "del thislist # Delete the list completely\n",
    "\n",
    "# Loop Lists\n",
    "thislist = [\"apple\", \"banana\", \"cherry\"]\n",
    "for x in thislist:\n",
    "    print(x)\n",
    "for i in range(len(thislist)):\n",
    "    print(thislist[i])\n",
    "\n",
    "# List Comprehension\n",
    "fruits = [\"apple\", \"banana\", \"cherry\", \"kiwi\", \"mango\"]\n",
    "newlist = []\n",
    "for x in fruits:\n",
    "    if \"a\" in x:\n",
    "        newlist.append(x)\n",
    "print(newlist)\n",
    "\n",
    "newlist = [x for x in fruits if \"a\" in x] # Shorter version\n",
    "print(newlist)\n",
    "newlist = [x for x in fruits]\n",
    "print(newlist)\n",
    "\n",
    "# Sort Lists\n",
    "thislist = [100, 50, 65, 82, 23]\n",
    "thislist.sort()\n",
    "print(thislist)\n",
    "thislist = [\"orange\", \"mango\", \"kiwi\", \"pineapple\", \"banana\"]\n",
    "thislist.sort(reverse = True)\n",
    "print(thislist)\n",
    "\n",
    "def myfunc(n): # Sort the list based on how close the number is to 50\n",
    "    return abs(n - 50)\n",
    "thislist = [100, 50, 65, 82, 23]\n",
    "thislist.sort(key = myfunc)\n",
    "print(thislist)\n",
    "\n",
    "# Join Lists\n",
    "list1 = [\"a\", \"b\", \"c\"]\n",
    "list2 = [1, 2, 3]\n",
    "list3 = list1 + list2\n",
    "print(list3)"
   ]
  },
  {
   "cell_type": "code",
   "execution_count": 10,
   "id": "57acea79",
   "metadata": {},
   "outputs": [
    {
     "name": "stdout",
     "output_type": "stream",
     "text": [
      "banana\n",
      "('apple', 'banana', 'cherry', 'orange')\n",
      "('banana', 'cherry')\n",
      "('a', 'b', 'c', 1, 2, 3)\n",
      "('apple', 'banana', 'cherry', 'apple', 'banana', 'cherry')\n"
     ]
    }
   ],
   "source": [
    "# Tuples\n",
    "# Tuple is a collection which is ordered and unchangeable. Allows duplicate members.\n",
    "thistuple = (\"apple\", \"banana\", \"cherry\")\n",
    "print(thistuple[1])\n",
    "\n",
    "y = list(thistuple)\n",
    "y.append(\"orange\")\n",
    "thistuple = tuple(y)\n",
    "print(thistuple)\n",
    "\n",
    "thistuple = (\"apple\", \"banana\", \"cherry\")\n",
    "y = list(thistuple)\n",
    "y.remove(\"apple\")\n",
    "thistuple = tuple(y)\n",
    "print(thistuple)\n",
    "\n",
    "tuple1 = (\"a\", \"b\" , \"c\")\n",
    "tuple2 = (1, 2, 3)\n",
    "tuple3 = tuple1 + tuple2\n",
    "print(tuple3)\n",
    "\n",
    "fruits = (\"apple\", \"banana\", \"cherry\")\n",
    "mytuple = fruits * 2\n",
    "print(mytuple)"
   ]
  },
  {
   "cell_type": "code",
   "execution_count": 3,
   "id": "3af0bf93",
   "metadata": {},
   "outputs": [
    {
     "name": "stdout",
     "output_type": "stream",
     "text": [
      "{'banana', True, 2, 'cherry', 'apple'}\n",
      "banana\n",
      "True\n",
      "2\n",
      "cherry\n",
      "apple\n",
      "{'banana', 'cherry', 'mango', 'papaya', 'pineapple', 'apple'}\n",
      "{'cherry', 'mango', 'papaya', 'pineapple', 'apple'}\n",
      "{'cherry', 'papaya', 'pineapple', 'apple'}\n",
      "{'b', 'c', 1, 2, 3, 'a'}\n"
     ]
    }
   ],
   "source": [
    "# Sets\n",
    "# Set is a collection which is unordered, unchangeable*, and unindexed. No duplicate members.\n",
    "thisset = {\"apple\", \"banana\", \"cherry\", True, 1, 2}\n",
    "print(thisset)\n",
    "\n",
    "# Access Items\n",
    "for x in thisset:\n",
    "  print(x)\n",
    "\n",
    "# Add Items\n",
    "thisset.add(\"orange\")\n",
    "\n",
    "# Add Sets\n",
    "thisset = {\"apple\", \"banana\", \"cherry\"}\n",
    "tropical = {\"pineapple\", \"mango\", \"papaya\"}\n",
    "thisset.update(tropical)\n",
    "print(thisset)\n",
    "\n",
    "# Remove Item\n",
    "thisset.remove(\"banana\")\n",
    "print(thisset)\n",
    "thisset.discard(\"mango\")\n",
    "print(thisset)\n",
    "\n",
    "# Join Two Sets\n",
    "set1 = {\"a\", \"b\" , \"c\"}\n",
    "set2 = {1, 2, 3}\n",
    "set1.update(set2)\n",
    "print(set1)"
   ]
  },
  {
   "cell_type": "code",
   "execution_count": 2,
   "id": "a9101ff3",
   "metadata": {},
   "outputs": [
    {
     "name": "stdout",
     "output_type": "stream",
     "text": [
      "{'brand': 'Ford', 'model': 'Mustang', 'year': 1964}\n",
      "Mustang\n",
      "Ford\n",
      "dict_keys(['brand', 'model', 'year'])\n",
      "dict_keys(['brand', 'model', 'year', 'color'])\n",
      "dict_values(['Ford', 'Mustang', 1964, 'white'])\n",
      "Yes, 'model' is one of the keys in the thisdict dictionary\n"
     ]
    }
   ],
   "source": [
    "# Dictionaries\n",
    "# Dictionary is a collection which is ordered** and changeable. No duplicate members.\n",
    "thisdict = {\n",
    "  \"brand\": \"Ford\",\n",
    "  \"model\": \"Mustang\",\n",
    "  \"year\": 1964\n",
    "}\n",
    "print(thisdict)\n",
    "\n",
    "# Access Items\n",
    "x = thisdict.get(\"model\")\n",
    "print(x)\n",
    "y = thisdict.get(\"brand\")\n",
    "print(y)\n",
    "\n",
    "# Get Keys\n",
    "x = thisdict.keys()\n",
    "print(x)\n",
    "thisdict[\"color\"] = \"white\"\n",
    "print(x) #after the change\n",
    "\n",
    "# Get Values\n",
    "x = thisdict.values()\n",
    "print(x)\n",
    "\n",
    "# Check if Key Exists\n",
    "if \"model\" in thisdict:\n",
    "  print(\"Yes, 'model' is one of the keys in the thisdict dictionary\")\n",
    "\n",
    "# Change Dictionary Items\n"
   ]
  },
  {
   "cell_type": "code",
   "execution_count": null,
   "id": "18509927",
   "metadata": {},
   "outputs": [],
   "source": []
  }
 ],
 "metadata": {
  "kernelspec": {
   "display_name": "Python 3 (ipykernel)",
   "language": "python",
   "name": "python3"
  },
  "language_info": {
   "codemirror_mode": {
    "name": "ipython",
    "version": 3
   },
   "file_extension": ".py",
   "mimetype": "text/x-python",
   "name": "python",
   "nbconvert_exporter": "python",
   "pygments_lexer": "ipython3",
   "version": "3.11.4"
  }
 },
 "nbformat": 4,
 "nbformat_minor": 5
}
