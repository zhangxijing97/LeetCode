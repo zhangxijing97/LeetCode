{
 "cells": [
  {
   "cell_type": "markdown",
   "id": "f6f3faff-bc52-449f-96e5-c8e2d5795bbd",
   "metadata": {},
   "source": [
    "Arrays and Strings"
   ]
  },
  {
   "cell_type": "code",
   "execution_count": 40,
   "id": "ff3dda31-4964-4a6e-8186-a5a817163868",
   "metadata": {},
   "outputs": [
    {
     "name": "stdout",
     "output_type": "stream",
     "text": [
      "3\n"
     ]
    }
   ],
   "source": [
    "# Longest Substring Without Repeating Characters\n",
    "class Solution(object):\n",
    "    def lengthOfLongestSubstring(self, s):\n",
    "        \"\"\"\n",
    "        :type s: str\n",
    "        :rtype: int\n",
    "        \"\"\"\n",
    "        left = 0\n",
    "        maxLength = 0\n",
    "        charSet = set()\n",
    "        \n",
    "        for right in range(len(s)):\n",
    "            if s[right] not in charSet:\n",
    "                charSet.add(s[right])\n",
    "                maxLength = max(maxLength, right - left + 1)\n",
    "            else:\n",
    "                while s[right] in charSet:\n",
    "                    charSet.remove(s[left])\n",
    "                    left += 1\n",
    "                charSet.add(s[right])\n",
    "        return maxLength\n",
    "\n",
    "# Create an instance of the Solution class\n",
    "solution = Solution()\n",
    "\n",
    "s = \"abcabcbb\"\n",
    "output = solution.lengthOfLongestSubstring(s)\n",
    "print(output)"
   ]
  },
  {
   "cell_type": "code",
   "execution_count": null,
   "id": "9c1e590c-f428-4fbc-b3e4-8fdaa05c039e",
   "metadata": {},
   "outputs": [],
   "source": [
    "# String to Integer (atoi)\n",
    "# 1. Whitespace\n",
    "# Input: s = \"042\"\n",
    "# Output: 42\n",
    "\n",
    "# 2. Signedness\n",
    "# 3. Conversion: Read the integer by skipping leading zeros until a non-digit character is encountered\n",
    "# Input: s = \" -042\"\n",
    "# Output: -42\n",
    "\n",
    "# 4. Rounding: If the integer is out of the 32-bit signed integer range [-2^31, 2^31 - 1], then round the integer to remain in the range.\n",
    "\n",
    "# Solution:\n",
    "# if current_char == \" \":\n",
    "#     state = 0\n",
    "# if current_char == \"+\" or current_char == \"-\":\n",
    "#     state = 1\n",
    "# if current_char.isdigit():\n",
    "#     state = 2"
   ]
  },
  {
   "cell_type": "code",
   "execution_count": 88,
   "id": "d233c5ff-b005-497e-b8b2-94d36fcf84ad",
   "metadata": {},
   "outputs": [
    {
     "name": "stdout",
     "output_type": "stream",
     "text": [
      "-7\n"
     ]
    }
   ],
   "source": [
    "# String to Integer (atoi)\n",
    "class Solution(object):\n",
    "    def myAtoi(self, s):\n",
    "        \"\"\"\n",
    "        :type s: str\n",
    "        :rtype: int\n",
    "        \"\"\"\n",
    "        value, state, pos, sign = 0, 0, 0, 1\n",
    "\n",
    "        if len(s) == 0:\n",
    "            return 0\n",
    "\n",
    "        while pos < len(s):\n",
    "            current_char = s[pos]\n",
    "            if state == 0:\n",
    "                if current_char == \" \":\n",
    "                    state = 0\n",
    "                elif current_char == \"+\" or current_char == \"-\":\n",
    "                    state = 1\n",
    "                    sign = 1 if current_char == \"+\" else -1\n",
    "                elif current_char.isdigit():\n",
    "                    state = 2\n",
    "                    value = value * 10 + int(current_char)\n",
    "                else:\n",
    "                    return 0\n",
    "            elif state == 1:\n",
    "                if current_char.isdigit():\n",
    "                    state = 2\n",
    "                    value = value * 10 + int(current_char)\n",
    "                else:\n",
    "                    return 0\n",
    "            elif state == 2:\n",
    "                if current_char.isdigit():\n",
    "                    state = 2\n",
    "                    value = value * 10 + int(current_char)\n",
    "                else:\n",
    "                    break\n",
    "            else:\n",
    "                return 0\n",
    "            pos += 1\n",
    "\n",
    "        value = sign * value\n",
    "        value = min(value, 2 ** 31 - 1)\n",
    "        value = max(-(2 ** 31), value)\n",
    "\n",
    "        return value\n",
    "\n",
    "# Create an instance of the Solution class\n",
    "solution = Solution()\n",
    "\n",
    "s = \"-007vvv\"\n",
    "output = solution.myAtoi(s)\n",
    "print(output)"
   ]
  },
  {
   "cell_type": "code",
   "execution_count": 2,
   "id": "c079a72c-21f1-4bcc-81a6-80f3f02f965b",
   "metadata": {},
   "outputs": [
    {
     "name": "stdout",
     "output_type": "stream",
     "text": [
      "[1, 2, 6, 4, 3, 5]\n"
     ]
    }
   ],
   "source": [
    "# Next Permutation\n",
    "class Solution(object):\n",
    "    def nextPermutation(self, nums):\n",
    "        \"\"\"\n",
    "        :type nums: List[int]\n",
    "        :rtype: None Do not return anything, modify nums in-place instead.\n",
    "        \"\"\"\n",
    "        for i in range(len(nums)-1, 0, -1):\n",
    "            # find the index of the last peak\n",
    "            if nums[i - 1] < nums[i]:\n",
    "                nums[i:] = sorted(nums[i:])\n",
    "                \n",
    "                # get the index before the last peak\n",
    "                j = i - 1\n",
    "                \n",
    "                # swap the pre-last peak index with the value just large than it\n",
    "                for k in range(i, len(nums)):\n",
    "                    if nums[j] < nums[k]:\n",
    "                        nums[k], nums[j] = nums[j], nums[k]\n",
    "                        return nums\n",
    "        nums.reverse()\n",
    "        return nums\n",
    "\n",
    "# Create an instance of the Solution class\n",
    "solution = Solution()\n",
    "\n",
    "nums = [1,2,6,3,5,4]\n",
    "output = solution.nextPermutation(nums)\n",
    "print(output)"
   ]
  },
  {
   "cell_type": "code",
   "execution_count": 72,
   "id": "62e13fef-2f55-482d-8496-06c48aa4cf73",
   "metadata": {
    "scrolled": true
   },
   "outputs": [
    {
     "name": "stdout",
     "output_type": "stream",
     "text": [
      "56088\n"
     ]
    }
   ],
   "source": [
    "# Multiply Strings\n",
    "class Solution(object):\n",
    "    def multiply(self, num1, num2):\n",
    "        \"\"\"\n",
    "        :type num1: str\n",
    "        :type num2: str\n",
    "        :rtype: str\n",
    "        \"\"\"\n",
    "        if num1 == '0' or num2 == '0':\n",
    "            return '0'\n",
    "\n",
    "        # Helper function to convert a numeric string to an integer\n",
    "        def to_int(num_str):\n",
    "            val = 0\n",
    "            for ch in num_str:\n",
    "                val = val * 10 + (ord(ch) - ord('0'))\n",
    "            return val\n",
    "\n",
    "        # Helper function to convert an integer to a numeric string\n",
    "        def to_str(num):\n",
    "            res = ''\n",
    "            while num > 0:\n",
    "                remainder = num % 10\n",
    "                res = chr(ord('0') + remainder) + res\n",
    "                num //= 10\n",
    "            return res\n",
    "                \n",
    "        # Convert input strings to integers, multiply, and convert back to a string\n",
    "        return to_str(to_int(num1) * to_int(num2))\n",
    "\n",
    "# Create an instance of the Solution class\n",
    "solution = Solution()\n",
    "\n",
    "num1 = \"123\"\n",
    "num2 = \"456\"\n",
    "output = solution.multiply(num1, num2)\n",
    "print(output)"
   ]
  },
  {
   "cell_type": "code",
   "execution_count": 114,
   "id": "2c24db90-885e-45fa-96bd-ce83bfb4e70a",
   "metadata": {},
   "outputs": [
    {
     "name": "stdout",
     "output_type": "stream",
     "text": [
      "10101\n"
     ]
    }
   ],
   "source": [
    "# Add Binary\n",
    "class Solution(object):\n",
    "    def addBinary(self, a, b):\n",
    "        \"\"\"\n",
    "        :type a: str\n",
    "        :type b: str\n",
    "        :rtype: str\n",
    "        \"\"\"\n",
    "        # Convert binary strings to integers\n",
    "        num1 = int(a, 2)\n",
    "        num2 = int(b, 2)\n",
    "        \n",
    "        # Compute the sum\n",
    "        result = num1 + num2\n",
    "        \n",
    "        # Convert the sum back to binary and remove the '0b' prefix\n",
    "        return bin(result)[2:]\n",
    "\n",
    "# Create an instance of the Solution class\n",
    "solution = Solution()\n",
    "\n",
    "a = \"1010\"\n",
    "b = \"1011\"\n",
    "output = solution.addBinary(a, b)\n",
    "print(output)"
   ]
  },
  {
   "cell_type": "code",
   "execution_count": 22,
   "id": "8caa1955-0787-4aa7-9d47-cfdf382f84a8",
   "metadata": {},
   "outputs": [
    {
     "name": "stdout",
     "output_type": "stream",
     "text": [
      "A\n",
      " \n",
      "m\n",
      "a\n",
      "n\n",
      ",\n",
      " \n",
      "a\n",
      " \n",
      "p\n",
      "l\n",
      "a\n",
      "n\n",
      ",\n",
      " \n",
      "a\n",
      " \n",
      "c\n",
      "a\n",
      "n\n",
      "a\n",
      "l\n",
      ":\n",
      " \n",
      "P\n",
      "a\n",
      "n\n",
      "a\n",
      "m\n",
      "a\n",
      "<class 'str'>\n",
      "<class 'str'>\n",
      "['A', 'm', 'a', 'n', 'a', 'p', 'l', 'a', 'n', 'a', 'c', 'a', 'n', 'a', 'l', 'P', 'a', 'n', 'a', 'm', 'a']\n",
      "['a', 'm', 'a', 'n', 'a', 'p', 'l', 'a', 'n', 'a', 'c', 'a', 'n', 'a', 'l', 'p', 'a', 'n', 'a', 'm', 'a']\n",
      "amanaplanacanalpanama\n"
     ]
    }
   ],
   "source": [
    "s = \"A man, a plan, a canal: Panama\"\n",
    "\n",
    "# Step 1: Iterate Through the String\n",
    "for char in s:\n",
    "    print(char)\n",
    "\n",
    "# Step 2: Filter Only Alphanumeric Characters\n",
    "filtered_chars = [char for char in s if char.isalnum()]\n",
    "print(filtered_chars)\n",
    "\n",
    "# Step 3: Convert to Lowercase\n",
    "lowercase_chars = [char.lower() for char in filtered_chars]\n",
    "print(lowercase_chars)\n",
    "\n",
    "# Step 4: Join the Characters Into a String\n",
    "cleaned_string = ''.join(lowercase_chars)\n",
    "print(cleaned_string)"
   ]
  },
  {
   "cell_type": "code",
   "execution_count": 12,
   "id": "88275c5e-f2ea-4551-b9eb-f8a8a90a6c4c",
   "metadata": {},
   "outputs": [
    {
     "name": "stdout",
     "output_type": "stream",
     "text": [
      "True\n"
     ]
    }
   ],
   "source": [
    "# Valid Palindrome\n",
    "class Solution(object):\n",
    "    def isPalindrome(self, s):\n",
    "        \"\"\"\n",
    "        :type s: str\n",
    "        :rtype: bool\n",
    "        \"\"\"\n",
    "        cleaned_string = ''.join(char.lower() for char in s if char.isalnum())\n",
    "        i, j = 0, len(cleaned_string) - 1\n",
    "        while i < j:\n",
    "            if cleaned_string[i] != cleaned_string[j]:\n",
    "                return False\n",
    "            i += 1\n",
    "            j -= 1\n",
    "        return True\n",
    "\n",
    "# Create an instance of the Solution class\n",
    "solution = Solution()\n",
    "\n",
    "s = \"A man, a plan, a canal: Panama\"\n",
    "output = solution.isPalindrome(s)\n",
    "print(output)"
   ]
  },
  {
   "cell_type": "markdown",
   "id": "8f0e290e-e524-4e4e-81d7-dcaf54eb5d4b",
   "metadata": {},
   "source": [
    "Linked lists"
   ]
  },
  {
   "cell_type": "code",
   "execution_count": 41,
   "id": "d4b2905e-e84e-4c89-9b11-896b2a9236ca",
   "metadata": {},
   "outputs": [
    {
     "name": "stdout",
     "output_type": "stream",
     "text": [
      "7\n",
      "0\n",
      "8\n"
     ]
    }
   ],
   "source": [
    "# Add Two Numbers\n",
    "\n",
    "# Input: l1 = [2,4,3], l2 = [5,6,4]\n",
    "# Output: [7,0,8]\n",
    "# Explanation: 342 + 465 = 807.\n",
    "\n",
    "class ListNode(object):\n",
    "    def __init__(self, val=0, next=None):\n",
    "        self.val = val\n",
    "        self.next = next\n",
    "\n",
    "class Solution:\n",
    "    def addTwoNumbers(self, l1, l2):\n",
    "        carry = 0\n",
    "        root = n = ListNode(0)\n",
    "        while l1 or l2 or carry:\n",
    "            v1 = v2 = 0\n",
    "            if l1:\n",
    "                v1 = l1.val\n",
    "                l1 = l1.next\n",
    "            if l2:\n",
    "                v2 = l2.val\n",
    "                l2 = l2.next\n",
    "                \n",
    "            val = (v1+v2+carry) % 10\n",
    "            carry = (v1+v2+carry) // 10\n",
    "            n.next = ListNode(val)\n",
    "            n = n.next\n",
    "        return root.next\n",
    "        \n",
    "# Create an instance of the Solution class\n",
    "solution = Solution()\n",
    "\n",
    "node1 = ListNode(2)\n",
    "node2 = ListNode(4)\n",
    "node3 = ListNode(3)\n",
    "\n",
    "node1.next = node2\n",
    "node2.next = node3\n",
    "\n",
    "node4 = ListNode(5)\n",
    "node5 = ListNode(6)\n",
    "node6 = ListNode(4)\n",
    "\n",
    "node4.next = node5\n",
    "node5.next = node6\n",
    "\n",
    "num1 = solution.addTwoNumbers(node1, node4)\n",
    "num2 = num1.next\n",
    "num3 = num2.next\n",
    "\n",
    "print(num1.val)\n",
    "print(num2.val)\n",
    "print(num3.val)"
   ]
  },
  {
   "cell_type": "code",
   "execution_count": 51,
   "id": "7b3dceee-4117-4682-a964-8545fbb52509",
   "metadata": {},
   "outputs": [
    {
     "ename": "AttributeError",
     "evalue": "'NoneType' object has no attribute 'next'",
     "output_type": "error",
     "traceback": [
      "\u001b[0;31m---------------------------------------------------------------------------\u001b[0m",
      "\u001b[0;31mAttributeError\u001b[0m                            Traceback (most recent call last)",
      "Cell \u001b[0;32mIn[51], line 47\u001b[0m\n\u001b[1;32m     44\u001b[0m node2\u001b[38;5;241m.\u001b[39mnext \u001b[38;5;241m=\u001b[39m node3\n\u001b[1;32m     46\u001b[0m num1 \u001b[38;5;241m=\u001b[39m solution\u001b[38;5;241m.\u001b[39mreorderList(node1)\n\u001b[0;32m---> 47\u001b[0m num2 \u001b[38;5;241m=\u001b[39m num1\u001b[38;5;241m.\u001b[39mnext\n\u001b[1;32m     48\u001b[0m num3 \u001b[38;5;241m=\u001b[39m num2\u001b[38;5;241m.\u001b[39mnext\n\u001b[1;32m     50\u001b[0m \u001b[38;5;28mprint\u001b[39m(num1\u001b[38;5;241m.\u001b[39mval)\n",
      "\u001b[0;31mAttributeError\u001b[0m: 'NoneType' object has no attribute 'next'"
     ]
    }
   ],
   "source": [
    "# Reorder List\n",
    "class ListNode(object):\n",
    "    def __init__(self, val=0, next=None):\n",
    "        self.val = val\n",
    "        self.next = next\n",
    "class Solution(object):\n",
    "    def reorderList(self, head):\n",
    "        \"\"\"\n",
    "        :type head: Optional[ListNode]\n",
    "        :rtype: None Do not return anything, modify head in-place instead.\n",
    "        \"\"\"\n",
    "        # find middle\n",
    "        slow, fast = head, head.next\n",
    "        while fast and fast.next:\n",
    "            slow = slow.next\n",
    "            fast = fast.next.next\n",
    "\n",
    "        # reverse second half\n",
    "        second = slow.next\n",
    "        prev = slow.next = None\n",
    "        while second:\n",
    "            tmp = second.next\n",
    "            second.next = prev\n",
    "            prev = second\n",
    "            second = tmp\n",
    "\n",
    "        # merge two halfs\n",
    "        first, second = head, prev\n",
    "        while second:\n",
    "            tmp1, tmp2 = first.next, second.next\n",
    "            first.next = second\n",
    "            second.next = tmp1\n",
    "            first, second = tmp1, tmp2\n",
    "\n",
    "\n",
    "# Create an instance of the Solution class\n",
    "solution = Solution()\n",
    "\n",
    "node1 = ListNode(2)\n",
    "node2 = ListNode(4)\n",
    "node3 = ListNode(3)\n",
    "\n",
    "node1.next = node2\n",
    "node2.next = node3\n",
    "\n",
    "num1 = solution.reorderList(node1)\n",
    "num2 = num1.next\n",
    "num3 = num2.next\n",
    "\n",
    "print(num1.val)\n",
    "print(num2.val)\n",
    "print(num3.val)"
   ]
  },
  {
   "cell_type": "code",
   "execution_count": null,
   "id": "2657f999-e469-4a22-beb4-69c8f4c901cf",
   "metadata": {},
   "outputs": [],
   "source": []
  }
 ],
 "metadata": {
  "kernelspec": {
   "display_name": "Python 3 (ipykernel)",
   "language": "python",
   "name": "python3"
  },
  "language_info": {
   "codemirror_mode": {
    "name": "ipython",
    "version": 3
   },
   "file_extension": ".py",
   "mimetype": "text/x-python",
   "name": "python",
   "nbconvert_exporter": "python",
   "pygments_lexer": "ipython3",
   "version": "3.11.4"
  }
 },
 "nbformat": 4,
 "nbformat_minor": 5
}
