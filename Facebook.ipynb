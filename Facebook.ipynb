{
 "cells": [
  {
   "cell_type": "markdown",
   "id": "f6f3faff-bc52-449f-96e5-c8e2d5795bbd",
   "metadata": {},
   "source": [
    "Arrays and Strings"
   ]
  },
  {
   "cell_type": "code",
   "execution_count": 40,
   "id": "ff3dda31-4964-4a6e-8186-a5a817163868",
   "metadata": {},
   "outputs": [
    {
     "name": "stdout",
     "output_type": "stream",
     "text": [
      "3\n"
     ]
    }
   ],
   "source": [
    "# Longest Substring Without Repeating Characters\n",
    "class Solution(object):\n",
    "    def lengthOfLongestSubstring(self, s):\n",
    "        \"\"\"\n",
    "        :type s: str\n",
    "        :rtype: int\n",
    "        \"\"\"\n",
    "        left = 0\n",
    "        maxLength = 0\n",
    "        charSet = set()\n",
    "        \n",
    "        for right in range(len(s)):\n",
    "            if s[right] not in charSet:\n",
    "                charSet.add(s[right])\n",
    "                maxLength = max(maxLength, right - left + 1)\n",
    "            else:\n",
    "                while s[right] in charSet:\n",
    "                    charSet.remove(s[left])\n",
    "                    left += 1\n",
    "                charSet.add(s[right])\n",
    "        return maxLength\n",
    "\n",
    "# Create an instance of the Solution class\n",
    "solution = Solution()\n",
    "\n",
    "s = \"abcabcbb\"\n",
    "output = solution.lengthOfLongestSubstring(s)\n",
    "print(output)"
   ]
  },
  {
   "cell_type": "code",
   "execution_count": null,
   "id": "9c1e590c-f428-4fbc-b3e4-8fdaa05c039e",
   "metadata": {},
   "outputs": [],
   "source": [
    "# String to Integer (atoi)\n",
    "# 1. Whitespace\n",
    "# Input: s = \"042\"\n",
    "# Output: 42\n",
    "\n",
    "# 2. Signedness\n",
    "# 3. Conversion: Read the integer by skipping leading zeros until a non-digit character is encountered\n",
    "# Input: s = \" -042\"\n",
    "# Output: -42\n",
    "\n",
    "# 4. Rounding: If the integer is out of the 32-bit signed integer range [-2^31, 2^31 - 1], then round the integer to remain in the range.\n",
    "\n",
    "# Solution:\n",
    "# if current_char == \" \":\n",
    "#     state = 0\n",
    "# if current_char == \"+\" or current_char == \"-\":\n",
    "#     state = 1\n",
    "# if current_char.isdigit():\n",
    "#     state = 2"
   ]
  },
  {
   "cell_type": "code",
   "execution_count": 88,
   "id": "d233c5ff-b005-497e-b8b2-94d36fcf84ad",
   "metadata": {},
   "outputs": [
    {
     "name": "stdout",
     "output_type": "stream",
     "text": [
      "-7\n"
     ]
    }
   ],
   "source": [
    "# String to Integer (atoi)\n",
    "class Solution(object):\n",
    "    def myAtoi(self, s):\n",
    "        \"\"\"\n",
    "        :type s: str\n",
    "        :rtype: int\n",
    "        \"\"\"\n",
    "        value, state, pos, sign = 0, 0, 0, 1\n",
    "\n",
    "        if len(s) == 0:\n",
    "            return 0\n",
    "\n",
    "        while pos < len(s):\n",
    "            current_char = s[pos]\n",
    "            if state == 0:\n",
    "                if current_char == \" \":\n",
    "                    state = 0\n",
    "                elif current_char == \"+\" or current_char == \"-\":\n",
    "                    state = 1\n",
    "                    sign = 1 if current_char == \"+\" else -1\n",
    "                elif current_char.isdigit():\n",
    "                    state = 2\n",
    "                    value = value * 10 + int(current_char)\n",
    "                else:\n",
    "                    return 0\n",
    "            elif state == 1:\n",
    "                if current_char.isdigit():\n",
    "                    state = 2\n",
    "                    value = value * 10 + int(current_char)\n",
    "                else:\n",
    "                    return 0\n",
    "            elif state == 2:\n",
    "                if current_char.isdigit():\n",
    "                    state = 2\n",
    "                    value = value * 10 + int(current_char)\n",
    "                else:\n",
    "                    break\n",
    "            else:\n",
    "                return 0\n",
    "            pos += 1\n",
    "\n",
    "        value = sign * value\n",
    "        value = min(value, 2 ** 31 - 1)\n",
    "        value = max(-(2 ** 31), value)\n",
    "\n",
    "        return value\n",
    "\n",
    "# Create an instance of the Solution class\n",
    "solution = Solution()\n",
    "\n",
    "s = \"-007vvv\"\n",
    "output = solution.myAtoi(s)\n",
    "print(output)"
   ]
  },
  {
   "cell_type": "code",
   "execution_count": null,
   "id": "c079a72c-21f1-4bcc-81a6-80f3f02f965b",
   "metadata": {},
   "outputs": [],
   "source": [
    "# Next Permutation\n",
    "class Solution(object):\n",
    "    def nextPermutation(self, nums):\n",
    "        \"\"\"\n",
    "        :type nums: List[int]\n",
    "        :rtype: None Do not return anything, modify nums in-place instead.\n",
    "        \"\"\"\n",
    "\n",
    "\n",
    "\n",
    "# Create an instance of the Solution class\n",
    "solution = Solution()\n",
    "\n",
    "s = \"-007vvv\"\n",
    "output = solution.nextPermutation((nums)\n",
    "print(output)"
   ]
  }
 ],
 "metadata": {
  "kernelspec": {
   "display_name": "Python 3 (ipykernel)",
   "language": "python",
   "name": "python3"
  },
  "language_info": {
   "codemirror_mode": {
    "name": "ipython",
    "version": 3
   },
   "file_extension": ".py",
   "mimetype": "text/x-python",
   "name": "python",
   "nbconvert_exporter": "python",
   "pygments_lexer": "ipython3",
   "version": "3.11.4"
  }
 },
 "nbformat": 4,
 "nbformat_minor": 5
}
