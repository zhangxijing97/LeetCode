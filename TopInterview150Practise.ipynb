{
 "cells": [
  {
   "cell_type": "code",
   "execution_count": 67,
   "id": "58f8ac1f",
   "metadata": {},
   "outputs": [
    {
     "name": "stdout",
     "output_type": "stream",
     "text": [
      "[1, 2, 2, 3, 5, 6]\n"
     ]
    }
   ],
   "source": [
    "# 88. Merge Sorted Array\n",
    "class Solution(object):\n",
    "    def merge(self, nums1, m, nums2, n):\n",
    "        \"\"\"\n",
    "        :type nums1: List[int]\n",
    "        :type m: int\n",
    "        :type nums2: List[int]\n",
    "        :type n: int\n",
    "        :rtype: None Do not return anything, modify nums1 in-place instead.\n",
    "        \"\"\"\n",
    "        p1 = m - 1\n",
    "        p2 = n - 1\n",
    "        p = m + n - 1\n",
    "        \n",
    "        while p1 >= 0 and p2 >= 0:\n",
    "            if nums1[p1] >= nums2[p2]:\n",
    "                nums1[p] = nums1[p1]\n",
    "                p = p - 1\n",
    "                p1 = p1 - 1\n",
    "            else:\n",
    "                nums1[p] = nums2[p2]\n",
    "                p = p - 1\n",
    "                p2 = p2 - 1\n",
    "            \n",
    "        while p2 >= 0:\n",
    "            nums1[p] = nums2[p2]\n",
    "            p2 -= 1\n",
    "            p -= 1\n",
    "        \n",
    "# Create an instance of the Solution class\n",
    "solution = Solution()\n",
    "\n",
    "# Input: nums1 = [1,2,3,0,0,0], m = 3, nums2 = [2,5,6], n = 3\n",
    "# Output: [1,2,2,3,5,6]\n",
    "nums1 = [1, 2, 3, 0, 0, 0]\n",
    "m = 3\n",
    "nums2 = [2, 5, 6]\n",
    "n = 3\n",
    "\n",
    "# Input: nums1 = [1], m = 1, nums2 = [], n = 0\n",
    "# Output: [1]\n",
    "# nums1 = [1]\n",
    "# m = 1\n",
    "# nums2 = []\n",
    "# n = 0\n",
    "\n",
    "# Input: nums1 = [0], m = 0, nums2 = [1], n = 1\n",
    "# Output: [1]\n",
    "# nums1 = [0]\n",
    "# m = 0\n",
    "# nums2 = [1]\n",
    "# n = 1\n",
    "\n",
    "solution.merge(nums1, m, nums2, n)\n",
    "print(nums1)  # Output: [1, 2, 2, 3, 5, 6]"
   ]
  },
  {
   "cell_type": "code",
   "execution_count": 75,
   "id": "bf721ab4",
   "metadata": {},
   "outputs": [
    {
     "name": "stdout",
     "output_type": "stream",
     "text": [
      "New Array: [0, 1, 3, 0, 4]\n",
      "Number of elements not equal to 'val': 5\n"
     ]
    }
   ],
   "source": [
    "class Solution(object):\n",
    "    def removeElement(self, nums, val):\n",
    "        \"\"\"\n",
    "        :type nums: List[int]\n",
    "        :type val: int\n",
    "        :rtype: int\n",
    "        \"\"\"\n",
    "        k = 0\n",
    "        \n",
    "        for i in range(len(nums)):\n",
    "            if nums[i] != val:\n",
    "                nums[k] = nums[i]\n",
    "                k = k + 1\n",
    "        return k\n",
    "\n",
    "# Create an instance of the Solution class\n",
    "solution = Solution()\n",
    "\n",
    "# Input: nums = [3,2,2,3], val = 3\n",
    "# Output: 2, nums = [2,2,_,_]\n",
    "# nums = [3, 2, 2, 3]\n",
    "# val = 3\n",
    "\n",
    "# Input: nums = [0,1,2,2,3,0,4,2], val = 2\n",
    "# Output: 5, nums = [0,1,4,0,3,_,_,_]\n",
    "nums = [0, 1, 2, 2, 3, 0, 4, 2]\n",
    "val = 2\n",
    "    \n",
    "# Call the removeElement method to remove 'val' from the list 'nums'\n",
    "k = solution.removeElement(nums, val)\n",
    "\n",
    "# Print the updated list containing elements not equal to 'val'\n",
    "print(\"New Array:\", nums[:k])  # Elements not equal to 'val'\n",
    "\n",
    "# Print the number of elements not equal to 'val'\n",
    "print(\"Number of elements not equal to 'val':\", k)"
   ]
  },
  {
   "cell_type": "code",
   "execution_count": 79,
   "id": "99d26f3a",
   "metadata": {},
   "outputs": [
    {
     "name": "stdout",
     "output_type": "stream",
     "text": [
      "10\n",
      "New Array: [0, 1, 2, 3, 4]\n",
      "Number of elements not equal to 'val': 5\n"
     ]
    }
   ],
   "source": [
    "# 26. Remove Duplicates from Sorted Array\n",
    "class Solution(object):\n",
    "    def removeDuplicates(self, nums):\n",
    "        \"\"\"\n",
    "        :type nums: List[int]\n",
    "        :rtype: int\n",
    "        \"\"\"\n",
    "        k = 0\n",
    "        \n",
    "        for i in range(1, len(nums)):\n",
    "            if nums[i] != nums[k]:\n",
    "                k += 1\n",
    "                nums[k] = nums[i]\n",
    "                    \n",
    "        k = k + 1\n",
    "        return k\n",
    "\n",
    "# Create an instance of the Solution class\n",
    "solution = Solution()\n",
    "\n",
    "# Input\n",
    "nums = [0, 0, 1, 1, 1, 2, 2, 3, 3, 4]\n",
    "print(len(nums))\n",
    "# k = solution.removeDuplicates(nums)\n",
    "\n",
    "# Print the updated list containing elements not equal to 'val'\n",
    "k = solution.removeDuplicates(nums)\n",
    "print(\"New Array:\", nums[:k])\n",
    "\n",
    "# Print the number of elements not equal to 'val'\n",
    "print(\"Number of elements not equal to 'val':\", k)"
   ]
  },
  {
   "cell_type": "code",
   "execution_count": null,
   "id": "e3f37364",
   "metadata": {},
   "outputs": [],
   "source": []
  }
 ],
 "metadata": {
  "kernelspec": {
   "display_name": "Python 3 (ipykernel)",
   "language": "python",
   "name": "python3"
  },
  "language_info": {
   "codemirror_mode": {
    "name": "ipython",
    "version": 3
   },
   "file_extension": ".py",
   "mimetype": "text/x-python",
   "name": "python",
   "nbconvert_exporter": "python",
   "pygments_lexer": "ipython3",
   "version": "3.11.4"
  }
 },
 "nbformat": 4,
 "nbformat_minor": 5
}
