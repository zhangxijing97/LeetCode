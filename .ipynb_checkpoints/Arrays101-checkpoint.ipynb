{
 "cells": [
  {
   "cell_type": "code",
   "execution_count": 53,
   "id": "5a2c8298",
   "metadata": {},
   "outputs": [
    {
     "name": "stdout",
     "output_type": "stream",
     "text": [
      "2\n"
     ]
    }
   ],
   "source": [
    "# Max Consecutive Ones\n",
    "class Solution(object):\n",
    "    def findMaxConsecutiveOnes(self, nums):\n",
    "        \"\"\"\n",
    "        :type nums: List[int]\n",
    "        :rtype: int\n",
    "        \"\"\"\n",
    "        count = max_count = 0\n",
    "        for num in nums:\n",
    "            if num == 1:\n",
    "                count += 1\n",
    "            else:\n",
    "                max_count = max(max_count, count)\n",
    "                count = 0\n",
    "        return max(max_count, count)\n",
    "    \n",
    "solution = Solution()\n",
    "nums = [1,0,1,1,0,1]\n",
    "output = solution.findMaxConsecutiveOnes(nums)\n",
    "print(output)"
   ]
  },
  {
   "cell_type": "code",
   "execution_count": 54,
   "id": "7d43ca27",
   "metadata": {},
   "outputs": [
    {
     "name": "stdout",
     "output_type": "stream",
     "text": [
      "2\n"
     ]
    }
   ],
   "source": [
    "# Find Numbers with Even Number of Digits\n",
    "class Solution(object):\n",
    "    def findNumbers(self, nums):\n",
    "        \"\"\"\n",
    "        :type nums: List[int]\n",
    "        :rtype: int\n",
    "        \"\"\"\n",
    "        result = 0\n",
    "        for num in nums:\n",
    "            count = 0\n",
    "            while num > 0:\n",
    "                num = num // 10\n",
    "                count = count + 1\n",
    "            if count % 2 == 0:\n",
    "                result = result + 1        \n",
    "        return result\n",
    "        \n",
    "solution = Solution()\n",
    "nums = [12,345,2,6,7896]\n",
    "output = solution.findNumbers(nums)\n",
    "print(output)"
   ]
  },
  {
   "cell_type": "code",
   "execution_count": 61,
   "id": "dbbd4000",
   "metadata": {},
   "outputs": [
    {
     "name": "stdout",
     "output_type": "stream",
     "text": [
      "[0, 1, 9, 16, 100]\n"
     ]
    }
   ],
   "source": [
    "# Squares of a Sorted Array\n",
    "class Solution(object):\n",
    "    def sortedSquares(self, nums):\n",
    "        \"\"\"\n",
    "        :type nums: List[int]\n",
    "        :rtype: List[int]\n",
    "        \"\"\"\n",
    "        for i in range(len(nums)):\n",
    "            nums[i] = nums[i] * nums[i]\n",
    "            \n",
    "        nums = sorted(nums)\n",
    "        return nums\n",
    "   \n",
    "solution = Solution()\n",
    "nums = [-4,-1,0,3,10]\n",
    "output = solution.sortedSquares(nums)\n",
    "print(output)"
   ]
  },
  {
   "cell_type": "code",
   "execution_count": 109,
   "id": "f2222325",
   "metadata": {},
   "outputs": [
    {
     "name": "stdout",
     "output_type": "stream",
     "text": [
      "None\n"
     ]
    }
   ],
   "source": [
    "# Duplicate Zeros\n",
    "class Solution(object):\n",
    "    def duplicateZeros(self, arr):\n",
    "        \"\"\"\n",
    "        :type arr: List[int]\n",
    "        :rtype: None Do not return anything, modify arr in-place instead.\n",
    "        \"\"\"\n",
    "        for i in range(len(arr)):\n",
    "            if arr[i] == 0:\n",
    "                arr.insert(i+1, 'zero')\n",
    "                arr.pop()\n",
    "                \n",
    "        for i in range(len(arr)):\n",
    "            if arr[i] == 'zero':\n",
    "                arr[i] = 0\n",
    "        \n",
    "solution = Solution()\n",
    "arr = [1,0,2,3,0,4,5,0]\n",
    "output = solution.duplicateZeros(arr)\n",
    "print(output)"
   ]
  },
  {
   "cell_type": "code",
   "execution_count": 111,
   "id": "92dfeb59",
   "metadata": {},
   "outputs": [
    {
     "name": "stdout",
     "output_type": "stream",
     "text": [
      "None\n"
     ]
    }
   ],
   "source": [
    "# Merge Sorted Array\n",
    "class Solution(object):\n",
    "    def merge(self, nums1, m, nums2, n):\n",
    "        \"\"\"\n",
    "        :type nums1: List[int]\n",
    "        :type m: int\n",
    "        :type nums2: List[int]\n",
    "        :type n: int\n",
    "        :rtype: None Do not return anything, modify nums1 in-place instead.\n",
    "        \"\"\"\n",
    "        for i in range(0, n):\n",
    "            nums1[m + i] = nums2[i]\n",
    "        nums1[:] = sorted(nums1)\n",
    "        \n",
    "solution = Solution()\n",
    "nums1 = [1,2,3,0,0,0]\n",
    "m = 3\n",
    "nums2 = [2,5,6]\n",
    "n = 3\n",
    "output = solution.merge(nums1, m, nums2, n)\n",
    "print(output)"
   ]
  },
  {
   "cell_type": "code",
   "execution_count": 117,
   "id": "e7e77503",
   "metadata": {},
   "outputs": [
    {
     "name": "stdout",
     "output_type": "stream",
     "text": [
      "2\n"
     ]
    }
   ],
   "source": [
    "# Remove Element\n",
    "class Solution(object):\n",
    "    def removeElement(self, nums, val):\n",
    "        \"\"\"\n",
    "        :type nums: List[int]\n",
    "        :type val: int\n",
    "        :rtype: int\n",
    "        \"\"\"\n",
    "        result = 0\n",
    "        for i in range(len(nums)):\n",
    "            if nums[i] != val:\n",
    "                nums[result] = nums[i]\n",
    "                result = result + 1  \n",
    "        return result\n",
    "        \n",
    "        \n",
    "solution = Solution()\n",
    "nums = [3,2,2,3]\n",
    "val = 3\n",
    "output = solution.removeElement(nums, val)\n",
    "print(output)"
   ]
  },
  {
   "cell_type": "code",
   "execution_count": 127,
   "id": "e188689c",
   "metadata": {},
   "outputs": [
    {
     "name": "stdout",
     "output_type": "stream",
     "text": [
      "5\n",
      "[0, 1, 2, 3, 4, 2, 2, 3, 3, 4]\n"
     ]
    }
   ],
   "source": [
    "# Remove Duplicates from Sorted Array\n",
    "class Solution(object):\n",
    "    def removeDuplicates(self, nums):\n",
    "        \"\"\"\n",
    "        :type nums: List[int]\n",
    "        :rtype: int\n",
    "        \"\"\"\n",
    "        result = 0\n",
    "        for i in range(len(nums)):\n",
    "            if nums[i] != nums[result]:\n",
    "                result = result + 1\n",
    "                nums[result] = nums[i]\n",
    "        result = result + 1\n",
    "        return result\n",
    "\n",
    "solution = Solution()\n",
    "nums = [0,0,1,1,1,2,2,3,3,4]\n",
    "output = solution.removeDuplicates(nums)\n",
    "print(output)\n",
    "print(nums)"
   ]
  },
  {
   "cell_type": "code",
   "execution_count": 138,
   "id": "cf808979",
   "metadata": {},
   "outputs": [
    {
     "name": "stdout",
     "output_type": "stream",
     "text": [
      "False\n"
     ]
    }
   ],
   "source": [
    "# Check If N and Its Double Exist\n",
    "class Solution(object):\n",
    "    def checkIfExist(self, arr):\n",
    "        \"\"\"\n",
    "        :type arr: List[int]\n",
    "        :rtype: bool\n",
    "        \"\"\"\n",
    "        for i in range(len(arr)):\n",
    "            for j in range(len(arr)):\n",
    "                if arr[i] == 2 * arr[j]:\n",
    "                    if i != j:\n",
    "                        return True\n",
    "        return False\n",
    "        \n",
    "solution = Solution()\n",
    "arr = [-2,0,10,-19,4,6,-8]\n",
    "output = solution.checkIfExist(arr)\n",
    "print(output)"
   ]
  },
  {
   "cell_type": "code",
   "execution_count": 193,
   "id": "09e5dfc3",
   "metadata": {},
   "outputs": [
    {
     "name": "stdout",
     "output_type": "stream",
     "text": [
      "False\n"
     ]
    }
   ],
   "source": [
    "# Valid Mountain Array\n",
    "class Solution(object):\n",
    "    def validMountainArray(self, arr):\n",
    "        \"\"\"\n",
    "        :type arr: List[int]\n",
    "        :rtype: bool\n",
    "        \"\"\"\n",
    "        if len(arr) < 3: return False\n",
    "        l = 0\n",
    "        r = len(arr) - 1\n",
    "        while l + 1 < len(arr) - 1 and arr[l] < arr[l + 1]:\n",
    "            l += 1\n",
    "        while r - 1 > 0 and arr[r] < arr[r - 1]:\n",
    "            r -= 1\n",
    "        return l == r\n",
    "        \n",
    "solution = Solution()\n",
    "arr = [3,5,5]\n",
    "output = solution.validMountainArray(arr)\n",
    "print(output)"
   ]
  },
  {
   "cell_type": "code",
   "execution_count": 213,
   "id": "624626ac",
   "metadata": {},
   "outputs": [
    {
     "name": "stdout",
     "output_type": "stream",
     "text": [
      "[18, 6, 6, 6, 1, -1]\n"
     ]
    }
   ],
   "source": [
    "# Replace Elements with Greatest Element on Right Side\n",
    "class Solution(object):\n",
    "    def replaceElements(self, arr):\n",
    "        \"\"\"\n",
    "        :type arr: List[int]\n",
    "        :rtype: bool\n",
    "        \"\"\"\n",
    "        maxNew = -1\n",
    "        maxOld = -1\n",
    "        r = len(arr) - 1\n",
    "        while r >= 0:\n",
    "            maxOld = maxNew\n",
    "            if arr[r] > maxNew:\n",
    "                maxNew = arr[r]\n",
    "            arr[r] = maxOld\n",
    "            r -= 1\n",
    "        return arr\n",
    "        \n",
    "solution = Solution()\n",
    "arr = [17,18,5,4,6,1]\n",
    "output = solution.replaceElements(arr)\n",
    "print(output)"
   ]
  },
  {
   "cell_type": "code",
   "execution_count": 214,
   "id": "caa3d436",
   "metadata": {},
   "outputs": [
    {
     "name": "stdout",
     "output_type": "stream",
     "text": [
      "5\n"
     ]
    }
   ],
   "source": [
    "# Remove Duplicates from Sorted Array\n",
    "class Solution(object):\n",
    "    def removeDuplicates(self, nums):\n",
    "        \"\"\"\n",
    "        :type nums: List[int]\n",
    "        :rtype: int\n",
    "        \"\"\"\n",
    "        k = 0\n",
    "        for i in range(1, len(nums)):\n",
    "            if nums[i] != nums[k]:\n",
    "                k += 1\n",
    "                nums[k] = nums[i]\n",
    "                    \n",
    "        k = k + 1\n",
    "        return k\n",
    "    \n",
    "solution = Solution()\n",
    "nums = [0,0,1,1,1,2,2,3,3,4]\n",
    "output = solution.removeDuplicates(nums)\n",
    "print(output)"
   ]
  },
  {
   "cell_type": "code",
   "execution_count": 222,
   "id": "080712df",
   "metadata": {},
   "outputs": [
    {
     "name": "stdout",
     "output_type": "stream",
     "text": [
      "[0, 1, 0, 3, 12]\n",
      "[0, 1, 0, 3, 12]\n",
      "[1, 0, 0, 3, 12]\n",
      "[1, 0, 0, 3, 12]\n",
      "[1, 3, 0, 0, 12]\n",
      "None\n"
     ]
    }
   ],
   "source": [
    "# Move Zeroes\n",
    "class Solution(object):\n",
    "    def moveZeroes(self, nums):\n",
    "        \"\"\"\n",
    "        :type nums: List[int]\n",
    "        :rtype: int\n",
    "        \"\"\"\n",
    "        non_zero = 0  # Pointer for non-zero elements\n",
    "        \n",
    "        # Move all non-zero elements to the front\n",
    "        for i in range(len(nums)):\n",
    "            if nums[i] != 0:\n",
    "                nums[i], nums[non_zero] = nums[non_zero], nums[i]\n",
    "                non_zero += 1\n",
    "    \n",
    "solution = Solution()\n",
    "nums = [0,1,0,3,12]\n",
    "output = solution.moveZeroes(nums)\n",
    "print(output)"
   ]
  },
  {
   "cell_type": "code",
   "execution_count": 227,
   "id": "3cc7ed44",
   "metadata": {},
   "outputs": [
    {
     "name": "stdout",
     "output_type": "stream",
     "text": [
      "[2, 4, 3, 1]\n"
     ]
    }
   ],
   "source": [
    "# Sort Array By Parity\n",
    "class Solution(object):\n",
    "    def sortArrayByParity(self, nums):\n",
    "        \"\"\"\n",
    "        :type nums: List[int]\n",
    "        :rtype: List[int]\n",
    "        \"\"\"\n",
    "        non_even = 0\n",
    "        for i in range(len(nums)):\n",
    "            if nums[i]%2 == 0:\n",
    "                nums[i], nums[non_even] = nums[non_even], nums[i]\n",
    "                non_even += 1\n",
    "        return nums\n",
    "        \n",
    "solution = Solution()\n",
    "nums = [3,1,2,4]\n",
    "output = solution.sortArrayByParity(nums)\n",
    "print(output)"
   ]
  },
  {
   "cell_type": "code",
   "execution_count": 234,
   "id": "d149dfd1",
   "metadata": {},
   "outputs": [
    {
     "name": "stdout",
     "output_type": "stream",
     "text": [
      "[2, 2, 2, 3]\n"
     ]
    }
   ],
   "source": [
    "# Remove Element\n",
    "class Solution(object):\n",
    "    def removeElement(self, nums, val):\n",
    "        \"\"\"\n",
    "        :type nums: List[int]\n",
    "        :type val: int\n",
    "        :rtype: int\n",
    "        \"\"\"\n",
    "        result = 0\n",
    "        for i in range(len(nums)):\n",
    "            if nums[i] != val:\n",
    "                nums[result] = nums[i]\n",
    "                result += 1\n",
    "        return nums\n",
    "        \n",
    "solution = Solution()\n",
    "nums = [3,2,2,3]\n",
    "val = 3\n",
    "output = solution.removeElement(nums, val)\n",
    "print(output)"
   ]
  },
  {
   "cell_type": "code",
   "execution_count": 241,
   "id": "19b9151f",
   "metadata": {},
   "outputs": [
    {
     "name": "stdout",
     "output_type": "stream",
     "text": [
      "[1, 2, 3, 4, 5]\n",
      "5\n"
     ]
    }
   ],
   "source": [
    "# Height Checker\n",
    "class Solution(object):\n",
    "    def heightChecker(self, heights):\n",
    "        \"\"\"\n",
    "        :type heights: List[int]\n",
    "        :rtype: int\n",
    "        \"\"\"\n",
    "        result = 0\n",
    "        new_heights = sorted(heights)\n",
    "        for i in range(len(heights)):\n",
    "            if new_heights[i] != heights[i]:\n",
    "                result += 1\n",
    "        return result\n",
    "        \n",
    "solution = Solution()\n",
    "heights = [5,1,2,3,4]\n",
    "output = solution.heightChecker(heights)\n",
    "print(output)"
   ]
  },
  {
   "cell_type": "code",
   "execution_count": 245,
   "id": "ea3f69b1",
   "metadata": {},
   "outputs": [
    {
     "name": "stdout",
     "output_type": "stream",
     "text": [
      "4\n"
     ]
    }
   ],
   "source": [
    "# Max Consecutive Ones II\n",
    "class Solution(object):\n",
    "    def findMaxConsecutiveOnes(self, nums):\n",
    "        \"\"\"\n",
    "        :type nums: List[int]\n",
    "        :rtype: int\n",
    "        \"\"\"\n",
    "        longest_sequence = 0\n",
    "        left, right = 0, 0\n",
    "        num_zeroes = 0\n",
    "\n",
    "        while right < len(nums):   # While our window is in bounds\n",
    "            if nums[right] == 0:    # Increase num_zeroes if the rightmost element is 0\n",
    "                num_zeroes += 1\n",
    "\n",
    "            while num_zeroes == 2:   # If our window is invalid, contract our window\n",
    "                if nums[left] == 0:    \n",
    "                    num_zeroes -= 1\n",
    "                left += 1\n",
    "\n",
    "            longest_sequence = max(longest_sequence, right - left + 1)   # Update our longest sequence answer\n",
    "            right += 1   # Expand our window\n",
    "\n",
    "        return longest_sequence\n",
    "        \n",
    "solution = Solution()\n",
    "nums = [1,0,1,1,0,1]\n",
    "output = solution.findMaxConsecutiveOnes(nums)\n",
    "print(output)"
   ]
  },
  {
   "cell_type": "code",
   "execution_count": 259,
   "id": "51e9fae5",
   "metadata": {},
   "outputs": [
    {
     "name": "stdout",
     "output_type": "stream",
     "text": [
      "1\n"
     ]
    }
   ],
   "source": [
    "# Third Maximum Number\n",
    "class Solution(object):\n",
    "    def thirdMax(self, nums):\n",
    "        \"\"\"\n",
    "        :type nums: List[int]\n",
    "        :rtype: int\n",
    "        \"\"\"\n",
    "        # Use a set to remove duplicates\n",
    "        distinct_nums = list(set(nums))\n",
    "        \n",
    "        # Sort the distinct numbers in descending order\n",
    "        distinct_nums.sort(reverse=True)\n",
    "        \n",
    "        # Return the third distinct maximum if it exists, otherwise return the maximum number\n",
    "        if len(distinct_nums) >= 3:\n",
    "            return distinct_nums[2]\n",
    "        else:\n",
    "            return distinct_nums[0]\n",
    "        \n",
    "solution = Solution()\n",
    "nums = [2,2,3,1]\n",
    "output = solution.thirdMax(nums)\n",
    "print(output)"
   ]
  },
  {
   "cell_type": "code",
   "execution_count": 271,
   "id": "9a22a766",
   "metadata": {},
   "outputs": [
    {
     "name": "stdout",
     "output_type": "stream",
     "text": [
      "[5, 6]\n"
     ]
    }
   ],
   "source": [
    "# Find All Numbers Disappeared in an Array\n",
    "class Solution(object):\n",
    "    def findDisappearedNumbers(self, nums):\n",
    "        \"\"\"\n",
    "        :type nums: List[int]\n",
    "        :rtype: List[int]\n",
    "        \"\"\"\n",
    "        for n in nums:\n",
    "            i = abs(n) - 1\n",
    "            nums[i] = -1 * abs(nums[i])\n",
    "\n",
    "        res = []\n",
    "        for i, n in enumerate(nums):\n",
    "            if n > 0:\n",
    "                res.append(i + 1)\n",
    "        return res\n",
    "        \n",
    "solution = Solution()\n",
    "nums = [4,3,2,7,8,2,3,1]\n",
    "output = solution.findDisappearedNumbers(nums)\n",
    "print(output)"
   ]
  },
  {
   "cell_type": "code",
   "execution_count": 270,
   "id": "289b1c2e",
   "metadata": {},
   "outputs": [
    {
     "name": "stdout",
     "output_type": "stream",
     "text": [
      "[0, 1, 9, 16, 100]\n"
     ]
    }
   ],
   "source": [
    "# Squares of a Sorted Array\n",
    "class Solution(object):\n",
    "    def sortedSquares(self, nums):\n",
    "        \"\"\"\n",
    "        :type nums: List[int]\n",
    "        :rtype: List[int]\n",
    "        \"\"\"\n",
    "        for i in range(len(nums)):\n",
    "            nums[i] = nums[i] * nums[i]\n",
    "            \n",
    "        nums = sorted(nums)\n",
    "        return nums\n",
    "    \n",
    "solution = Solution()\n",
    "nums = [-4,-1,0,3,10]\n",
    "output = solution.sortedSquares(nums)\n",
    "print(output)"
   ]
  }
 ],
 "metadata": {
  "kernelspec": {
   "display_name": "Python 3 (ipykernel)",
   "language": "python",
   "name": "python3"
  },
  "language_info": {
   "codemirror_mode": {
    "name": "ipython",
    "version": 3
   },
   "file_extension": ".py",
   "mimetype": "text/x-python",
   "name": "python",
   "nbconvert_exporter": "python",
   "pygments_lexer": "ipython3",
   "version": "3.11.4"
  }
 },
 "nbformat": 4,
 "nbformat_minor": 5
}
