{
 "cells": [
  {
   "cell_type": "code",
   "execution_count": 53,
   "id": "85936f8b",
   "metadata": {},
   "outputs": [
    {
     "name": "stdout",
     "output_type": "stream",
     "text": [
      "2\n"
     ]
    }
   ],
   "source": [
    "# Max Consecutive Ones\n",
    "class Solution(object):\n",
    "    def findMaxConsecutiveOnes(self, nums):\n",
    "        \"\"\"\n",
    "        :type nums: List[int]\n",
    "        :rtype: int\n",
    "        \"\"\"\n",
    "        count = max_count = 0\n",
    "        for num in nums:\n",
    "            if num == 1:\n",
    "                count += 1\n",
    "            else:\n",
    "                max_count = max(max_count, count)\n",
    "                count = 0\n",
    "        return max(max_count, count)\n",
    "    \n",
    "solution = Solution()\n",
    "nums = [1,0,1,1,0,1]\n",
    "output = solution.findMaxConsecutiveOnes(nums)\n",
    "print(output)"
   ]
  },
  {
   "cell_type": "code",
   "execution_count": 54,
   "id": "d677bda2",
   "metadata": {},
   "outputs": [
    {
     "name": "stdout",
     "output_type": "stream",
     "text": [
      "2\n"
     ]
    }
   ],
   "source": [
    "# Find Numbers with Even Number of Digits\n",
    "class Solution(object):\n",
    "    def findNumbers(self, nums):\n",
    "        \"\"\"\n",
    "        :type nums: List[int]\n",
    "        :rtype: int\n",
    "        \"\"\"\n",
    "        result = 0\n",
    "        for num in nums:\n",
    "            count = 0\n",
    "            while num > 0:\n",
    "                num = num // 10\n",
    "                count = count + 1\n",
    "            if count % 2 == 0:\n",
    "                result = result + 1        \n",
    "        return result\n",
    "        \n",
    "solution = Solution()\n",
    "nums = [12,345,2,6,7896]\n",
    "output = solution.findNumbers(nums)\n",
    "print(output)"
   ]
  },
  {
   "cell_type": "code",
   "execution_count": 61,
   "id": "273851e8",
   "metadata": {},
   "outputs": [
    {
     "name": "stdout",
     "output_type": "stream",
     "text": [
      "[0, 1, 9, 16, 100]\n"
     ]
    }
   ],
   "source": [
    "# Squares of a Sorted Array\n",
    "class Solution(object):\n",
    "    def sortedSquares(self, nums):\n",
    "        \"\"\"\n",
    "        :type nums: List[int]\n",
    "        :rtype: List[int]\n",
    "        \"\"\"\n",
    "        for i in range(len(nums)):\n",
    "            nums[i] = nums[i] * nums[i]\n",
    "            \n",
    "        nums = sorted(nums)\n",
    "        return nums\n",
    "   \n",
    "solution = Solution()\n",
    "nums = [-4,-1,0,3,10]\n",
    "output = solution.sortedSquares(nums)\n",
    "print(output)"
   ]
  },
  {
   "cell_type": "code",
   "execution_count": 109,
   "id": "dcfe34b6",
   "metadata": {},
   "outputs": [
    {
     "name": "stdout",
     "output_type": "stream",
     "text": [
      "None\n"
     ]
    }
   ],
   "source": [
    "# Duplicate Zeros\n",
    "class Solution(object):\n",
    "    def duplicateZeros(self, arr):\n",
    "        \"\"\"\n",
    "        :type arr: List[int]\n",
    "        :rtype: None Do not return anything, modify arr in-place instead.\n",
    "        \"\"\"\n",
    "        for i in range(len(arr)):\n",
    "            if arr[i] == 0:\n",
    "                arr.insert(i+1, 'zero')\n",
    "                arr.pop()\n",
    "                \n",
    "        for i in range(len(arr)):\n",
    "            if arr[i] == 'zero':\n",
    "                arr[i] = 0\n",
    "        \n",
    "solution = Solution()\n",
    "arr = [1,0,2,3,0,4,5,0]\n",
    "output = solution.duplicateZeros(arr)\n",
    "print(output)"
   ]
  },
  {
   "cell_type": "code",
   "execution_count": null,
   "id": "d2f6ee6e",
   "metadata": {},
   "outputs": [],
   "source": [
    "# Merge Sorted Array\n"
   ]
  }
 ],
 "metadata": {
  "kernelspec": {
   "display_name": "Python 3 (ipykernel)",
   "language": "python",
   "name": "python3"
  },
  "language_info": {
   "codemirror_mode": {
    "name": "ipython",
    "version": 3
   },
   "file_extension": ".py",
   "mimetype": "text/x-python",
   "name": "python",
   "nbconvert_exporter": "python",
   "pygments_lexer": "ipython3",
   "version": "3.11.4"
  }
 },
 "nbformat": 4,
 "nbformat_minor": 5
}
