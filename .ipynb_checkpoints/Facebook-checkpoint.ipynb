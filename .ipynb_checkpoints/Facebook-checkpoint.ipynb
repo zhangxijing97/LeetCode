{
 "cells": [
  {
   "cell_type": "markdown",
   "id": "f6f3faff-bc52-449f-96e5-c8e2d5795bbd",
   "metadata": {},
   "source": [
    "Arrays and Strings"
   ]
  },
  {
   "cell_type": "code",
   "execution_count": 23,
   "id": "ff3dda31-4964-4a6e-8186-a5a817163868",
   "metadata": {},
   "outputs": [
    {
     "name": "stdout",
     "output_type": "stream",
     "text": [
      "{'a'}\n",
      "{'b', 'a'}\n",
      "{'c', 'b', 'a'}\n",
      "3\n"
     ]
    }
   ],
   "source": [
    "# Longest Substring Without Repeating Characters\n",
    "class Solution(object):\n",
    "    def lengthOfLongestSubstring(self, s):\n",
    "        \"\"\"\n",
    "        :type s: str\n",
    "        :rtype: int\n",
    "        \"\"\"\n",
    "        lenOfArray = len(s)\n",
    "        maxLength = 0\n",
    "        charSet = set() # Set is an unordered collection of unique items\n",
    "        left = 0\n",
    "        \n",
    "        for right in range(lenOfArray):\n",
    "            if s[right] not in charSet:\n",
    "                charSet.add(s[right])\n",
    "                maxLength = max(maxLength, right - left + 1)\n",
    "            else:\n",
    "                while s[right] in charSet:\n",
    "                    charSet.remove(s[left]) \n",
    "                    left += 1\n",
    "                charSet.add(s[right])\n",
    "        return maxLength\n",
    "\n",
    "# Create an instance of the Solution class\n",
    "solution = Solution()\n",
    "\n",
    "s = \"abcabcbb\"\n",
    "output = solution.lengthOfLongestSubstring(s)\n",
    "print(output)"
   ]
  },
  {
   "cell_type": "code",
   "execution_count": null,
   "id": "aa615158-9268-4e5e-8560-a98f62c627b2",
   "metadata": {},
   "outputs": [],
   "source": []
  }
 ],
 "metadata": {
  "kernelspec": {
   "display_name": "Python 3 (ipykernel)",
   "language": "python",
   "name": "python3"
  },
  "language_info": {
   "codemirror_mode": {
    "name": "ipython",
    "version": 3
   },
   "file_extension": ".py",
   "mimetype": "text/x-python",
   "name": "python",
   "nbconvert_exporter": "python",
   "pygments_lexer": "ipython3",
   "version": "3.11.4"
  }
 },
 "nbformat": 4,
 "nbformat_minor": 5
}
