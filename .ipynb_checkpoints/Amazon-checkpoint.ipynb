{
 "cells": [
  {
   "cell_type": "markdown",
   "id": "e62d4c2f",
   "metadata": {},
   "source": [
    "Arrays and Strings"
   ]
  },
  {
   "cell_type": "code",
   "execution_count": 212,
   "id": "9f563311",
   "metadata": {},
   "outputs": [
    {
     "name": "stdout",
     "output_type": "stream",
     "text": [
      "[0, 1]\n"
     ]
    }
   ],
   "source": [
    "# Two Sum\n",
    "\"\"\"\n",
    "Input: nums = [2,7,11,15], target = 9\n",
    "Output: [0,1]\n",
    "Explanation: Because nums[0] + nums[1] == 9, we return [0, 1]\n",
    "\n",
    "Input: nums = [3,2,4], target = 6\n",
    "Output: [1,2]\n",
    "\n",
    "Input: nums = [3,3], target = 6\n",
    "Output: [0,1]\n",
    "\"\"\"\n",
    "\n",
    "class Solution(object):\n",
    "    def twoSum(self, nums, target):\n",
    "        \"\"\"\n",
    "        :type nums: List[int]\n",
    "        :type target: int\n",
    "        :rtype: List[int]\n",
    "        \"\"\"\n",
    "        \n",
    "        for i in range(len(nums)):\n",
    "            for j in range(i + 1, len(nums)):\n",
    "                if nums[i] + nums[j] == target: \n",
    "                    return [i, j]\n",
    "\n",
    "# Create an instance of the Solution class\n",
    "solution = Solution()\n",
    "\n",
    "nums = [2,7,11,15]\n",
    "target = 9\n",
    "output = solution.twoSum(nums, target)\n",
    "print(output)"
   ]
  },
  {
   "cell_type": "code",
   "execution_count": 2,
   "id": "75f52e80",
   "metadata": {},
   "outputs": [
    {
     "name": "stdout",
     "output_type": "stream",
     "text": [
      "3\n"
     ]
    }
   ],
   "source": [
    "# Longest Substring Without Repeating Characters\n",
    "\"\"\"\n",
    "Input: s = \"abcabcbb\"\n",
    "Output: 3\n",
    "Explanation: The answer is \"abc\", with the length of 3.\n",
    "    \n",
    "Input: s = \"bbbbb\"\n",
    "Output: 1\n",
    "Explanation: The answer is \"b\", with the length of 1.\n",
    "\n",
    "Input: s = \"pwwkew\"\n",
    "Output: 3\n",
    "Explanation: The answer is \"wke\", with the length of 3.\n",
    "Notice that the answer must be a substring, \"pwke\" is a subsequence and not a substring.\n",
    "\"\"\"\n",
    "\n",
    "class Solution(object):\n",
    "    def lengthOfLongestSubstring(self, s):\n",
    "        \"\"\"\n",
    "        :type s: str\n",
    "        :rtype: int\n",
    "        \"\"\"\n",
    "        lenOfArray = len(s)\n",
    "        maxLength = 0\n",
    "        charSet = set() # Set is an unordered collection of unique items\n",
    "        left = 0\n",
    "        \n",
    "        for right in range(lenOfArray):\n",
    "            if s[right] not in charSet:\n",
    "                charSet.add(s[right])\n",
    "                maxLength = max(maxLength, right - left + 1)\n",
    "            else:\n",
    "                while s[right] in charSet:\n",
    "                    charSet.remove(s[left]) \n",
    "                    left += 1\n",
    "                charSet.add(s[right])\n",
    "        \n",
    "        return maxLength\n",
    "        \n",
    "        \n",
    "# Create an instance of the Solution class\n",
    "solution = Solution()\n",
    "\n",
    "s = \"pwwkew\"\n",
    "output = solution.lengthOfLongestSubstring(s)\n",
    "print(output)"
   ]
  },
  {
   "cell_type": "code",
   "execution_count": 3,
   "id": "407bcad5",
   "metadata": {},
   "outputs": [
    {
     "name": "stdout",
     "output_type": "stream",
     "text": [
      "42\n"
     ]
    }
   ],
   "source": [
    "# String to Integer (atoi)\n",
    "\"\"\"\n",
    "Input: s = \"42\"\n",
    "Output: 42\n",
    "Explanation: The underlined characters are what is read in, the caret is the current reader position.\n",
    "Step 1: \"42\" (no characters read because there is no leading whitespace)\n",
    "         ^\n",
    "Step 2: \"42\" (no characters read because there is neither a '-' nor '+')\n",
    "         ^\n",
    "Step 3: \"42\" (\"42\" is read in)\n",
    "           ^\n",
    "The parsed integer is 42.\n",
    "Since 42 is in the range [-231, 231 - 1], the final result is 42.\n",
    "\"\"\"\n",
    "\n",
    "# DFA: Deterministic Finite Automaton\n",
    "class Solution(object):\n",
    "    def myAtoi(self, s):\n",
    "        \"\"\"\n",
    "        :type s: str\n",
    "        :rtype: int\n",
    "        \"\"\"\n",
    "\n",
    "        \"\"\"\n",
    "        \" \" -> state = 0\n",
    "        \"+\"or\"-\" -> state = 1\n",
    "        \"0\"-\"9\" -> state = 2\n",
    "        \"\"\"\n",
    "\n",
    "        value, state, pos, sign = 0, 0, 0, 1\n",
    "\n",
    "        if len(s) == 0:\n",
    "            return 0\n",
    "\n",
    "        while pos < len(s):\n",
    "            current_char = s[pos]\n",
    "            if state == 0:\n",
    "                if current_char == \" \":\n",
    "                    state = 0\n",
    "                elif current_char == \"+\" or current_char == \"-\":\n",
    "                    state = 1\n",
    "                    sign = 1 if current_char == \"+\" else -1\n",
    "                elif current_char.isdigit():\n",
    "                    state = 2\n",
    "                    value = value * 10 + int(current_char)\n",
    "                else:\n",
    "                    return 0\n",
    "            elif state == 1:\n",
    "                if current_char.isdigit():\n",
    "                    state = 2\n",
    "                    value = value * 10 + int(current_char)\n",
    "                else:\n",
    "                    return 0\n",
    "            elif state == 2:\n",
    "                if current_char.isdigit():\n",
    "                    state = 2\n",
    "                    value = value * 10 + int(current_char)\n",
    "                else:\n",
    "                    break\n",
    "            else:\n",
    "                return 0\n",
    "            pos += 1\n",
    "\n",
    "        value = sign * value\n",
    "        value = min(value, 2 ** 31 - 1)\n",
    "        value = max(-(2 ** 31), value)\n",
    "\n",
    "        return value\n",
    "        \n",
    "# Create an instance of the Solution class\n",
    "solution = Solution()\n",
    "\n",
    "s = \"0042\"\n",
    "output = solution.myAtoi(s)\n",
    "print(output)"
   ]
  },
  {
   "cell_type": "code",
   "execution_count": 4,
   "id": "8ee2c6b8",
   "metadata": {},
   "outputs": [
    {
     "name": "stdout",
     "output_type": "stream",
     "text": [
      "49\n"
     ]
    }
   ],
   "source": [
    "# Container With Most Water\n",
    "\"\"\"\n",
    "Input: height = [1,8,6,2,5,4,8,3,7]\n",
    "Output: 49\n",
    "\"\"\"\n",
    "class Solution(object):\n",
    "    def maxArea(self, height):\n",
    "        \"\"\"\n",
    "        :type height: List[int]\n",
    "        :rtype: int\n",
    "        \"\"\"\n",
    "        maxarea = 0\n",
    "        left = 0\n",
    "        right = len(height) - 1\n",
    "        \n",
    "        while left < right:\n",
    "            width = right - left\n",
    "            maxarea = max(maxarea, min(height[left], height[right]) * width)\n",
    "            if height[left] < height[right]:\n",
    "                left += 1\n",
    "            else:\n",
    "                right -= 1\n",
    "                \n",
    "        return maxarea\n",
    "        \n",
    "# Create an instance of the Solution class\n",
    "solution = Solution()\n",
    "\n",
    "height = [1,8,6,2,5,4,8,3,7]\n",
    "output = solution.maxArea(height)\n",
    "print(output)"
   ]
  },
  {
   "cell_type": "code",
   "execution_count": 188,
   "id": "edff6c62",
   "metadata": {},
   "outputs": [
    {
     "name": "stdout",
     "output_type": "stream",
     "text": [
      "MCMXCIV\n"
     ]
    }
   ],
   "source": [
    "# Integer to Roman\n",
    "class Solution(object):\n",
    "    def intToRoman(self, num):\n",
    "        \"\"\"\n",
    "        :type num: int\n",
    "        :rtype: str    \n",
    "        \"\"\"\n",
    "        # Define mappings from integer values to Roman numeral symbols\n",
    "        # List[Tuple[int, str]]\n",
    "        value_to_symbol = [\n",
    "            (1000, \"M\"), (900, \"CM\"), (500, \"D\"), (400, \"CD\"),\n",
    "            (100, \"C\"), (90, \"XC\"), (50, \"L\"), (40, \"XL\"),\n",
    "            (10, \"X\"), (9, \"IX\"), (5, \"V\"), (4, \"IV\"), (1, \"I\")\n",
    "        ]\n",
    "        \n",
    "        output = \"\"\n",
    "        for value, symbol in value_to_symbol:\n",
    "            while num >= value:\n",
    "                num -= value\n",
    "                output += symbol\n",
    "                \n",
    "        return output\n",
    "\n",
    "\n",
    "# Create an instance of the Solution class\n",
    "solution = Solution()\n",
    "\n",
    "num = 1994\n",
    "output = solution.intToRoman(num)\n",
    "print(output)"
   ]
  },
  {
   "cell_type": "code",
   "execution_count": 189,
   "id": "c3f9648f",
   "metadata": {},
   "outputs": [
    {
     "name": "stdout",
     "output_type": "stream",
     "text": [
      "58\n"
     ]
    }
   ],
   "source": [
    "# Roman to Integer\n",
    "class Solution(object):\n",
    "    def romanToInt(self, s):\n",
    "        roman = {\n",
    "            \"I\": 1,\n",
    "            \"V\": 5,\n",
    "            \"X\": 10,\n",
    "            \"L\": 50,\n",
    "            \"C\": 100,\n",
    "            \"D\": 500,\n",
    "            \"M\": 1000\n",
    "        }\n",
    "        total = 0\n",
    "        s = s.replace(\"IV\", \"IIII\").replace(\"IX\", \"VIIII\")\n",
    "        s = s.replace(\"XL\", \"XXXX\").replace(\"XC\", \"LXXXX\")\n",
    "        s = s.replace(\"CD\", \"CCCC\").replace(\"CM\", \"DCCCC\")\n",
    "        for symbol in s:\n",
    "            total += roman[symbol]\n",
    "        return total\n",
    "    \n",
    "# Create an instance of the Solution class\n",
    "solution = Solution()\n",
    "\n",
    "s = \"LVIII\"\n",
    "output = solution.romanToInt(s)\n",
    "print(output)"
   ]
  },
  {
   "cell_type": "code",
   "execution_count": 201,
   "id": "4a51f435",
   "metadata": {},
   "outputs": [
    {
     "name": "stdout",
     "output_type": "stream",
     "text": [
      "{(-1, 0, 1), (-1, -1, 2)}\n"
     ]
    }
   ],
   "source": [
    "# 3Sum\n",
    "class Solution(object):\n",
    "    def threeSum(self, nums):\n",
    "        \"\"\"\n",
    "        :type nums: List[int]\n",
    "        :rtype: List[List[int]]\n",
    "        \"\"\"\n",
    "        ans=set()\n",
    "        nums.sort()\n",
    "        n=len(nums)\n",
    "        \n",
    "        for i in range(n-2):\n",
    "            j=i+1\n",
    "            k=n-1\n",
    "            while j<k:\n",
    "                temp=nums[i]+nums[j]+nums[k]\n",
    "                if temp==0:\n",
    "                    ans.add((nums[i],nums[j],nums[k]))\n",
    "                    j+=1\n",
    "                elif temp>0:\n",
    "                    k-=1\n",
    "                else:\n",
    "                    j+=1\n",
    "        return ans\n",
    "    \n",
    "# Create an instance of the Solution class\n",
    "solution = Solution()\n",
    "\n",
    "nums = [-1,0,1,2,-1,-4]\n",
    "output = solution.threeSum(nums)\n",
    "print(output)"
   ]
  },
  {
   "cell_type": "code",
   "execution_count": 219,
   "id": "da8d605c",
   "metadata": {},
   "outputs": [
    {
     "name": "stdout",
     "output_type": "stream",
     "text": [
      "2\n"
     ]
    }
   ],
   "source": [
    "# 3Sum Closest\n",
    "class Solution(object):\n",
    "    def threeSumClosest(self, nums, target):\n",
    "        \"\"\"\n",
    "        :type nums: List[int]\n",
    "        :type target: int\n",
    "        :rtype: int\n",
    "        \"\"\"\n",
    "        nums.sort()\n",
    "        result = nums[0] + nums[1] + nums[2]\n",
    "        for i in range(len(nums) - 2):\n",
    "            j, k = i+1, len(nums) - 1\n",
    "            while j < k:\n",
    "                sum = nums[i] + nums[j] + nums[k]\n",
    "                if sum == target:\n",
    "                    return sum\n",
    "                \n",
    "                if abs(sum - target) < abs(result - target):\n",
    "                    result = sum\n",
    "                \n",
    "                if sum < target:\n",
    "                    j += 1\n",
    "                elif sum > target:\n",
    "                    k -= 1\n",
    "                else:\n",
    "                    return result\n",
    "            \n",
    "        return result\n",
    "\n",
    "# Create an instance of the Solution class\n",
    "solution = Solution()\n",
    "\n",
    "nums = [-1,2,1,-4]\n",
    "target = 1\n",
    "output = solution.threeSumClosest(nums, target)\n",
    "print(output)"
   ]
  },
  {
   "cell_type": "code",
   "execution_count": 220,
   "id": "2341c4cc",
   "metadata": {},
   "outputs": [
    {
     "name": "stdout",
     "output_type": "stream",
     "text": [
      "2\n"
     ]
    }
   ],
   "source": [
    "# 3Sum Closest way 2\n",
    "class Solution(object):\n",
    "    def threeSumClosest(self, nums, target):\n",
    "        \"\"\"\n",
    "        :type nums: List[int]\n",
    "        :type target: int\n",
    "        :rtype: int\n",
    "        \"\"\"\n",
    "        nums.sort()\n",
    "        n=len(nums)\n",
    "        result = nums[0] + nums[1] + nums[2]\n",
    "        \n",
    "        for i in range(n-2):\n",
    "            j=i+1\n",
    "            k=n-1\n",
    "            while j<k:\n",
    "                sum = nums[i] + nums[j] + nums[k]\n",
    "                if sum == target:\n",
    "                    return sum\n",
    "                \n",
    "                if abs(sum - target) < abs(result - target):\n",
    "                    result = sum\n",
    "                    \n",
    "                if sum < target:\n",
    "                    j+=1\n",
    "                elif sum > target:\n",
    "                    k -= 1\n",
    "                else:\n",
    "                    return result\n",
    "        return result\n",
    "\n",
    "# Create an instance of the Solution class\n",
    "solution = Solution()\n",
    "\n",
    "nums = [-1,2,1,-4]\n",
    "target = 1\n",
    "output = solution.threeSumClosest(nums, target)\n",
    "print(output)"
   ]
  },
  {
   "cell_type": "code",
   "execution_count": 119,
   "id": "f9e51084",
   "metadata": {},
   "outputs": [
    {
     "name": "stdout",
     "output_type": "stream",
     "text": [
      "ball\n"
     ]
    }
   ],
   "source": [
    "# Most Common Word\n",
    "\n",
    "import re\n",
    "class Solution(object):\n",
    "    def mostCommonWord(self, paragraph, banned):\n",
    "        \"\"\"\n",
    "        :type paragraph: str\n",
    "        :type banned: List[str]\n",
    "        :rtype: str\n",
    "        \"\"\"\n",
    "        \n",
    "        word_count = {}\n",
    "        \n",
    "        words = re.findall(r'\\w+', paragraph.lower())\n",
    "        for i in words:\n",
    "            if i not in banned:\n",
    "                if i not in word_count:\n",
    "                    word_count[i] = 1\n",
    "                else:\n",
    "                    word_count[i] += 1\n",
    "        maxPoint = max(word_count, key=lambda x: word_count[x])\n",
    "                    \n",
    "        return max(word_count, key=lambda x: word_count[x])\n",
    "\n",
    "# Create an instance of the Solution class\n",
    "solution = Solution()\n",
    "\n",
    "paragraph = \"Bob hit a ball, the hit BALL flew far after it was hit.\"\n",
    "banned = [\"hit\"]\n",
    "output = solution.mostCommonWord(paragraph, banned)\n",
    "print(output)"
   ]
  },
  {
   "cell_type": "code",
   "execution_count": 148,
   "id": "340b6533",
   "metadata": {},
   "outputs": [
    {
     "name": "stdout",
     "output_type": "stream",
     "text": [
      "['let1 art can', 'let3 art zero', 'let2 own kit dig', 'dig1 8 1 5 1', 'dig2 3 6']\n"
     ]
    }
   ],
   "source": [
    "# Reorder Log Files\n",
    "# Note: Python uses the first element of each tuple as the primary sorting key. so 0, right_side and left_side\n",
    "class Solution(object):\n",
    "    def reorderLogFiles(self, logs):\n",
    "        \"\"\"\n",
    "        :type logs: List[str]\n",
    "        :rtype: List[str]\n",
    "        \"\"\"\n",
    "        def sorting_algorithm(log):\n",
    "            left_side, right_side = log.split(\" \", 1) # Split the log into two based on the first space and do it only once\n",
    "\n",
    "            if right_side[0].isalpha(): # Check first character of the right side is an alphabet character or not\n",
    "                return (0, right_side, left_side) # If it is, return a tuple with a sorting key of 0, indicating it should be sorted before others\n",
    "            else:\n",
    "                return (1,) # If not an alphabet character, return a tuple with a sorting key of 1, indicating it should be sorted after those with a key of 0\n",
    "        \n",
    "        return sorted(logs, key=sorting_algorithm)\n",
    "\n",
    "# Create an instance of the Solution class\n",
    "solution = Solution()\n",
    "\n",
    "logs = [\"dig1 8 1 5 1\",\"let1 art can\",\"dig2 3 6\",\"let2 own kit dig\",\"let3 art zero\"]\n",
    "output = solution.reorderLogFiles(logs)\n",
    "print(output)"
   ]
  },
  {
   "cell_type": "code",
   "execution_count": 1,
   "id": "232f406f",
   "metadata": {},
   "outputs": [
    {
     "name": "stdout",
     "output_type": "stream",
     "text": [
      "9\n"
     ]
    }
   ],
   "source": [
    "# Trapping Rain Water\n",
    "class Solution(object):\n",
    "    def trap(self, height):\n",
    "        \"\"\"\n",
    "        :type height: List[int]\n",
    "        :rtype: int\n",
    "        \"\"\"\n",
    "        res = 0\n",
    "        l = 0\n",
    "        r = len(height) - 1\n",
    "        lMax = 0 \n",
    "        rMax = 0\n",
    "        \n",
    "        if r < 2:\n",
    "            return res\n",
    "        \n",
    "        while l < r:\n",
    "            if height[l] < height[r]:\n",
    "                lMax = max(lMax, height[l])\n",
    "                res += lMax - height[l]\n",
    "                l += 1    \n",
    "            else:\n",
    "                rMax = max(rMax, height[r])\n",
    "                res += rMax - height[r]\n",
    "                r -= 1\n",
    "        \n",
    "        return res\n",
    "\n",
    "# Create an instance of the Solution class\n",
    "solution = Solution()\n",
    "\n",
    "height = [4,2,0,3,2,5]\n",
    "output = solution.trap(height)\n",
    "print(output)"
   ]
  },
  {
   "cell_type": "markdown",
   "id": "2ce534fe",
   "metadata": {},
   "source": [
    "Linked list"
   ]
  },
  {
   "cell_type": "code",
   "execution_count": 15,
   "id": "f70483b1",
   "metadata": {},
   "outputs": [
    {
     "name": "stdout",
     "output_type": "stream",
     "text": [
      "807\n"
     ]
    }
   ],
   "source": [
    "# Add Two Numbers\n",
    "class Solution(object):\n",
    "    def addTwoNumbers(self, l1, l2):\n",
    "        \"\"\"\n",
    "        :type l1: ListNode\n",
    "        :type l2: ListNode\n",
    "        :rtype: ListNode\n",
    "        \"\"\"\n",
    "        l1Value = 0\n",
    "        l2Value = 0\n",
    "        \n",
    "#         l1 = l1[::-1]\n",
    "#         l2 = l2[::-1]\n",
    "        \n",
    "        for i in l1:\n",
    "            l1Value = i + l1Value*10\n",
    "            \n",
    "        for i in l2:\n",
    "            l2Value = i + l2Value*10\n",
    "        \n",
    "        return l1Value + l2Value\n",
    "\n",
    "# Create an instance of the Solution class\n",
    "solution = Solution()\n",
    "\n",
    "l1 = [2,4,3]\n",
    "l2 = [5,6,4]\n",
    "output = solution.addTwoNumbers(l1, l2)\n",
    "print(output)"
   ]
  },
  {
   "cell_type": "code",
   "execution_count": null,
   "id": "bff78221",
   "metadata": {},
   "outputs": [],
   "source": []
  },
  {
   "cell_type": "code",
   "execution_count": null,
   "id": "bff6a29c",
   "metadata": {},
   "outputs": [],
   "source": []
  }
 ],
 "metadata": {
  "kernelspec": {
   "display_name": "Python 3 (ipykernel)",
   "language": "python",
   "name": "python3"
  },
  "language_info": {
   "codemirror_mode": {
    "name": "ipython",
    "version": 3
   },
   "file_extension": ".py",
   "mimetype": "text/x-python",
   "name": "python",
   "nbconvert_exporter": "python",
   "pygments_lexer": "ipython3",
   "version": "3.11.4"
  }
 },
 "nbformat": 4,
 "nbformat_minor": 5
}
