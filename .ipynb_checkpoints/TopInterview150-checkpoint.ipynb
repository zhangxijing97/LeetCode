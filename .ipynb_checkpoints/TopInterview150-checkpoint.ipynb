{
 "cells": [
  {
   "cell_type": "code",
   "execution_count": 13,
   "id": "28b2ddd4",
   "metadata": {},
   "outputs": [
    {
     "name": "stdout",
     "output_type": "stream",
     "text": [
      "[1, 2, 2, 3, 5, 6]\n"
     ]
    }
   ],
   "source": [
    "# 88. Merge Sorted Array\n",
    "class Solution(object):\n",
    "    def merge(self, nums1, m, nums2, n):\n",
    "        \"\"\"\n",
    "        :type nums1: List[int]\n",
    "        :type m: int\n",
    "        :type nums2: List[int]\n",
    "        :type n: int\n",
    "        :rtype: None Do not return anything, modify nums1 in-place instead.\n",
    "        \"\"\"\n",
    "        # Initialize pointers for nums1, nums2, and the merged array\n",
    "        p1, p2, p = m - 1, n - 1, m + n - 1\n",
    "        \n",
    "        # Merge nums1 and nums2 into nums1\n",
    "        while p1 >= 0 and p2 >= 0:\n",
    "            if nums1[p1] > nums2[p2]:\n",
    "                nums1[p] = nums1[p1]\n",
    "                p1 -= 1\n",
    "            else:\n",
    "                nums1[p] = nums2[p2]\n",
    "                p2 -= 1\n",
    "            p -= 1\n",
    "\n",
    "        # If there are remaining elements in nums2, copy them to nums1\n",
    "        while p2 >= 0:\n",
    "            nums1[p] = nums2[p2]\n",
    "            p2 -= 1\n",
    "            p -= 1\n",
    "\n",
    "# Create an instance of the Solution class\n",
    "solution = Solution()\n",
    "\n",
    "# Input: nums1 = [1,2,3,0,0,0], m = 3, nums2 = [2,5,6], n = 3\n",
    "# Output: [1,2,2,3,5,6]\n",
    "nums1 = [1, 2, 3, 0, 0, 0]\n",
    "m = 3\n",
    "nums2 = [2, 5, 6]\n",
    "n = 3\n",
    "\n",
    "# Input: nums1 = [1], m = 1, nums2 = [], n = 0\n",
    "# Output: [1]\n",
    "# nums1 = [1]\n",
    "# m = 1\n",
    "# nums2 = []\n",
    "# n = 0\n",
    "\n",
    "# Input: nums1 = [0], m = 0, nums2 = [1], n = 1\n",
    "# Output: [1]\n",
    "# nums1 = [0]\n",
    "# m = 0\n",
    "# nums2 = [1]\n",
    "# n = 1\n",
    "\n",
    "solution.merge(nums1, m, nums2, n)\n",
    "print(nums1)  # Output: [1, 2, 2, 3, 5, 6]"
   ]
  },
  {
   "cell_type": "code",
   "execution_count": 45,
   "id": "ce8217ad",
   "metadata": {},
   "outputs": [
    {
     "name": "stdout",
     "output_type": "stream",
     "text": [
      "New Array: [3, 3, 4, 5]\n",
      "Number of elements not equal to 'val': 4\n"
     ]
    }
   ],
   "source": [
    "# 27. Remove Element\n",
    "class Solution:\n",
    "    def removeElement(self, nums, val):\n",
    "        \"\"\"\n",
    "        :type nums: List[int]\n",
    "        :type val: int\n",
    "        :rtype: int\n",
    "        \"\"\"\n",
    "        k = 0  # Initialize k to keep track of the number of elements not equal to val\n",
    "\n",
    "        for i in range(len(nums)):\n",
    "            if nums[i] != val:\n",
    "                nums[k] = nums[i]\n",
    "                k += 1\n",
    "\n",
    "        return k\n",
    "            \n",
    "# Create an instance of the Solution class\n",
    "solution = Solution()\n",
    "\n",
    "# Input\n",
    "nums = [3, 2, 2, 3, 4, 5, 2]\n",
    "val = 2\n",
    "\n",
    "# Call the removeElement method to remove 'val' from the list 'nums'\n",
    "k = solution.removeElement(nums, val)\n",
    "\n",
    "# Print the updated list containing elements not equal to 'val'\n",
    "print(\"New Array:\", nums[:k])  # Elements not equal to 'val'\n",
    "\n",
    "# Print the number of elements not equal to 'val'\n",
    "print(\"Number of elements not equal to 'val':\", k)"
   ]
  },
  {
   "cell_type": "code",
   "execution_count": 15,
   "id": "4b812e32",
   "metadata": {},
   "outputs": [
    {
     "name": "stdout",
     "output_type": "stream",
     "text": [
      "10\n"
     ]
    },
    {
     "ename": "NameError",
     "evalue": "name 'unique_index' is not defined",
     "output_type": "error",
     "traceback": [
      "\u001b[0;31m---------------------------------------------------------------------------\u001b[0m",
      "\u001b[0;31mNameError\u001b[0m                                 Traceback (most recent call last)",
      "Cell \u001b[0;32mIn[15], line 27\u001b[0m\n\u001b[1;32m     23\u001b[0m \u001b[38;5;28mprint\u001b[39m(\u001b[38;5;28mlen\u001b[39m(nums))\n\u001b[1;32m     24\u001b[0m \u001b[38;5;66;03m# k = solution.removeDuplicates(nums)\u001b[39;00m\n\u001b[1;32m     25\u001b[0m \n\u001b[1;32m     26\u001b[0m \u001b[38;5;66;03m# Print the updated list containing elements not equal to 'val'\u001b[39;00m\n\u001b[0;32m---> 27\u001b[0m k \u001b[38;5;241m=\u001b[39m solution\u001b[38;5;241m.\u001b[39mremoveDuplicates(nums)\n\u001b[1;32m     28\u001b[0m \u001b[38;5;28mprint\u001b[39m(\u001b[38;5;124m\"\u001b[39m\u001b[38;5;124mNew Array:\u001b[39m\u001b[38;5;124m\"\u001b[39m, nums[:k])\n\u001b[1;32m     30\u001b[0m \u001b[38;5;66;03m# Print the number of elements not equal to 'val'\u001b[39;00m\n",
      "Cell \u001b[0;32mIn[15], line 13\u001b[0m, in \u001b[0;36mSolution.removeDuplicates\u001b[0;34m(self, nums)\u001b[0m\n\u001b[1;32m     11\u001b[0m     \u001b[38;5;28;01mif\u001b[39;00m nums[i] \u001b[38;5;241m!=\u001b[39m nums[k]:\n\u001b[1;32m     12\u001b[0m         k \u001b[38;5;241m+\u001b[39m\u001b[38;5;241m=\u001b[39m \u001b[38;5;241m1\u001b[39m\n\u001b[0;32m---> 13\u001b[0m         nums[unique_index] \u001b[38;5;241m=\u001b[39m nums[i]\n\u001b[1;32m     15\u001b[0m k \u001b[38;5;241m=\u001b[39m k \u001b[38;5;241m+\u001b[39m \u001b[38;5;241m1\u001b[39m \u001b[38;5;66;03m# The number of unique elements (k) is the index of the last unique element + 1.\u001b[39;00m\n\u001b[1;32m     16\u001b[0m \u001b[38;5;28;01mreturn\u001b[39;00m k\n",
      "\u001b[0;31mNameError\u001b[0m: name 'unique_index' is not defined"
     ]
    }
   ],
   "source": [
    "# 26. Remove Duplicates from Sorted Array\n",
    "class Solution(object):\n",
    "    def removeDuplicates(self, nums):\n",
    "        \"\"\"\n",
    "        :type nums: List[int]\n",
    "        :rtype: int\n",
    "        \"\"\"\n",
    "        k = 0\n",
    "        \n",
    "        for i in range(1, len(nums)):\n",
    "            if nums[i] != nums[k]:\n",
    "                k += 1\n",
    "                nums[k] = nums[i]\n",
    "                    \n",
    "        k = k + 1\n",
    "        return k\n",
    "\n",
    "# Create an instance of the Solution class\n",
    "solution = Solution()\n",
    "\n",
    "# Input\n",
    "nums = [0, 0, 1, 1, 1, 2, 2, 3, 3, 4]\n",
    "print(len(nums))\n",
    "# k = solution.removeDuplicates(nums)\n",
    "\n",
    "# Print the updated list containing elements not equal to 'val'\n",
    "k = solution.removeDuplicates(nums)\n",
    "print(\"New Array:\", nums[:k])\n",
    "\n",
    "# Print the number of elements not equal to 'val'\n",
    "print(\"Number of elements not equal to 'val':\", k)"
   ]
  },
  {
   "cell_type": "code",
   "execution_count": null,
   "id": "313d5e97",
   "metadata": {},
   "outputs": [],
   "source": []
  }
 ],
 "metadata": {
  "kernelspec": {
   "display_name": "Python 3 (ipykernel)",
   "language": "python",
   "name": "python3"
  },
  "language_info": {
   "codemirror_mode": {
    "name": "ipython",
    "version": 3
   },
   "file_extension": ".py",
   "mimetype": "text/x-python",
   "name": "python",
   "nbconvert_exporter": "python",
   "pygments_lexer": "ipython3",
   "version": "3.11.4"
  }
 },
 "nbformat": 4,
 "nbformat_minor": 5
}
