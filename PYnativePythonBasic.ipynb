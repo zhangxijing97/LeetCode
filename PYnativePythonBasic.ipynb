{
 "cells": [
  {
   "cell_type": "markdown",
   "id": "21cf8039",
   "metadata": {},
   "source": [
    "https://pynative.com/python/"
   ]
  },
  {
   "cell_type": "markdown",
   "id": "c0bb27a8",
   "metadata": {},
   "source": [
    "### Python range()"
   ]
  },
  {
   "cell_type": "code",
   "execution_count": 5,
   "id": "3feecf39",
   "metadata": {
    "scrolled": true
   },
   "outputs": [
    {
     "name": "stdout",
     "output_type": "stream",
     "text": [
      "0\n",
      "1\n",
      "2\n",
      "3\n",
      "4\n",
      "5\n"
     ]
    }
   ],
   "source": [
    "# range(start, stop[, step])\n",
    "for i in range(6):\n",
    "    print(i)"
   ]
  },
  {
   "cell_type": "code",
   "execution_count": 6,
   "id": "3550b53b",
   "metadata": {},
   "outputs": [
    {
     "name": "stdout",
     "output_type": "stream",
     "text": [
      "0 1 2 3 4 5 6 7 8 9 "
     ]
    }
   ],
   "source": [
    "# Print first 10 numbers\n",
    "# stop = 10\n",
    "for i in range(10):\n",
    "    print(i, end=' ')\n",
    "# Output 0 1 2 3 4 5 6 7 8 9"
   ]
  },
  {
   "cell_type": "code",
   "execution_count": 7,
   "id": "42b43469",
   "metadata": {},
   "outputs": [
    {
     "name": "stdout",
     "output_type": "stream",
     "text": [
      "10 11 12 13 14 15 "
     ]
    }
   ],
   "source": [
    "# Numbers from 10 to 15\n",
    "# start = 10\n",
    "# stop = 16\n",
    "for i in range(10, 16):\n",
    "    print(i, end=' ')\n",
    "# Output 10 11 12 13 14 15"
   ]
  },
  {
   "cell_type": "code",
   "execution_count": 9,
   "id": "36a3603f",
   "metadata": {},
   "outputs": [
    {
     "name": "stdout",
     "output_type": "stream",
     "text": [
      "10 15 20 25 30 35 40 45 "
     ]
    }
   ],
   "source": [
    "# Numbers from 10 to 15\n",
    "# start = 10\n",
    "# stop = 50\n",
    "# step = 5\n",
    "for i in range(10, 50, 5):\n",
    "    print(i, end=' ')\n",
    "# Output 10 15 20 25 30 35 40 45"
   ]
  },
  {
   "cell_type": "code",
   "execution_count": 10,
   "id": "bb14d9f8",
   "metadata": {},
   "outputs": [
    {
     "name": "stdout",
     "output_type": "stream",
     "text": [
      "Current value of i is: 1\n",
      "Current value of i is: 3\n",
      "Current value of i is: 5\n",
      "Current value of i is: 7\n",
      "Current value of i is: 9\n"
     ]
    }
   ],
   "source": [
    "for i in range(1, 10, 2):\n",
    "    print(\"Current value of i is:\", i)"
   ]
  },
  {
   "cell_type": "markdown",
   "id": "a2db3c4b",
   "metadata": {},
   "source": [
    "#### Iterate a list using range() and for loop"
   ]
  },
  {
   "cell_type": "code",
   "execution_count": 11,
   "id": "2cf58fd0",
   "metadata": {},
   "outputs": [
    {
     "name": "stdout",
     "output_type": "stream",
     "text": [
      "Jessa\n",
      "Emma\n",
      "20\n",
      "30\n",
      "75.5\n"
     ]
    }
   ],
   "source": [
    "list1 = ['Jessa', 'Emma', 20, 30, 75.5]\n",
    "# iterate a list using range()\n",
    "for i in range(len(list1)):\n",
    "    print(list1[i])"
   ]
  },
  {
   "cell_type": "markdown",
   "id": "82d2379e",
   "metadata": {},
   "source": [
    "#### Reverse range"
   ]
  },
  {
   "cell_type": "code",
   "execution_count": 28,
   "id": "6b400e9e",
   "metadata": {},
   "outputs": [
    {
     "name": "stdout",
     "output_type": "stream",
     "text": [
      "normal\n",
      "1\n",
      "2\n",
      "3\n",
      "4\n",
      "5\n",
      "reverse\n",
      "5\n",
      "4\n",
      "3\n",
      "2\n",
      "1\n",
      "reverse\n",
      "5\n",
      "4\n",
      "3\n",
      "2\n",
      "1\n"
     ]
    }
   ],
   "source": [
    "# normal\n",
    "print(\"normal\")\n",
    "for i in range(1, 6, 1):\n",
    "    print(i)\n",
    "\n",
    "# reverse\n",
    "print(\"reverse\")\n",
    "for i in range(5, 0, -1):\n",
    "    print(i)\n",
    "    \n",
    "# reverse\n",
    "print(\"reverse\")\n",
    "for i in reversed(range(1, 6, 1)):\n",
    "    print(i)"
   ]
  },
  {
   "cell_type": "code",
   "execution_count": 29,
   "id": "1f3f8e81",
   "metadata": {},
   "outputs": [
    {
     "name": "stdout",
     "output_type": "stream",
     "text": [
      "5\n",
      "4\n",
      "3\n",
      "2\n",
      "1\n",
      "0\n"
     ]
    }
   ],
   "source": [
    "# reverse range using negative step\n",
    "# start = 5\n",
    "# stop = -1\n",
    "# step = -1\n",
    "for i in range(5, -1, -1):\n",
    "    print(i)"
   ]
  },
  {
   "cell_type": "code",
   "execution_count": 31,
   "id": "d211f914",
   "metadata": {},
   "outputs": [
    {
     "name": "stdout",
     "output_type": "stream",
     "text": [
      "20 19 18 17 16 15 14 13 12 11 10 <class 'range'>\n",
      "<class 'range_iterator'>\n"
     ]
    }
   ],
   "source": [
    "# example\n",
    "for i in reversed(range(10, 21)):\n",
    "    print(i, end=' ')\n",
    "# Output 19 18 17 16 15 14 13 12 11 10\n",
    "\n",
    "print(type(range(0, 5)))\n",
    "# Output <class 'range'>\n",
    "\n",
    "print(type(reversed(range(0, 5))))\n",
    "# Output <class 'range_iterator'>"
   ]
  },
  {
   "cell_type": "markdown",
   "id": "3f5ef33d",
   "metadata": {},
   "source": [
    "#### Use range() to reverse a list"
   ]
  },
  {
   "cell_type": "code",
   "execution_count": 33,
   "id": "2fe0e517",
   "metadata": {},
   "outputs": [
    {
     "name": "stdout",
     "output_type": "stream",
     "text": [
      "50 40 30 20 10 "
     ]
    }
   ],
   "source": [
    "list1 = [10, 20, 30, 40, 50]\n",
    "# start = list's size\n",
    "# stop = -1\n",
    "# step = -1\n",
    "\n",
    "# reverse a list\n",
    "for i in range(len(list1) - 1, -1, -1):\n",
    "    print(list1[i], end=\" \")\n",
    "# Output 50 40 30 20 10"
   ]
  },
  {
   "cell_type": "markdown",
   "id": "cb53a972",
   "metadata": {},
   "source": [
    "#### Negative range() in Python"
   ]
  },
  {
   "cell_type": "code",
   "execution_count": 34,
   "id": "40d92475",
   "metadata": {},
   "outputs": [
    {
     "name": "stdout",
     "output_type": "stream",
     "text": [
      "-1, -2, -3, -4, -5, -6, -7, -8, -9, -10, "
     ]
    }
   ],
   "source": [
    "# negative range from -1 to -10\n",
    "for i in range(-1, -11, -1):\n",
    "    print(i, end=', ')\n",
    "# Output -1, -2, -3, -4, -5, -6, -7, -8, -9, -10"
   ]
  },
  {
   "cell_type": "code",
   "execution_count": 35,
   "id": "a7a64c17",
   "metadata": {},
   "outputs": [
    {
     "name": "stdout",
     "output_type": "stream",
     "text": [
      "-10, -9, -8, -7, -6, -5, -4, -3, -2, -1, "
     ]
    }
   ],
   "source": [
    "# negative range from -10 to -1\n",
    "# start = -10\n",
    "# stop = 0\n",
    "# step = 1\n",
    "for i in range(-10, 0):\n",
    "    print(i, end=', ')\n",
    "# Output -10, -9, -8, -7, -6, -5, -4, -3, -2, -1,"
   ]
  },
  {
   "cell_type": "markdown",
   "id": "96ba16f9",
   "metadata": {},
   "source": [
    "#### Convert range() to list"
   ]
  },
  {
   "cell_type": "code",
   "execution_count": null,
   "id": "3898a773",
   "metadata": {},
   "outputs": [],
   "source": []
  }
 ],
 "metadata": {
  "kernelspec": {
   "display_name": "Python 3 (ipykernel)",
   "language": "python",
   "name": "python3"
  },
  "language_info": {
   "codemirror_mode": {
    "name": "ipython",
    "version": 3
   },
   "file_extension": ".py",
   "mimetype": "text/x-python",
   "name": "python",
   "nbconvert_exporter": "python",
   "pygments_lexer": "ipython3",
   "version": "3.11.4"
  }
 },
 "nbformat": 4,
 "nbformat_minor": 5
}
