{
 "cells": [
  {
   "cell_type": "markdown",
   "id": "57ec6314",
   "metadata": {},
   "source": [
    "https://pynative.com/python/"
   ]
  },
  {
   "cell_type": "markdown",
   "id": "8c9ad6f0",
   "metadata": {},
   "source": [
    "### Python range()"
   ]
  },
  {
   "cell_type": "code",
   "execution_count": 5,
   "id": "6aa2b7ba",
   "metadata": {
    "scrolled": true
   },
   "outputs": [
    {
     "name": "stdout",
     "output_type": "stream",
     "text": [
      "0\n",
      "1\n",
      "2\n",
      "3\n",
      "4\n",
      "5\n"
     ]
    }
   ],
   "source": [
    "# range(start, stop[, step])\n",
    "for i in range(6):\n",
    "    print(i)"
   ]
  },
  {
   "cell_type": "code",
   "execution_count": 6,
   "id": "854e7a93",
   "metadata": {},
   "outputs": [
    {
     "name": "stdout",
     "output_type": "stream",
     "text": [
      "0 1 2 3 4 5 6 7 8 9 "
     ]
    }
   ],
   "source": [
    "# Print first 10 numbers\n",
    "# stop = 10\n",
    "for i in range(10):\n",
    "    print(i, end=' ')\n",
    "# Output 0 1 2 3 4 5 6 7 8 9"
   ]
  },
  {
   "cell_type": "code",
   "execution_count": 7,
   "id": "9a124b32",
   "metadata": {},
   "outputs": [
    {
     "name": "stdout",
     "output_type": "stream",
     "text": [
      "10 11 12 13 14 15 "
     ]
    }
   ],
   "source": [
    "# Numbers from 10 to 15\n",
    "# start = 10\n",
    "# stop = 16\n",
    "for i in range(10, 16):\n",
    "    print(i, end=' ')\n",
    "# Output 10 11 12 13 14 15"
   ]
  },
  {
   "cell_type": "code",
   "execution_count": 9,
   "id": "b368173b",
   "metadata": {},
   "outputs": [
    {
     "name": "stdout",
     "output_type": "stream",
     "text": [
      "10 15 20 25 30 35 40 45 "
     ]
    }
   ],
   "source": [
    "# Numbers from 10 to 15\n",
    "# start = 10\n",
    "# stop = 50\n",
    "# step = 5\n",
    "for i in range(10, 50, 5):\n",
    "    print(i, end=' ')\n",
    "# Output 10 15 20 25 30 35 40 45"
   ]
  },
  {
   "cell_type": "code",
   "execution_count": 10,
   "id": "121b8a0f",
   "metadata": {},
   "outputs": [
    {
     "name": "stdout",
     "output_type": "stream",
     "text": [
      "Current value of i is: 1\n",
      "Current value of i is: 3\n",
      "Current value of i is: 5\n",
      "Current value of i is: 7\n",
      "Current value of i is: 9\n"
     ]
    }
   ],
   "source": [
    "for i in range(1, 10, 2):\n",
    "    print(\"Current value of i is:\", i)"
   ]
  },
  {
   "cell_type": "markdown",
   "id": "be2a6652",
   "metadata": {},
   "source": [
    "#### Iterate a list using range() and for loop"
   ]
  },
  {
   "cell_type": "code",
   "execution_count": 11,
   "id": "2c262978",
   "metadata": {},
   "outputs": [
    {
     "name": "stdout",
     "output_type": "stream",
     "text": [
      "Jessa\n",
      "Emma\n",
      "20\n",
      "30\n",
      "75.5\n"
     ]
    }
   ],
   "source": [
    "list1 = ['Jessa', 'Emma', 20, 30, 75.5]\n",
    "# iterate a list using range()\n",
    "for i in range(len(list1)):\n",
    "    print(list1[i])"
   ]
  },
  {
   "cell_type": "markdown",
   "id": "176406b0",
   "metadata": {},
   "source": [
    "#### Reverse range"
   ]
  },
  {
   "cell_type": "code",
   "execution_count": 28,
   "id": "3619acdf",
   "metadata": {},
   "outputs": [
    {
     "name": "stdout",
     "output_type": "stream",
     "text": [
      "normal\n",
      "1\n",
      "2\n",
      "3\n",
      "4\n",
      "5\n",
      "reverse\n",
      "5\n",
      "4\n",
      "3\n",
      "2\n",
      "1\n",
      "reverse\n",
      "5\n",
      "4\n",
      "3\n",
      "2\n",
      "1\n"
     ]
    }
   ],
   "source": [
    "# normal\n",
    "print(\"normal\")\n",
    "for i in range(1, 6, 1):\n",
    "    print(i)\n",
    "\n",
    "# reverse\n",
    "print(\"reverse\")\n",
    "for i in range(5, 0, -1):\n",
    "    print(i)\n",
    "    \n",
    "# reverse\n",
    "print(\"reverse\")\n",
    "for i in reversed(range(1, 6, 1)):\n",
    "    print(i)"
   ]
  },
  {
   "cell_type": "code",
   "execution_count": 29,
   "id": "e0939fed",
   "metadata": {},
   "outputs": [
    {
     "name": "stdout",
     "output_type": "stream",
     "text": [
      "5\n",
      "4\n",
      "3\n",
      "2\n",
      "1\n",
      "0\n"
     ]
    }
   ],
   "source": [
    "# reverse range using negative step\n",
    "# start = 5\n",
    "# stop = -1\n",
    "# step = -1\n",
    "for i in range(5, -1, -1):\n",
    "    print(i)"
   ]
  },
  {
   "cell_type": "code",
   "execution_count": 31,
   "id": "193fa450",
   "metadata": {},
   "outputs": [
    {
     "name": "stdout",
     "output_type": "stream",
     "text": [
      "20 19 18 17 16 15 14 13 12 11 10 <class 'range'>\n",
      "<class 'range_iterator'>\n"
     ]
    }
   ],
   "source": [
    "# example\n",
    "for i in reversed(range(10, 21)):\n",
    "    print(i, end=' ')\n",
    "# Output 19 18 17 16 15 14 13 12 11 10\n",
    "\n",
    "print(type(range(0, 5)))\n",
    "# Output <class 'range'>\n",
    "\n",
    "print(type(reversed(range(0, 5))))\n",
    "# Output <class 'range_iterator'>"
   ]
  },
  {
   "cell_type": "markdown",
   "id": "40bc31cd",
   "metadata": {},
   "source": [
    "#### Use range() to reverse a list"
   ]
  },
  {
   "cell_type": "code",
   "execution_count": 33,
   "id": "f6b7dd54",
   "metadata": {},
   "outputs": [
    {
     "name": "stdout",
     "output_type": "stream",
     "text": [
      "50 40 30 20 10 "
     ]
    }
   ],
   "source": [
    "list1 = [10, 20, 30, 40, 50]\n",
    "# start = list's size\n",
    "# stop = -1\n",
    "# step = -1\n",
    "\n",
    "# reverse a list\n",
    "for i in range(len(list1) - 1, -1, -1):\n",
    "    print(list1[i], end=\" \")\n",
    "# Output 50 40 30 20 10"
   ]
  },
  {
   "cell_type": "markdown",
   "id": "22647c34",
   "metadata": {},
   "source": [
    "#### Negative range() in Python"
   ]
  },
  {
   "cell_type": "code",
   "execution_count": 34,
   "id": "9dcad10c",
   "metadata": {},
   "outputs": [
    {
     "name": "stdout",
     "output_type": "stream",
     "text": [
      "-1, -2, -3, -4, -5, -6, -7, -8, -9, -10, "
     ]
    }
   ],
   "source": [
    "# negative range from -1 to -10\n",
    "for i in range(-1, -11, -1):\n",
    "    print(i, end=', ')\n",
    "# Output -1, -2, -3, -4, -5, -6, -7, -8, -9, -10"
   ]
  },
  {
   "cell_type": "code",
   "execution_count": 35,
   "id": "72a74602",
   "metadata": {},
   "outputs": [
    {
     "name": "stdout",
     "output_type": "stream",
     "text": [
      "-10, -9, -8, -7, -6, -5, -4, -3, -2, -1, "
     ]
    }
   ],
   "source": [
    "# negative range from -10 to -1\n",
    "# start = -10\n",
    "# stop = 0\n",
    "# step = 1\n",
    "for i in range(-10, 0):\n",
    "    print(i, end=', ')\n",
    "# Output -10, -9, -8, -7, -6, -5, -4, -3, -2, -1,"
   ]
  },
  {
   "cell_type": "markdown",
   "id": "340918d2",
   "metadata": {},
   "source": [
    "#### Convert range() to list"
   ]
  },
  {
   "cell_type": "code",
   "execution_count": 38,
   "id": "be1f248f",
   "metadata": {},
   "outputs": [
    {
     "name": "stdout",
     "output_type": "stream",
     "text": [
      "<class 'list'>\n",
      "[2, 4, 6, 8]\n",
      "2\n",
      "4\n",
      "6\n",
      "8\n",
      "<class 'int'>\n"
     ]
    }
   ],
   "source": [
    "# create list from range()\n",
    "sample_list = list(range(2, 10, 2))\n",
    "print(type(sample_list))\n",
    "# Output <class 'list'>\n",
    "\n",
    "# display list\n",
    "print(sample_list)\n",
    "# Output [2, 4, 6, 8]\n",
    "\n",
    "# iterate list\n",
    "for item in sample_list:\n",
    "    print(item)\n",
    "print(type(item))"
   ]
  },
  {
   "cell_type": "code",
   "execution_count": 39,
   "id": "2bacab59",
   "metadata": {},
   "outputs": [
    {
     "name": "stdout",
     "output_type": "stream",
     "text": [
      "[20, 40, 60, 80, 100, 120, 140, 160, 180]\n"
     ]
    }
   ],
   "source": [
    "# create list from range()\n",
    "sample_list = list(range(10, 100, 10))\n",
    "\n",
    "# iterate and modify list item using range()\n",
    "# double each list number\n",
    "# start = 0, stop = list size, step =1\n",
    "for i in range(0, len(sample_list), 1):\n",
    "    sample_list[i] = sample_list[i] * 2\n",
    "\n",
    "#  display updated list\n",
    "print(sample_list)\n",
    "# Output [20, 40, 60, 80, 100, 120, 140, 160, 180]"
   ]
  },
  {
   "cell_type": "markdown",
   "id": "3f3c9eec",
   "metadata": {},
   "source": [
    "#### Inclusive range"
   ]
  },
  {
   "cell_type": "code",
   "execution_count": 40,
   "id": "6820f836",
   "metadata": {},
   "outputs": [
    {
     "name": "stdout",
     "output_type": "stream",
     "text": [
      "1 2 3 4 5 "
     ]
    }
   ],
   "source": [
    "# inclusive range\n",
    "start = 1\n",
    "stop = 5\n",
    "step = 1\n",
    "\n",
    "# change stop\n",
    "stop += step\n",
    "\n",
    "for i in range(start, stop, step):\n",
    "    print(i, end=' ')\n",
    "# Output 1 2 3 4 5"
   ]
  },
  {
   "cell_type": "markdown",
   "id": "fe29ccb7",
   "metadata": {},
   "source": [
    "#### Concatenating the result of two range()"
   ]
  },
  {
   "cell_type": "code",
   "execution_count": 41,
   "id": "6ba9e54a",
   "metadata": {},
   "outputs": [
    {
     "name": "stdout",
     "output_type": "stream",
     "text": [
      "0 1 2 3 4 5 6 7 8 9 "
     ]
    }
   ],
   "source": [
    "from itertools import chain\n",
    "\n",
    "# Concatenate ranges\n",
    "new_range = chain(range(5), range(5, 10))\n",
    "for num in new_range:\n",
    "    print(num, end=' ')\n",
    "# Output 0 1 2 3 4 5 6 7 8 9"
   ]
  },
  {
   "cell_type": "code",
   "execution_count": null,
   "id": "ad782fd6",
   "metadata": {},
   "outputs": [],
   "source": []
  }
 ],
 "metadata": {
  "kernelspec": {
   "display_name": "Python 3 (ipykernel)",
   "language": "python",
   "name": "python3"
  },
  "language_info": {
   "codemirror_mode": {
    "name": "ipython",
    "version": 3
   },
   "file_extension": ".py",
   "mimetype": "text/x-python",
   "name": "python",
   "nbconvert_exporter": "python",
   "pygments_lexer": "ipython3",
   "version": "3.11.4"
  }
 },
 "nbformat": 4,
 "nbformat_minor": 5
}
